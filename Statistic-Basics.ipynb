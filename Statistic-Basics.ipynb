{
 "cells": [
  {
   "cell_type": "markdown",
   "metadata": {
    "id": "SDhaTqxcWhnP"
   },
   "source": [
    "В цьому домашньому завданні відпрацюємо з вами знання, отримані в модулі зі статистики.\n",
    "\n",
    "**Завдання 1.** Ми обговорили з Вами на лекції, що велика літера Сігма грецького алфавіту позначає в математиці суму. Знайдіть з використанням Python $\\Sigma x$, $\\Sigma x^2$, та $\\Sigma (x-1)^2$ для наступного набору даних:\n",
    "`1 3 4`\n",
    "Виведіть результат кожного обчислення на екран."
   ]
  },
  {
   "cell_type": "code",
   "execution_count": 23,
   "metadata": {
    "id": "B1mgx_IBT0e8"
   },
   "outputs": [
    {
     "name": "stdout",
     "output_type": "stream",
     "text": [
      "Sum of X = 8 \n",
      "Sum square X = 26 \n",
      "Sum square (X - 1) = 13\n"
     ]
    }
   ],
   "source": [
    "x = [1, 3, 4]\n",
    "\n",
    "sum_x = sum(x)\n",
    "sum_square_x = sum([el**2 for el in x])\n",
    "sum_square_x_minus_one = sum([(el-1)**2 for el in x])\n",
    "\n",
    "print(f\"Sum of X = {sum_x} \\nSum square X = {sum_square_x} \\nSum square (X - 1) = {sum_square_x_minus_one}\")"
   ]
  },
  {
   "cell_type": "markdown",
   "metadata": {
    "id": "fa78aW5lhiia"
   },
   "source": [
    "**Завдання 2.** Ми зібрали дані про суму покупок в гривнях 20ма випадково обраними клієнтами в нашому магазині (всього клієнтів у нас більше) за минулий місяць. Вони представлені в змінній `sum_purchases`. Знайдіть **вибіркове середнє** для цих даних кожним з зазначених методів:   \n",
    "\n",
    "  2.1. без використання жодних бібліотек, користуючись тільки Python.  \n",
    "  2.2. використовуючи відповідний метод бібліотеки `numpy`.\n",
    "\n",
    "  Виведіть результат обчислень в кожному з випадків на екран та порівняйте результати. Вони співпадають?"
   ]
  },
  {
   "cell_type": "code",
   "execution_count": 9,
   "metadata": {
    "id": "_9kMt3rq6V5m"
   },
   "outputs": [],
   "source": [
    "sum_purchases = [ 316,  493,  367,  153,  224,  121,  322,  450,  196,  397,  281,\n",
    "  239,  484,  124,  223,  448,  432,  255, 4310, 3524]"
   ]
  },
  {
   "cell_type": "code",
   "execution_count": 16,
   "metadata": {
    "id": "wPmL919HT1c0"
   },
   "outputs": [
    {
     "name": "stdout",
     "output_type": "stream",
     "text": [
      "2.1 Mean sum of purchases Python = 667.95\n",
      "2.2 Mean sum of purchases NumPy = 667.95\n"
     ]
    }
   ],
   "source": [
    "import numpy as np \n",
    "\n",
    "mean_purchases = sum(sum_purchases)/len(sum_purchases)\n",
    "\n",
    "print( f\"\"\"2.1 Mean sum of purchases Python = {mean_purchases}\n",
    "2.2 Mean sum of purchases NumPy = {np.mean(sum_purchases)}\"\"\")"
   ]
  },
  {
   "cell_type": "markdown",
   "metadata": {
    "id": "FMdoxZd0kZdW"
   },
   "source": [
    "**Завдання 3.** Для того ж набору даних в змінній `sum_purchases` обчисліть **медіану** кожним з зазначених методів:  \n",
    "\n",
    "  3.1. без використання жодних бібліотек, користуючись тільки Python.  \n",
    "  3.2. використовуючи відповідний метод бібліотеки numpy.  \n",
    "\n",
    "Виведіть результат обчислень в кожному з випадків на екран. Порівняйте результати зі значенням вибіркового середнього. Напишіть коментар, для яких задач ви б використовували вибіркове середнє, а для яких - медіану?"
   ]
  },
  {
   "cell_type": "code",
   "execution_count": 22,
   "metadata": {
    "id": "x58BumvuT2nl"
   },
   "outputs": [
    {
     "name": "stdout",
     "output_type": "stream",
     "text": [
      "3.1 Median sum of purchases Python = 319.0\n",
      "3.2 Median sum of purchases NumPy = 319.0\n"
     ]
    }
   ],
   "source": [
    "sorted_purchases = sorted(sum_purchases)\n",
    "cnt_purchases = len(sum_purchases)\n",
    "median_purchases = (sorted_purchases[cnt_purchases//2-1] + sorted_purchases[cnt_purchases//2])/2\n",
    "\n",
    "\n",
    "print( f\"\"\"3.1 Median sum of purchases Python = {median_purchases}\n",
    "3.2 Median sum of purchases NumPy = {np.median(sum_purchases)}\"\"\")"
   ]
  },
  {
   "cell_type": "markdown",
   "metadata": {},
   "source": [
    "**Висновок**: Значення вибіркового середнього (668 грн) майже в два рази відрізняється від медіани (319 грн), що свідчить про те що в вибірці по сумі покупок є викиди, а саме покупки на великі суми: 4310 і 3524 грн. В такому випадку (де є присутні викиди) для більш адекватної оцінки середнього краще обирати показник медіани, аніж вибіркове середнє."
   ]
  },
  {
   "cell_type": "markdown",
   "metadata": {
    "id": "o1Z7az2yNDQV"
   },
   "source": [
    "**Завдання 4**. Обчислість стандартне відхилення наведеної вибірки в змінній `sum_purchases` кожним з зазначених методів:  \n",
    "\n",
    "  4.1. без використання жодних бібліотек, користуючись тільки Python.  \n",
    "  4.2. використовуючи відповідний метод бібліотеки numpy.  \n",
    "\n",
    "Виведіть результат обчислень в кожному з випадків на екран."
   ]
  },
  {
   "cell_type": "code",
   "execution_count": 29,
   "metadata": {
    "id": "X4ixtmL2T642"
   },
   "outputs": [
    {
     "name": "stdout",
     "output_type": "stream",
     "text": [
      "4.1 STD of purchases Python = 1124.5433447451132\n",
      "4.2 STD of purchases NumPy = 1124.5433447451132\n"
     ]
    }
   ],
   "source": [
    "purchases_minus_mean = [(el - mean_purchases)**2 for el in sum_purchases]\n",
    "std_purchases_sample = np.sqrt(sum(purchases_minus_mean)/(len(sum_purchases)-1))\n",
    "\n",
    "\n",
    "print( f\"\"\"4.1 STD of purchases Python = {std_purchases_sample}\n",
    "4.2 STD of purchases NumPy = {np.std(sum_purchases, ddof=1)}\"\"\")"
   ]
  },
  {
   "cell_type": "markdown",
   "metadata": {
    "id": "M1ntKTjXLVlH"
   },
   "source": [
    "**Завдання 5**. Ми провели дослідження віку студентів-першокурсників. Виявилось, що\n",
    "- 10 студентів мають вік 16 років\n",
    "- 25 студентів - 17 років\n",
    "- 20 студентів - 18 років\n",
    "- 2 студенти - 20 років\n",
    "\n",
    "Обчислість середнє значення для цієї вибірки будь-яким способом - на чистому Python або з numpy - та виведіть результат на екран."
   ]
  },
  {
   "cell_type": "code",
   "execution_count": 35,
   "metadata": {
    "id": "RdIU4M-7T8R4"
   },
   "outputs": [
    {
     "name": "stdout",
     "output_type": "stream",
     "text": [
      "5.1 Mean student's age Python = 17.280701754385966\n",
      "5.2 Mean student's age NumPy = 17.280701754385966\n"
     ]
    }
   ],
   "source": [
    "students_age = [16]*10 + [17]*25 + [18]*20 + [20]*2\n",
    "students_age_mean = ((16*10) + (17*25) + (18*20) + (20*2))/(10+25+20+2)\n",
    "\n",
    "print( f\"\"\"5.1 Mean student's age Python = {students_age_mean}\n",
    "5.2 Mean student's age NumPy = {np.mean(students_age)}\"\"\")"
   ]
  },
  {
   "cell_type": "markdown",
   "metadata": {
    "id": "Xx8MFkkVM53z"
   },
   "source": [
    "**Завдання 6**. Крім даних про суму покупок, ми зібрали ще дані про кількість відвідувань кожного з кожного покупця, які знаходяться в змінній `visits`. Обчисліть коефіцієнт кореляції Пірсона для суми покупок і кількості відвідувань кожним з зазначених методів:  \n",
    "\n",
    "  6.1. без використання жодних бібліотек, користуючись тільки Python.  \n",
    "  6.2. використовуючи відповідний метод бібліотеки numpy.  \n",
    "  \n",
    "Виведіть результат на екран. Проаналізуйте результат.\n",
    "\n",
    "Виведіть додатково графік розсіювання викликавши код нижче і зробіть заключення, чи варто щось змінити при підрахунку кореляції, аби коефіцієнт Пірсона показував коректну оцінку лінійної залежності?"
   ]
  },
  {
   "cell_type": "code",
   "execution_count": 41,
   "metadata": {
    "id": "4OIGBT7UOWhO"
   },
   "outputs": [],
   "source": [
    "visits = [ 6,  2, 10,  3,  9,  9,  2,  3,  6,  6, 10,  2,  5, 10,  3,  5,  4,\n",
    "        7,  4,  2]\n",
    "mean_visits = np.mean(visits)\n",
    "std_visits_sample = np.std(visits, ddof=1)"
   ]
  },
  {
   "cell_type": "code",
   "execution_count": 44,
   "metadata": {
    "id": "YLNF7VbeT97Q"
   },
   "outputs": [
    {
     "name": "stdout",
     "output_type": "stream",
     "text": [
      "6.1 Correlation btw sum purchases and number of visits in the store Python = -0.30265844687666454\n",
      "6.2 Correlation btw sum purchases and number of visits in the store NumPy = -0.3026584468766646\n"
     ]
    }
   ],
   "source": [
    "xy = [(sum_purchases[i] - mean_purchases)*(visits [i] - mean_visits) for i in range(len(sum_purchases))]\n",
    "cov_xy = sum(xy)/(len(sum_purchases)-1)\n",
    "corr_xy = cov_xy / (std_purchases_sample * std_visits_sample)\n",
    "\n",
    "print( f\"\"\"6.1 Correlation btw sum purchases and number of visits in the store Python = {corr_xy}\n",
    "6.2 Correlation btw sum purchases and number of visits in the store NumPy = {np.corrcoef(sum_purchases,visits)[0][1]}\"\"\")"
   ]
  },
  {
   "cell_type": "code",
   "execution_count": 45,
   "metadata": {
    "colab": {
     "base_uri": "https://localhost:8080/",
     "height": 472
    },
    "id": "gaeoGA-5Prr1",
    "outputId": "0c910a7f-0e96-449a-881d-1efa453b3c8d"
   },
   "outputs": [
    {
     "data": {
      "image/png": "[encoded data removed]",
      "text/plain": [
       "<Figure size 640x480 with 1 Axes>"
      ]
     },
     "metadata": {},
     "output_type": "display_data"
    }
   ],
   "source": [
    "import matplotlib.pyplot as plt\n",
    "\n",
    "plt.scatter(sum_purchases, visits)\n",
    "plt.title('Scatter Plot of Purchases vs. Visits')\n",
    "plt.xlabel('Sum of Purchases')\n",
    "plt.ylabel('Number of Visits');"
   ]
  },
  {
   "cell_type": "code",
   "execution_count": 65,
   "metadata": {},
   "outputs": [
    {
     "data": {
      "image/png": "[encoded data removed]",
      "text/plain": [
       "<Figure size 640x480 with 1 Axes>"
      ]
     },
     "metadata": {},
     "output_type": "display_data"
    }
   ],
   "source": [
    "plt.scatter(sum_purchases[:len(sum_purchases)-2], visits[:len(visits)-2])\n",
    "plt.title('Scatter Plot of Purchases vs. Visits without Outliers')\n",
    "plt.xlabel('Sum of Purchases')\n",
    "plt.ylabel('Number of Visits');"
   ]
  },
  {
   "cell_type": "code",
   "execution_count": 55,
   "metadata": {},
   "outputs": [
    {
     "name": "stdout",
     "output_type": "stream",
     "text": [
      "Correlation btw sum purchases and number of visits withou outliers = -0.3685212078127798\n"
     ]
    }
   ],
   "source": [
    "print(\"Correlation btw sum purchases and number of visits without outliers =\", \n",
    "      np.corrcoef(sum_purchases[:len(sum_purchases)-2], visits[:len(visits)-2])[0][1])"
   ]
  },
  {
   "cell_type": "markdown",
   "metadata": {},
   "source": [
    "**Висновки**: \n",
    "З візуалізації діаграми розсіювання суми покупок в залежності від кількості візитів покупця ми побачили наявність двох викидів по сумі покупок, що заважали оцінити ситуацію більш корректно. Тому я прибрала викиди і отримала більш точне значення кореляції, а саме -0.37. Зауважу, що з викидами коеф. корреляції становив -0.30. Тобто тепер ми прибрали незрозумілість в наших даних, і отримали вищий показник лінійної залежності між змінними.\n",
    "\n",
    "Значення кореляції між сумою покупок та кількістю відвідувань - від'ємне, а це означає, що можливо є певна тенденція для покупців, які витрачають більше грошей відвідувати магазин рідше, але така лінійна залежність не досить сильна і скадає лише 37%. Також варто врахувати, що для більшої ясності можна розглянути додаткові фактори, такі як місце знаходження магазину, або сезонність і свята."
   ]
  },
  {
   "cell_type": "markdown",
   "metadata": {
    "id": "4pEg0KzSQ6KA"
   },
   "source": [
    "**Завдання 7**. В попередньому завданні ми помітили, що викиди нам заважають отримати \"правдиве\" значення кореляції. Давайте вилучимо записи, які відповідають значенням з викидами в сумі покупок і обчисліть коеф. кореляції. Для цього поставте `threshold`, який дорінює середньому значенню + 2 стандартних вдіхилля суми покупок і всі значення, які більше за нього, будемо вважати викидами (є і інші правила для визначення викидів - з ним и познайомимось пізніше).\n",
    "\n",
    "Вилучіть значення з обох масивів і обчисліть коеф. кореляції Пірсона з допомогою `numpy` для кількості візитів і суми покупок без записів-викидів. Виведіть результат на екран, побудуйте діаграму розсіювання і проаналізуйте результат: що можемо сказати про залежність в даних?"
   ]
  },
  {
   "cell_type": "code",
   "execution_count": 64,
   "metadata": {
    "id": "Yj3Yfaf7UBbc"
   },
   "outputs": [
    {
     "name": "stdout",
     "output_type": "stream",
     "text": [
      "The threshold is equal to 2917.0366894902263\n"
     ]
    }
   ],
   "source": [
    "threshold = mean_purchases + 2 * std_purchases_sample\n",
    "print(f\"The threshold is equal to {threshold}\")"
   ]
  },
  {
   "cell_type": "code",
   "execution_count": 59,
   "metadata": {},
   "outputs": [],
   "source": [
    "sum_purchases_wo_outliers = [el for el in sum_purchases if el < threshold]\n",
    "outliers_idx = [i for i, el in enumerate(sum_purchases) if el >= threshold]\n",
    "visits_wo_outliers = [visits[i] for i in range(len(visits)) if i not in outliers_idx]"
   ]
  },
  {
   "cell_type": "code",
   "execution_count": 63,
   "metadata": {},
   "outputs": [
    {
     "name": "stdout",
     "output_type": "stream",
     "text": [
      "Correlation btw sum purchases and number of visits without outliers (threshold) = -0.3685212078127798\n"
     ]
    }
   ],
   "source": [
    "print(\"Correlation btw sum purchases and number of visits without outliers (threshold) =\", \n",
    "      np.corrcoef(sum_purchases_wo_outliers, visits_wo_outliers)[0][1])"
   ]
  },
  {
   "cell_type": "code",
   "execution_count": 67,
   "metadata": {},
   "outputs": [
    {
     "data": {
      "image/png": "[encoded data removed]",
      "text/plain": [
       "<Figure size 640x480 with 1 Axes>"
      ]
     },
     "metadata": {},
     "output_type": "display_data"
    }
   ],
   "source": [
    "plt.scatter(sum_purchases_wo_outliers, visits_wo_outliers)\n",
    "plt.title('Scatter Plot of Purchases vs. Visits without Outliers (threshold)')\n",
    "plt.xlabel('Sum of Purchases')\n",
    "plt.ylabel('Number of Visits');"
   ]
  },
  {
   "cell_type": "markdown",
   "metadata": {},
   "source": [
    "**Висновки**: Лініна залежність між змінними сума покупок і кількість візитів покупця становить 37%. Так як максимальна можлива лінійна залежність становить 100%, то можемо зробити висновки, що лінійна залежність між сумою покупок і кількість візитів покупця існує, але вона не достатньо висока, щоб описати одну змінну за допомогою іншої. Значення кореляції між сумою покупок та кількістю відвідувань - від'ємне, а це означає, що можливо є певна тенденція для покупців, які витрачають більше грошей відвідувати магазин рідше. "
   ]
  }
 ],
 "metadata": {
  "colab": {
   "provenance": []
  },
  "kernelspec": {
   "display_name": "Python 3 (ipykernel)",
   "language": "python",
   "name": "python3"
  },
  "language_info": {
   "codemirror_mode": {
    "name": "ipython",
    "version": 3
   },
   "file_extension": ".py",
   "mimetype": "text/x-python",
   "name": "python",
   "nbconvert_exporter": "python",
   "pygments_lexer": "ipython3",
   "version": "3.9.13"
  }
 },
 "nbformat": 4,
 "nbformat_minor": 1
}
