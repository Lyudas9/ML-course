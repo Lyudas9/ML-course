{
 "cells": [
  {
   "cell_type": "markdown",
   "metadata": {
    "id": "QVNVsLwJvV9S"
   },
   "source": [
    "Давайте подивимося, як LSTM можна використовувати для побудови нейронної мережі прогнозування часових.\n",
    "\n",
    "Будемо працювати з задачею прогнозування кількості пасажирів міжнародних авіаліній. З цим набором даних ми вже працювали в лекції \"Time Series Analysis\" і ви зможете порівняти результати :)\n",
    "\n",
    "Задача полягає в тому, щоб за заданими роком і місяцем передбачити кількість пасажирів міжнародних авіаліній в одиницях виміру 1,000. Дані охоплюють період з січня 1949 року по грудень 1960 року, тобто 12 років, зі 144 спостереженнями.\n",
    "\n",
    "Це регресійна задача. Тобто, знаючи кількість пасажирів (в тисячах) за останні місяці, можна передбачити, якою буде кількість пасажирів у наступному місяці. Набір даних має лише одну характеристику: \"Кількість пасажирів\" - `Passengers`.\n",
    "\n",
    "Далі вже наведений код для читання даних, але нам їх ще треба буде трошки обробити."
   ]
  },
  {
   "cell_type": "code",
   "execution_count": 1,
   "metadata": {},
   "outputs": [],
   "source": [
    "import pandas as pd\n",
    "import numpy as np\n",
    "from matplotlib import pyplot as plt\n",
    "import torch\n",
    "import torch.nn as nn\n",
    "from torch.utils.data import DataLoader, TensorDataset\n",
    "import torch.optim as optim\n",
    "import matplotlib.pyplot as plt\n",
    "import matplotlib.ticker as ticker"
   ]
  },
  {
   "cell_type": "code",
   "execution_count": 2,
   "metadata": {
    "colab": {
     "base_uri": "https://localhost:8080/",
     "height": 238
    },
    "id": "hw3dGYsyluYm",
    "outputId": "a3a3b30e-a1a9-4d28-dd1a-3e5b5e242206"
   },
   "outputs": [
    {
     "data": {
      "text/html": [
       "<div>\n",
       "<style scoped>\n",
       "    .dataframe tbody tr th:only-of-type {\n",
       "        vertical-align: middle;\n",
       "    }\n",
       "\n",
       "    .dataframe tbody tr th {\n",
       "        vertical-align: top;\n",
       "    }\n",
       "\n",
       "    .dataframe thead th {\n",
       "        text-align: right;\n",
       "    }\n",
       "</style>\n",
       "<table border=\"1\" class=\"dataframe\">\n",
       "  <thead>\n",
       "    <tr style=\"text-align: right;\">\n",
       "      <th></th>\n",
       "      <th>Passengers</th>\n",
       "    </tr>\n",
       "    <tr>\n",
       "      <th>Month</th>\n",
       "      <th></th>\n",
       "    </tr>\n",
       "  </thead>\n",
       "  <tbody>\n",
       "    <tr>\n",
       "      <th>1949-01</th>\n",
       "      <td>112</td>\n",
       "    </tr>\n",
       "    <tr>\n",
       "      <th>1949-02</th>\n",
       "      <td>118</td>\n",
       "    </tr>\n",
       "    <tr>\n",
       "      <th>1949-03</th>\n",
       "      <td>132</td>\n",
       "    </tr>\n",
       "    <tr>\n",
       "      <th>1949-04</th>\n",
       "      <td>129</td>\n",
       "    </tr>\n",
       "    <tr>\n",
       "      <th>1949-05</th>\n",
       "      <td>121</td>\n",
       "    </tr>\n",
       "  </tbody>\n",
       "</table>\n",
       "</div>"
      ],
      "text/plain": [
       "         Passengers\n",
       "Month              \n",
       "1949-01         112\n",
       "1949-02         118\n",
       "1949-03         132\n",
       "1949-04         129\n",
       "1949-05         121"
      ]
     },
     "metadata": {},
     "output_type": "display_data"
    }
   ],
   "source": [
    "# Завантаження даних\n",
    "url = \"https://raw.githubusercontent.com/jbrownlee/Datasets/master/airline-passengers.csv\"\n",
    "df = pd.read_csv(url)\n",
    "df.set_index('Month', inplace=True)\n",
    "display(df.head())"
   ]
  },
  {
   "cell_type": "code",
   "execution_count": 3,
   "metadata": {},
   "outputs": [
    {
     "data": {
      "text/plain": [
       "Passengers    int64\n",
       "dtype: object"
      ]
     },
     "execution_count": 3,
     "metadata": {},
     "output_type": "execute_result"
    }
   ],
   "source": [
    "df.dtypes"
   ]
  },
  {
   "cell_type": "markdown",
   "metadata": {
    "id": "BCcNvF28wSH3"
   },
   "source": [
    "**Завдання 1.** Створіть змінну типу `numpy.ndarray`, яка містить значення кількості пасажирів в форматі `float32`. Такий формат даних нам треба для тренування нейромережі."
   ]
  },
  {
   "cell_type": "code",
   "execution_count": 4,
   "metadata": {
    "id": "7PcJkPAoBOH5"
   },
   "outputs": [],
   "source": [
    "passengers = np.array(df['Passengers'], dtype=np.float32)"
   ]
  },
  {
   "cell_type": "code",
   "execution_count": 5,
   "metadata": {},
   "outputs": [
    {
     "data": {
      "text/plain": [
       "array([112., 118., 132., 129., 121., 135., 148., 148., 136., 119., 104.,\n",
       "       118., 115., 126., 141., 135., 125., 149., 170., 170., 158., 133.,\n",
       "       114., 140., 145., 150., 178., 163., 172., 178., 199., 199., 184.,\n",
       "       162., 146., 166., 171., 180., 193., 181., 183., 218., 230., 242.,\n",
       "       209., 191., 172., 194., 196., 196., 236., 235., 229., 243., 264.,\n",
       "       272., 237., 211., 180., 201., 204., 188., 235., 227., 234., 264.,\n",
       "       302., 293., 259., 229., 203., 229., 242., 233., 267., 269., 270.,\n",
       "       315., 364., 347., 312., 274., 237., 278., 284., 277., 317., 313.,\n",
       "       318., 374., 413., 405., 355., 306., 271., 306., 315., 301., 356.,\n",
       "       348., 355., 422., 465., 467., 404., 347., 305., 336., 340., 318.,\n",
       "       362., 348., 363., 435., 491., 505., 404., 359., 310., 337., 360.,\n",
       "       342., 406., 396., 420., 472., 548., 559., 463., 407., 362., 405.,\n",
       "       417., 391., 419., 461., 472., 535., 622., 606., 508., 461., 390.,\n",
       "       432.], dtype=float32)"
      ]
     },
     "execution_count": 5,
     "metadata": {},
     "output_type": "execute_result"
    }
   ],
   "source": [
    "passengers"
   ]
  },
  {
   "cell_type": "markdown",
   "metadata": {
    "id": "Vms2Pxp1xCrB"
   },
   "source": [
    "Очікуваний результат:\n",
    "```array([112., 118., 132., 129., 121.], dtype=float32)```"
   ]
  },
  {
   "cell_type": "markdown",
   "metadata": {
    "id": "vESTxq-OxLRK"
   },
   "source": [
    "**Завдання 2**. Розбийте дані на тренувальні і валідаційні у співвідношенні 67% йде у тренування, 33 - у валідацію. Памʼятаємо, що ми працюємо з tim series, відповідно, навчаємось на давніших, валідуємось - на новіших."
   ]
  },
  {
   "cell_type": "code",
   "execution_count": 6,
   "metadata": {
    "id": "USpGte_tBPR1"
   },
   "outputs": [
    {
     "data": {
      "text/plain": [
       "(array([112., 118., 132., 129., 121., 135., 148., 148., 136., 119., 104.,\n",
       "        118., 115., 126., 141., 135., 125., 149., 170., 170., 158., 133.,\n",
       "        114., 140., 145., 150., 178., 163., 172., 178., 199., 199., 184.,\n",
       "        162., 146., 166., 171., 180., 193., 181., 183., 218., 230., 242.,\n",
       "        209., 191., 172., 194., 196., 196., 236., 235., 229., 243., 264.,\n",
       "        272., 237., 211., 180., 201., 204., 188., 235., 227., 234., 264.,\n",
       "        302., 293., 259., 229., 203., 229., 242., 233., 267., 269., 270.,\n",
       "        315., 364., 347., 312., 274., 237., 278., 284., 277., 317., 313.,\n",
       "        318., 374., 413., 405., 355., 306., 271., 306.], dtype=float32),\n",
       " array([315., 301., 356., 348., 355., 422., 465., 467., 404., 347., 305.,\n",
       "        336., 340., 318., 362., 348., 363., 435., 491., 505., 404., 359.,\n",
       "        310., 337., 360., 342., 406., 396., 420., 472., 548., 559., 463.,\n",
       "        407., 362., 405., 417., 391., 419., 461., 472., 535., 622., 606.,\n",
       "        508., 461., 390., 432.], dtype=float32))"
      ]
     },
     "execution_count": 6,
     "metadata": {},
     "output_type": "execute_result"
    }
   ],
   "source": [
    "train_size = int(len(passengers) * 0.67)\n",
    "\n",
    "train_data = passengers[:train_size]\n",
    "validation_data = passengers[train_size:]\n",
    "\n",
    "train_data, validation_data"
   ]
  },
  {
   "cell_type": "markdown",
   "metadata": {
    "id": "YB-e-vEDx3bn"
   },
   "source": [
    "**Завдання 3**.\n",
    "\n",
    "Реалізуйте функцію `create_dataset`, яка перетворить одномірний часовий ряд (набір даних) у формат, придатний для тренування нейромережі.\n",
    "\n",
    "Функція повинна приймати два аргументи:\n",
    "- `dataset` — numpy-масив часового ряду,\n",
    "- `lookback` — кількість попередніх кроків, які використовуватимуться для передбачення.\n",
    "\n",
    "Функція повинна повернути два **тензори** PyTorch:\n",
    "- `X` — набір ознак (вікно попередніх значень),\n",
    "- `y` — цільові значення (наступні після вікна кроки).\n",
    "\n",
    "Дані ми будемо подавати моделі в наступному форматі:\n",
    "`\n",
    "tensor([[112.],\n",
    "        [118.],\n",
    "        [132.],\n",
    "        [129.],\n",
    "        [121.]])\n",
    "`\n",
    "Відповідно першою розмірністю буде йти розмір вхідного батча, а другою - розмір вхіднизх даних і в нас це 1, бо лише одне значення на вході щоразу.\n",
    "\n",
    "Після виконання завдання запустіть код нижче. Ми будемо передбачати на основі кількості пасажирів в попередній день кількість пасажирів в наступний, тому `lookback == 1`."
   ]
  },
  {
   "cell_type": "code",
   "execution_count": 7,
   "metadata": {
    "id": "s5UXOiAHBVwe"
   },
   "outputs": [],
   "source": [
    "def create_dataset(dataset, lookback):\n",
    "    X, y = [], []\n",
    "    for i in range(len(dataset) - lookback):\n",
    "        window = dataset[i:(i + lookback)]\n",
    "        X.append(window)\n",
    "        y.append(dataset[i + lookback])\n",
    "    \n",
    "    X = torch.tensor(X).float().unsqueeze(-1)\n",
    "    y = torch.tensor(y).float().unsqueeze(-1)\n",
    "    \n",
    "    return X, y"
   ]
  },
  {
   "cell_type": "code",
   "execution_count": 8,
   "metadata": {
    "colab": {
     "base_uri": "https://localhost:8080/"
    },
    "id": "dA8FwOfwuPyl",
    "outputId": "b4bd6a9a-f611-4f81-eceb-7c9e17c8dab6"
   },
   "outputs": [
    {
     "name": "stdout",
     "output_type": "stream",
     "text": [
      "torch.Size([95, 1, 1]) torch.Size([95, 1])\n",
      "torch.Size([47, 1, 1]) torch.Size([47, 1])\n"
     ]
    },
    {
     "name": "stderr",
     "output_type": "stream",
     "text": [
      "C:\\Users\\lyuda\\AppData\\Local\\Temp\\ipykernel_35772\\2538749688.py:8: UserWarning: Creating a tensor from a list of numpy.ndarrays is extremely slow. Please consider converting the list to a single numpy.ndarray with numpy.array() before converting to a tensor. (Triggered internally at C:\\actions-runner\\_work\\pytorch\\pytorch\\builder\\windows\\pytorch\\torch\\csrc\\utils\\tensor_new.cpp:281.)\n",
      "  X = torch.tensor(X).float().unsqueeze(-1)\n"
     ]
    }
   ],
   "source": [
    "lookback = 1\n",
    "X_train, y_train = create_dataset(train_data, lookback=lookback)\n",
    "X_test, y_test = create_dataset(validation_data, lookback=lookback)\n",
    "print(X_train.shape, y_train.shape)\n",
    "print(X_test.shape, y_test.shape)"
   ]
  },
  {
   "cell_type": "markdown",
   "metadata": {
    "id": "dvEA-D-SzcWf"
   },
   "source": [
    "Очікуваний результат:\n",
    "```\n",
    "torch.Size([95, 1]) torch.Size([95, 1])\n",
    "torch.Size([47, 1]) torch.Size([47, 1])\n",
    "```"
   ]
  },
  {
   "cell_type": "markdown",
   "metadata": {
    "id": "eeiFJ-jDznj5"
   },
   "source": [
    "**Завдання 4**.\n",
    "\n",
    "Зверніть увагу на розмірності в попередньому завданні. Ми\n",
    "З допомогою модуля `torch.nn` опишіть клас `AirModel`, який є нейронною мережею для прогнозування кількості пасажирів за допомогою LSTM.\n",
    "\n",
    "1. **Конструктор класу** повинен приймати параметри `hidden_size`, `num_layers` та ініціювати шари:\n",
    "   - LSTM-шар з наступними параметрами:\n",
    "     - `input_size` — кожна точка часового ряду є окремим входом,,\n",
    "     - `hidden_size` — заданий в конструкторі класу мережі,\n",
    "     - `num_layers=1` — кількість шарів LSTM, задана в конструкторі мережі,\n",
    "     - `batch_first=True` — визначає, що першим виміром є розмір батчу.\n",
    "   - Лінійний шар (`nn.Linear`) для перетворення виходу LSTM на прогноз однієї точки.\n",
    "\n",
    "2. **Метод forward** повинен виконувати наступні дії:\n",
    "   - Передати вхідний тензор через LSTM-шар і отримати виходи (ігноруючи приховані стани).\n",
    "   - Пропустити вихід LSTM через лінійний шар для отримання остаточного прогнозу.\n",
    "\n",
    "Створіть об'єкт класу `AirModel` зі значеннями параметрів `hidden_size=50`, `num_layers=1` і протестуйте роботу моделі на вхідному тензорі `tensor([[112.]])`. На цьому етапі ми маємо переконатись, що модель здатна генерувати передбачення з рандомно ініційованими вагами."
   ]
  },
  {
   "cell_type": "code",
   "execution_count": 9,
   "metadata": {
    "id": "dcafrsmrDHsz"
   },
   "outputs": [
    {
     "name": "stdout",
     "output_type": "stream",
     "text": [
      "tensor([[-0.2974]], grad_fn=<AddmmBackward0>)\n"
     ]
    }
   ],
   "source": [
    "class AirModel(nn.Module):\n",
    "    def __init__(self, input_dim, hidden_dim, layer_dim, output_dim):\n",
    "        super(AirModel, self).__init__()\n",
    "        self.hidden_dim = hidden_dim\n",
    "        self.layer_dim = layer_dim\n",
    "\n",
    "        # LSTM шар\n",
    "        self.lstm = nn.LSTM(input_dim, hidden_dim, layer_dim, batch_first=True)\n",
    "\n",
    "        # Лінійний шар для регресії\n",
    "        self.fc = nn.Linear(hidden_dim, output_dim)\n",
    "\n",
    "    def forward(self, x):\n",
    "        out, _ = self.lstm(x)\n",
    "        \n",
    "        out = self.fc(out[:, -1, :])\n",
    "        \n",
    "        return out\n",
    "\n",
    "# Створюємо модель з параметрами\n",
    "input_dim = 1\n",
    "hidden_dim = 50\n",
    "layer_dim = 1\n",
    "output_dim = 1\n",
    "\n",
    "model = AirModel(input_dim, hidden_dim, layer_dim, output_dim)\n",
    "\n",
    "# Тестуємо модель на вхідному тензорі\n",
    "input_tensor = torch.tensor([[112.]]).float().unsqueeze(0)\n",
    "output = model(input_tensor)\n",
    "\n",
    "print(output)"
   ]
  },
  {
   "cell_type": "markdown",
   "metadata": {
    "id": "-R6zv9nu2tWB"
   },
   "source": [
    "**Завдання 5**.\n",
    "\n",
    "Створіть об'єкт DataLoader для завантаження даних, використовуючи тренувальні вибірки `X_train` та `y_train`. Ваш DataLoader повинен виконувати наступні вимоги:\n",
    "\n",
    "1. Використовувати клас `TensorDataset`, щоб об'єднати тензори ознак `X_train` і цільових значень `y_train`.\n",
    "2. Дані повинні завантажуватися невеликими батчами розміром 8 за допомогою параметра `batch_size`.\n",
    "3. Використовувати параметр `shuffle=True`, щоб дані перемішувалися перед кожною епохою тренування.\n"
   ]
  },
  {
   "cell_type": "code",
   "execution_count": 10,
   "metadata": {
    "id": "WKdkptY7DMAc"
   },
   "outputs": [
    {
     "data": {
      "text/plain": [
       "[tensor([[[118.]],\n",
       " \n",
       "         [[204.]],\n",
       " \n",
       "         [[284.]],\n",
       " \n",
       "         [[133.]],\n",
       " \n",
       "         [[118.]],\n",
       " \n",
       "         [[172.]],\n",
       " \n",
       "         [[171.]],\n",
       " \n",
       "         [[188.]]]),\n",
       " tensor([[132.],\n",
       "         [188.],\n",
       "         [277.],\n",
       "         [114.],\n",
       "         [115.],\n",
       "         [194.],\n",
       "         [180.],\n",
       "         [235.]])]"
      ]
     },
     "execution_count": 10,
     "metadata": {},
     "output_type": "execute_result"
    }
   ],
   "source": [
    "# Визначаємо dataset\n",
    "train_dataset = TensorDataset(X_train, y_train)\n",
    "\n",
    "\n",
    "# Визначаємо data loader\n",
    "batch_size = 8\n",
    "train_loader = DataLoader(train_dataset, batch_size, shuffle=True)\n",
    "next(iter(train_loader))"
   ]
  },
  {
   "cell_type": "markdown",
   "metadata": {
    "id": "6ZaGh7IF2nfT"
   },
   "source": [
    "**Завдання 6**.\n",
    "\n",
    "1. Реалізуйте навчання нейронної мережі `AirModel` для прогнозування часових рядів, використовуючи Adam-оптимізатор та функцію втрат MSE (середньоквадратичну похибку).\n",
    "2. Створіть цикл тренування для 2000 епох, у якому на кожній епосі:\n",
    "   - Виконуйте крок тренування моделі (прямий прохід, обчислення похибки, зворотний прохід і оновлення ваг).\n",
    "   - Підраховуйте середню похибку на кожному батчі даних і зберігайте її у списку `losses`.\n",
    "3. Раз на 100 епох проводьте валідацію моделі:\n",
    "   - Перевіряйте модель на тренувальних та тестових даних без оновлення ваг.\n",
    "   - Обчислюйте корінь середньоквадратичної похибки (RMSE) для тренувальної та тестової вибірок і виводьте результати на екран.\n",
    "   \n",
    "**Примітка:**\n",
    "- Використовуйте вже створений `DataLoader` для отримання батчів даних.\n",
    "- Валідацію виконуйте в режимі `eval()`, вимикаючи обчислення градієнтів з `torch.no_grad()`.\n",
    "\n",
    "**Приклад виходу:**\n",
    "```\n",
    "Epoch 0: train RMSE 12.3456, test RMSE 15.6789\n",
    "Epoch 100: train RMSE 9.8765, test RMSE 12.3456\n",
    "...\n",
    "```"
   ]
  },
  {
   "cell_type": "code",
   "execution_count": 11,
   "metadata": {},
   "outputs": [
    {
     "name": "stdout",
     "output_type": "stream",
     "text": [
      "Epoch 0: train RMSE 226.3168, test RMSE 422.7295\n",
      "Epoch 100: train RMSE 186.5435, test RMSE 381.1243\n",
      "Epoch 200: train RMSE 154.6402, test RMSE 346.7843\n",
      "Epoch 300: train RMSE 126.7136, test RMSE 315.2329\n",
      "Epoch 400: train RMSE 103.3960, test RMSE 286.4034\n",
      "Epoch 500: train RMSE 88.6383, test RMSE 260.5383\n",
      "Epoch 600: train RMSE 83.1780, test RMSE 235.7191\n",
      "Epoch 700: train RMSE 82.5798, test RMSE 212.7262\n",
      "Epoch 800: train RMSE 84.4772, test RMSE 192.0923\n",
      "Epoch 900: train RMSE 86.6161, test RMSE 173.7055\n",
      "Epoch 1000: train RMSE 89.8711, test RMSE 158.0636\n",
      "Epoch 1100: train RMSE 91.8529, test RMSE 145.1505\n",
      "Epoch 1200: train RMSE 92.3324, test RMSE 134.9255\n",
      "Epoch 1300: train RMSE 93.4276, test RMSE 126.2347\n",
      "Epoch 1400: train RMSE 95.4274, test RMSE 120.7092\n",
      "Epoch 1500: train RMSE 93.9141, test RMSE 118.4290\n",
      "Epoch 1600: train RMSE 95.3309, test RMSE 113.3554\n",
      "Epoch 1700: train RMSE 94.5022, test RMSE 111.8589\n",
      "Epoch 1800: train RMSE 97.4421, test RMSE 106.1163\n",
      "Epoch 1900: train RMSE 96.4211, test RMSE 105.1321\n"
     ]
    }
   ],
   "source": [
    "# Визначаємо функцію для обчислення RMSE\n",
    "def compute_rmse(preds, targets):\n",
    "    return torch.sqrt(torch.mean((preds - targets) ** 2))\n",
    "\n",
    "# Ініціалізація Adam-оптимізатора та функції втрат MSE\n",
    "criterion = nn.MSELoss()\n",
    "optimizer = optim.Adam(model.parameters(), lr=0.001)\n",
    "\n",
    "\n",
    "def train(model, train_loader, optimizer, criterion):\n",
    "    model.train()  # Включаємо режим тренування\n",
    "    train_loss = 0.0\n",
    "    \n",
    "    for X_batch, y_batch in train_loader:\n",
    "        # Прямий прохід\n",
    "        optimizer.zero_grad()\n",
    "        output = model(X_batch)\n",
    "        \n",
    "        # Обчислюємо втрату\n",
    "        loss = criterion(output, y_batch)\n",
    "        \n",
    "        # Зворотний прохід\n",
    "        loss.backward()\n",
    "        \n",
    "        # Оновлюємо ваги\n",
    "        optimizer.step()\n",
    "        \n",
    "        # Додаємо втрату для обчислення середньої похибки\n",
    "        train_loss += loss.item()\n",
    "    \n",
    "    # Середня втрата на кожній епосі\n",
    "    avg_train_loss = train_loss / len(train_loader)\n",
    "    \n",
    "    return avg_train_loss\n",
    "\n",
    "\n",
    "# Основний цикл тренування\n",
    "n_epochs = 2000\n",
    "losses = []\n",
    "\n",
    "for epoch in range(n_epochs):\n",
    "    avg_train_loss = train(model, train_loader, optimizer, criterion)  # Викликаємо функцію тренування\n",
    "    losses.append(avg_train_loss)\n",
    "\n",
    "    # Валідація моделі кожні 100 епох\n",
    "    if epoch % 100 == 0:\n",
    "        model.eval()  # Включаємо режим оцінки\n",
    "\n",
    "        with torch.no_grad():  # Вимикаємо обчислення градієнтів\n",
    "            # Прогноз на тренувальних даних\n",
    "            train_preds = model(X_train).squeeze(-1)\n",
    "            train_rmse = compute_rmse(train_preds, y_train)\n",
    "            \n",
    "            # Прогноз на тестових даних\n",
    "            test_preds = model(X_test).squeeze(-1)\n",
    "            test_rmse = compute_rmse(test_preds, y_test)\n",
    "        \n",
    "        print(f\"Epoch {epoch}: train RMSE {train_rmse.item():.4f}, test RMSE {test_rmse.item():.4f}\")"
   ]
  },
  {
   "cell_type": "markdown",
   "metadata": {
    "id": "m0sIo4kp5X_s"
   },
   "source": [
    "**Завдання 7.** Побудуйте графік лосів. Зробіть висновок з графіку, чи навчилась модель?"
   ]
  },
  {
   "cell_type": "code",
   "execution_count": 12,
   "metadata": {
    "id": "AS2USLRq76up"
   },
   "outputs": [
    {
     "data": {
      "image/png": "[encoded data removed]",
      "text/plain": [
       "<Figure size 640x480 with 1 Axes>"
      ]
     },
     "metadata": {},
     "output_type": "display_data"
    }
   ],
   "source": [
    "plt.plot(losses);"
   ]
  },
  {
   "cell_type": "markdown",
   "metadata": {
    "id": "8eBoUQVB5p0h"
   },
   "source": [
    "Модель навчилась, але не факт, що точно)"
   ]
  },
  {
   "cell_type": "markdown",
   "metadata": {
    "id": "-vCiGfQw7sEK"
   },
   "source": [
    "Доволі неочікувано, що середньоквадратичне відхилення тестового набору даних буде на порядок більшим за одиниці в нашому наборі даних. Середньоквадратичне відхилення 100 означає, що прогноз і фактичне значення будуть відрізнятися в середньому на 100 (тобто, 100 000 пасажирів у цьому наборі даних).\n",
    "\n"
   ]
  },
  {
   "cell_type": "markdown",
   "metadata": {
    "id": "bgtO7NZh77vU"
   },
   "source": [
    "Щоб краще зрозуміти якість прогнозу, ви можете побудувати графік з кодом нижче (а ще нижче - описано, що відбувається в цьому коді, бо це теж корисно зрозуміти):"
   ]
  },
  {
   "cell_type": "code",
   "execution_count": 13,
   "metadata": {
    "id": "ZznU2AK0vES5"
   },
   "outputs": [
    {
     "data": {
      "image/png": "[encoded data removed]",
      "text/plain": [
       "<Figure size 640x480 with 1 Axes>"
      ]
     },
     "metadata": {},
     "output_type": "display_data"
    }
   ],
   "source": [
    "def plot_predicts():\n",
    "    with torch.no_grad():\n",
    "        # Зсув прогнозів для тренувальних даних\n",
    "        train_plot = np.ones_like(passengers) * np.nan\n",
    "        y_pred = model(X_train)\n",
    "        y_pred = y_pred[:, -1]\n",
    "        train_plot[lookback:train_size] = model(X_train)[:, -1]\n",
    "\n",
    "        # Зсув прогнозів для тестових даних\n",
    "        test_plot = np.ones_like(passengers) * np.nan\n",
    "        test_plot[train_size+lookback:len(passengers)] = model(X_test)[:, -1]\n",
    "\n",
    "    # Візуалізація результатів\n",
    "    plt.plot(passengers, c='b')  # Реальні дані\n",
    "    plt.plot(train_plot, c='r')  # Прогнози на тренувальних даних\n",
    "    plt.plot(test_plot, c='g')   # Прогнози на тестових даних\n",
    "    plt.show()\n",
    "\n",
    "plot_predicts()"
   ]
  },
  {
   "cell_type": "markdown",
   "metadata": {
    "id": "ahPW3iiJDg1R"
   },
   "source": [
    "**Що відбувається в коді вище.** В цьому коді здійснюється процес прогнозування часових рядів за допомогою LSTM моделі, а також виведення графіку, який показує реальні значення, тренувальні та тестові прогнози. Ось що відбувається на кожному етапі:\n",
    "\n",
    "1. **`torch.no_grad()`**: Цей контекстний менеджер вимикає обчислення градієнтів, що означає, що під час прогнозування не будуть зберігатися проміжні обчислення для зворотного проходу (backpropagation). Це підвищує ефективність під час прогнозування і зменшує використання пам'яті.\n",
    "\n",
    "2. **Зсув прогнозів для тренувальних даних:**\n",
    "   - Створюється масив `train_plot`, який має такий самий розмір, як і часовий ряд (`timeseries`), і заповнюється значеннями NaN (`np.nan`), щоб залишити місце для реальних значень.\n",
    "   - Модель передбачає виходи для тренувальних даних `X_train`.\n",
    "   - Використовується лише останнє передбачене значення для кожного входу LSTM (`y_pred[:, -1]`).\n",
    "   - Прогнози зсуваються, починаючи з індексу `lookback` до кінця тренувальних даних (індекс `train_size`). Цей зсув потрібен, щоб зробити прогноз на основі попередніх даних і відобразити його на правильній частині графіку.\n",
    "\n",
    "3. **Зсув прогнозів для тестових даних:**\n",
    "   - Створюється масив `test_plot`, який також заповнюється NaN.\n",
    "   - Прогнози для тестових даних додаються з індексу `train_size + lookback` до кінця реальних даних, щоб відобразити, де модель починає прогнозувати тестову вибірку.\n",
    "\n",
    "4. **Побудова графіка:**\n",
    "   - `plt.plot(timeseries, c='b')`: Виводить реальні значення часового ряду (синя лінія).\n",
    "   - `plt.plot(train_plot, c='r')`: Виводить тренувальні прогнози (червона лінія).\n",
    "   - `plt.plot(test_plot, c='g')`: Виводить тестові прогнози (зелена лінія).\n",
    "\n",
    "**Чому це робиться:**\n",
    "- Зсув прогнозів для тренувальних і тестових даних дозволяє візуально зрівняти, наскільки добре модель прогнозує як на тренувальній, так і на тестовій вибірках. Зазвичай, червона лінія (тренувальні прогнози) повинна точно відповідати синій лінії (реальні дані), а зелена лінія (тестові прогнози) дає змогу побачити, наскільки модель добре працює на нових даних, яких вона раніше не бачила."
   ]
  },
  {
   "cell_type": "markdown",
   "metadata": {
    "id": "PhoeHLus-xIr"
   },
   "source": [
    "**Завдання 8**. Навчіть модель з hidden_size=100 та порівняйте результати прогнозів з попередніми."
   ]
  },
  {
   "cell_type": "code",
   "execution_count": 9,
   "metadata": {
    "id": "92032N_E_PxY"
   },
   "outputs": [
    {
     "name": "stdout",
     "output_type": "stream",
     "text": [
      "tensor([[-0.0375]], grad_fn=<AddmmBackward0>)\n"
     ]
    }
   ],
   "source": [
    "class AirModel(nn.Module):\n",
    "    def __init__(self, input_dim, hidden_dim, layer_dim, output_dim):\n",
    "        super(AirModel, self).__init__()\n",
    "        self.hidden_dim = hidden_dim\n",
    "        self.layer_dim = layer_dim\n",
    "\n",
    "        # LSTM шар\n",
    "        self.lstm = nn.LSTM(input_dim, hidden_dim, layer_dim, batch_first=True)\n",
    "\n",
    "        # Лінійний шар для регресії\n",
    "        self.fc = nn.Linear(hidden_dim, output_dim)\n",
    "\n",
    "    def forward(self, x):\n",
    "        out, _ = self.lstm(x)\n",
    "        \n",
    "        out = self.fc(out[:, -1, :])\n",
    "        \n",
    "        return out\n",
    "\n",
    "# Створюємо 2 модель з параметрами\n",
    "input_dim = 1\n",
    "hidden_dim = 100\n",
    "layer_dim = 1\n",
    "output_dim = 1\n",
    "\n",
    "model = AirModel(input_dim, hidden_dim, layer_dim, output_dim)\n",
    "\n",
    "# Тестуємо модель на вхідному тензорі\n",
    "input_tensor = torch.tensor([[112.]]).float().unsqueeze(0)\n",
    "output = model(input_tensor)\n",
    "\n",
    "print(output)"
   ]
  },
  {
   "cell_type": "code",
   "execution_count": 10,
   "metadata": {},
   "outputs": [
    {
     "data": {
      "text/plain": [
       "[tensor([[[306.]],\n",
       " \n",
       "         [[121.]],\n",
       " \n",
       "         [[194.]],\n",
       " \n",
       "         [[227.]],\n",
       " \n",
       "         [[150.]],\n",
       " \n",
       "         [[243.]],\n",
       " \n",
       "         [[145.]],\n",
       " \n",
       "         [[270.]]]),\n",
       " tensor([[271.],\n",
       "         [135.],\n",
       "         [196.],\n",
       "         [234.],\n",
       "         [178.],\n",
       "         [264.],\n",
       "         [150.],\n",
       "         [315.]])]"
      ]
     },
     "execution_count": 10,
     "metadata": {},
     "output_type": "execute_result"
    }
   ],
   "source": [
    "# Визначаємо dataset\n",
    "train_dataset = TensorDataset(X_train, y_train)\n",
    "\n",
    "\n",
    "# Визначаємо data loader\n",
    "batch_size = 8\n",
    "train_loader = DataLoader(train_dataset, batch_size, shuffle=True)\n",
    "next(iter(train_loader))"
   ]
  },
  {
   "cell_type": "code",
   "execution_count": 11,
   "metadata": {},
   "outputs": [
    {
     "name": "stdout",
     "output_type": "stream",
     "text": [
      "Epoch 0: train RMSE 225.8431, test RMSE 422.2556\n",
      "Epoch 100: train RMSE 146.4565, test RMSE 337.7303\n",
      "Epoch 200: train RMSE 97.7641, test RMSE 278.7258\n",
      "Epoch 300: train RMSE 80.3824, test RMSE 234.6983\n",
      "Epoch 400: train RMSE 83.2578, test RMSE 197.9749\n",
      "Epoch 500: train RMSE 86.5157, test RMSE 168.9719\n",
      "Epoch 600: train RMSE 90.9904, test RMSE 147.0122\n",
      "Epoch 700: train RMSE 95.1253, test RMSE 132.1008\n",
      "Epoch 800: train RMSE 94.4360, test RMSE 119.8610\n",
      "Epoch 900: train RMSE 94.3001, test RMSE 115.8186\n",
      "Epoch 1000: train RMSE 95.4482, test RMSE 106.3745\n",
      "Epoch 1100: train RMSE 96.0611, test RMSE 106.9373\n",
      "Epoch 1200: train RMSE 96.3354, test RMSE 103.3832\n",
      "Epoch 1300: train RMSE 99.8596, test RMSE 97.5799\n",
      "Epoch 1400: train RMSE 99.1344, test RMSE 99.1656\n",
      "Epoch 1500: train RMSE 96.8310, test RMSE 101.0362\n",
      "Epoch 1600: train RMSE 99.3565, test RMSE 96.2347\n",
      "Epoch 1700: train RMSE 97.2466, test RMSE 102.3165\n",
      "Epoch 1800: train RMSE 98.5641, test RMSE 97.2291\n",
      "Epoch 1900: train RMSE 96.1486, test RMSE 99.8408\n"
     ]
    }
   ],
   "source": [
    "# Визначаємо функцію для обчислення RMSE\n",
    "def compute_rmse(preds, targets):\n",
    "    return torch.sqrt(torch.mean((preds - targets) ** 2))\n",
    "\n",
    "# Ініціалізація Adam-оптимізатора та функції втрат MSE\n",
    "criterion = nn.MSELoss()\n",
    "optimizer = optim.Adam(model.parameters(), lr=0.001)\n",
    "\n",
    "\n",
    "def train(model, train_loader, optimizer, criterion):\n",
    "    model.train()  # Включаємо режим тренування\n",
    "    train_loss = 0.0\n",
    "    \n",
    "    for X_batch, y_batch in train_loader:\n",
    "        # Прямий прохід\n",
    "        optimizer.zero_grad()\n",
    "        output = model(X_batch)\n",
    "        \n",
    "        # Обчислюємо втрату\n",
    "        loss = criterion(output, y_batch)\n",
    "        \n",
    "        # Зворотний прохід\n",
    "        loss.backward()\n",
    "        \n",
    "        # Оновлюємо ваги\n",
    "        optimizer.step()\n",
    "        \n",
    "        # Додаємо втрату для обчислення середньої похибки\n",
    "        train_loss += loss.item()\n",
    "    \n",
    "    # Середня втрата на кожній епосі\n",
    "    avg_train_loss = train_loss / len(train_loader)\n",
    "    \n",
    "    return avg_train_loss\n",
    "\n",
    "\n",
    "# Основний цикл тренування\n",
    "n_epochs = 2000\n",
    "losses = []\n",
    "\n",
    "for epoch in range(n_epochs):\n",
    "    avg_train_loss = train(model, train_loader, optimizer, criterion)  # Викликаємо функцію тренування\n",
    "    losses.append(avg_train_loss)\n",
    "\n",
    "    # Валідація моделі кожні 100 епох\n",
    "    if epoch % 100 == 0:\n",
    "        model.eval()  # Включаємо режим оцінки\n",
    "\n",
    "        with torch.no_grad():  # Вимикаємо обчислення градієнтів\n",
    "            # Прогноз на тренувальних даних\n",
    "            train_preds = model(X_train).squeeze(-1)\n",
    "            train_rmse = compute_rmse(train_preds, y_train)\n",
    "            \n",
    "            # Прогноз на тестових даних\n",
    "            test_preds = model(X_test).squeeze(-1)\n",
    "            test_rmse = compute_rmse(test_preds, y_test)\n",
    "        \n",
    "        print(f\"Epoch {epoch}: train RMSE {train_rmse.item():.4f}, test RMSE {test_rmse.item():.4f}\")"
   ]
  },
  {
   "cell_type": "code",
   "execution_count": 12,
   "metadata": {},
   "outputs": [
    {
     "data": {
      "image/png": "[encoded data removed]",
      "text/plain": [
       "<Figure size 640x480 with 1 Axes>"
      ]
     },
     "metadata": {},
     "output_type": "display_data"
    }
   ],
   "source": [
    "plt.plot(losses);"
   ]
  },
  {
   "cell_type": "code",
   "execution_count": 13,
   "metadata": {},
   "outputs": [
    {
     "data": {
      "image/png": "[encoded data removed]",
      "text/plain": [
       "<Figure size 640x480 with 1 Axes>"
      ]
     },
     "metadata": {},
     "output_type": "display_data"
    }
   ],
   "source": [
    "def plot_predicts():\n",
    "    with torch.no_grad():\n",
    "        # Зсув прогнозів для тренувальних даних\n",
    "        train_plot = np.ones_like(passengers) * np.nan\n",
    "        y_pred = model(X_train)\n",
    "        y_pred = y_pred[:, -1]\n",
    "        train_plot[lookback:train_size] = model(X_train)[:, -1]\n",
    "\n",
    "        # Зсув прогнозів для тестових даних\n",
    "        test_plot = np.ones_like(passengers) * np.nan\n",
    "        test_plot[train_size+lookback:len(passengers)] = model(X_test)[:, -1]\n",
    "\n",
    "    # Візуалізація результатів\n",
    "    plt.plot(passengers, c='b')  # Реальні дані\n",
    "    plt.plot(train_plot, c='r')  # Прогнози на тренувальних даних\n",
    "    plt.plot(test_plot, c='g')   # Прогнози на тестових даних\n",
    "    plt.show()\n",
    "\n",
    "plot_predicts()"
   ]
  },
  {
   "cell_type": "markdown",
   "metadata": {},
   "source": [
    "Тут вже трохи кращі предікти модельки, але всеодно ми не навчились враховувати тренд на зростання"
   ]
  }
 ],
 "metadata": {
  "colab": {
   "provenance": []
  },
  "kernelspec": {
   "display_name": "Python 3 (ipykernel)",
   "language": "python",
   "name": "python3"
  },
  "language_info": {
   "codemirror_mode": {
    "name": "ipython",
    "version": 3
   },
   "file_extension": ".py",
   "mimetype": "text/x-python",
   "name": "python",
   "nbconvert_exporter": "python",
   "pygments_lexer": "ipython3",
   "version": "3.9.13"
  }
 },
 "nbformat": 4,
 "nbformat_minor": 1
}
