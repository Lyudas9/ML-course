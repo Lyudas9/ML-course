{
 "cells": [
  {
   "cell_type": "markdown",
   "metadata": {
    "id": "gJ2A6t3mdEed"
   },
   "source": [
    "В цьому домашньому завданні ми побудуємо рішення задачі логістичної регресії і створимо ваш перший submission на змагання на Kaggle. Усі кроки були розглянуті в лекції та містяться в ноутбуці `Логістична регресія з ScikitLearn. Повна ML задача.ipynb`, але тепер ми їх адаптуємо до іншої задачі - все як в реальному житті, коли ви знайшли код у відкритих джерелах і адаптуєте на проєкті 😉\n",
    "\n",
    "**Погнали! 🚀🚀🚀**\n",
    "\n",
    "-----------\n",
    "\n",
    "\n",
    "\n",
    "0. Завантажте дані `train.csv`, `test.csv`, `sample_submission.csv` зі змагання на Kaggle [\"Bank Customer Churn Prediction (DLU Course)\"](https://www.kaggle.com/t/7c080c5d8ec64364a93cf4e8f880b6a0). Для завантаження потрібно долучитись до змагання (натиснути кнопку \"Join\").\n",
    "\n",
    "1. Зчитайте дані `train.csv` в pandas dataframe та розбийте їх на train і validation піднабори.\n",
    "\n",
    "  * Є такий параметр в методі train_test_split як stratified. Можливо він буде Вам корисним при розбитті даних в цій задачі. Пропоную Вам почитати про нього в документації і спробувати скористатись."
   ]
  },
  {
   "cell_type": "code",
   "execution_count": 1,
   "metadata": {
    "id": "2J2bS-kL2cHV"
   },
   "outputs": [],
   "source": [
    "import pandas as pd\n",
    "from sklearn.model_selection import train_test_split\n",
    "import numpy as np\n",
    "from sklearn.preprocessing import StandardScaler\n",
    "from sklearn.preprocessing import MinMaxScaler\n",
    "import os\n",
    "from sklearn.linear_model import LogisticRegression\n",
    "from sklearn.metrics import confusion_matrix\n",
    "from sklearn.metrics import f1_score\n",
    "from sklearn.metrics import roc_curve, auc\n",
    "from sklearn.metrics import accuracy_score\n",
    "import matplotlib.pyplot as plt\n",
    "import seaborn as sns\n",
    "import joblib"
   ]
  },
  {
   "cell_type": "code",
   "execution_count": 2,
   "metadata": {},
   "outputs": [],
   "source": [
    "df = pd.read_csv('bank-customer-churn-prediction-dlu/train.csv')"
   ]
  },
  {
   "cell_type": "code",
   "execution_count": 3,
   "metadata": {},
   "outputs": [
    {
     "data": {
      "text/html": [
       "<div>\n",
       "<style scoped>\n",
       "    .dataframe tbody tr th:only-of-type {\n",
       "        vertical-align: middle;\n",
       "    }\n",
       "\n",
       "    .dataframe tbody tr th {\n",
       "        vertical-align: top;\n",
       "    }\n",
       "\n",
       "    .dataframe thead th {\n",
       "        text-align: right;\n",
       "    }\n",
       "</style>\n",
       "<table border=\"1\" class=\"dataframe\">\n",
       "  <thead>\n",
       "    <tr style=\"text-align: right;\">\n",
       "      <th></th>\n",
       "      <th>id</th>\n",
       "      <th>CustomerId</th>\n",
       "      <th>Surname</th>\n",
       "      <th>CreditScore</th>\n",
       "      <th>Geography</th>\n",
       "      <th>Gender</th>\n",
       "      <th>Age</th>\n",
       "      <th>Tenure</th>\n",
       "      <th>Balance</th>\n",
       "      <th>NumOfProducts</th>\n",
       "      <th>HasCrCard</th>\n",
       "      <th>IsActiveMember</th>\n",
       "      <th>EstimatedSalary</th>\n",
       "      <th>Exited</th>\n",
       "    </tr>\n",
       "  </thead>\n",
       "  <tbody>\n",
       "    <tr>\n",
       "      <th>0</th>\n",
       "      <td>0</td>\n",
       "      <td>15779985.0</td>\n",
       "      <td>Nwankwo</td>\n",
       "      <td>678.0</td>\n",
       "      <td>France</td>\n",
       "      <td>Male</td>\n",
       "      <td>29.0</td>\n",
       "      <td>4.0</td>\n",
       "      <td>0.00</td>\n",
       "      <td>3.0</td>\n",
       "      <td>1.0</td>\n",
       "      <td>0.0</td>\n",
       "      <td>180626.36</td>\n",
       "      <td>0.0</td>\n",
       "    </tr>\n",
       "    <tr>\n",
       "      <th>1</th>\n",
       "      <td>1</td>\n",
       "      <td>15650086.0</td>\n",
       "      <td>Ch'in</td>\n",
       "      <td>687.0</td>\n",
       "      <td>France</td>\n",
       "      <td>Female</td>\n",
       "      <td>34.0</td>\n",
       "      <td>1.0</td>\n",
       "      <td>0.00</td>\n",
       "      <td>2.0</td>\n",
       "      <td>0.0</td>\n",
       "      <td>1.0</td>\n",
       "      <td>63736.17</td>\n",
       "      <td>0.0</td>\n",
       "    </tr>\n",
       "    <tr>\n",
       "      <th>2</th>\n",
       "      <td>2</td>\n",
       "      <td>15733602.0</td>\n",
       "      <td>Thompson</td>\n",
       "      <td>682.0</td>\n",
       "      <td>France</td>\n",
       "      <td>Female</td>\n",
       "      <td>52.0</td>\n",
       "      <td>6.0</td>\n",
       "      <td>0.00</td>\n",
       "      <td>3.0</td>\n",
       "      <td>0.0</td>\n",
       "      <td>0.0</td>\n",
       "      <td>179655.87</td>\n",
       "      <td>1.0</td>\n",
       "    </tr>\n",
       "    <tr>\n",
       "      <th>3</th>\n",
       "      <td>3</td>\n",
       "      <td>15645794.0</td>\n",
       "      <td>Macleod</td>\n",
       "      <td>753.0</td>\n",
       "      <td>Germany</td>\n",
       "      <td>Male</td>\n",
       "      <td>44.0</td>\n",
       "      <td>6.0</td>\n",
       "      <td>83347.25</td>\n",
       "      <td>2.0</td>\n",
       "      <td>1.0</td>\n",
       "      <td>0.0</td>\n",
       "      <td>161407.48</td>\n",
       "      <td>0.0</td>\n",
       "    </tr>\n",
       "    <tr>\n",
       "      <th>4</th>\n",
       "      <td>4</td>\n",
       "      <td>15633840.0</td>\n",
       "      <td>Hsia</td>\n",
       "      <td>544.0</td>\n",
       "      <td>Germany</td>\n",
       "      <td>Female</td>\n",
       "      <td>55.0</td>\n",
       "      <td>0.0</td>\n",
       "      <td>107747.57</td>\n",
       "      <td>1.0</td>\n",
       "      <td>1.0</td>\n",
       "      <td>0.0</td>\n",
       "      <td>176580.86</td>\n",
       "      <td>1.0</td>\n",
       "    </tr>\n",
       "    <tr>\n",
       "      <th>...</th>\n",
       "      <td>...</td>\n",
       "      <td>...</td>\n",
       "      <td>...</td>\n",
       "      <td>...</td>\n",
       "      <td>...</td>\n",
       "      <td>...</td>\n",
       "      <td>...</td>\n",
       "      <td>...</td>\n",
       "      <td>...</td>\n",
       "      <td>...</td>\n",
       "      <td>...</td>\n",
       "      <td>...</td>\n",
       "      <td>...</td>\n",
       "      <td>...</td>\n",
       "    </tr>\n",
       "    <tr>\n",
       "      <th>14995</th>\n",
       "      <td>14995</td>\n",
       "      <td>15807989.0</td>\n",
       "      <td>Ch'iu</td>\n",
       "      <td>585.0</td>\n",
       "      <td>France</td>\n",
       "      <td>Male</td>\n",
       "      <td>33.0</td>\n",
       "      <td>3.0</td>\n",
       "      <td>0.00</td>\n",
       "      <td>1.0</td>\n",
       "      <td>1.0</td>\n",
       "      <td>0.0</td>\n",
       "      <td>54191.38</td>\n",
       "      <td>0.0</td>\n",
       "    </tr>\n",
       "    <tr>\n",
       "      <th>14996</th>\n",
       "      <td>14996</td>\n",
       "      <td>15731781.0</td>\n",
       "      <td>Ch'ang</td>\n",
       "      <td>678.0</td>\n",
       "      <td>France</td>\n",
       "      <td>Male</td>\n",
       "      <td>34.0</td>\n",
       "      <td>6.0</td>\n",
       "      <td>0.00</td>\n",
       "      <td>2.0</td>\n",
       "      <td>1.0</td>\n",
       "      <td>1.0</td>\n",
       "      <td>53437.10</td>\n",
       "      <td>0.0</td>\n",
       "    </tr>\n",
       "    <tr>\n",
       "      <th>14997</th>\n",
       "      <td>14997</td>\n",
       "      <td>15667093.0</td>\n",
       "      <td>Goliwe</td>\n",
       "      <td>678.0</td>\n",
       "      <td>France</td>\n",
       "      <td>Female</td>\n",
       "      <td>54.0</td>\n",
       "      <td>4.0</td>\n",
       "      <td>0.00</td>\n",
       "      <td>1.0</td>\n",
       "      <td>1.0</td>\n",
       "      <td>0.0</td>\n",
       "      <td>147720.29</td>\n",
       "      <td>1.0</td>\n",
       "    </tr>\n",
       "    <tr>\n",
       "      <th>14998</th>\n",
       "      <td>14998</td>\n",
       "      <td>15732644.0</td>\n",
       "      <td>Fanucci</td>\n",
       "      <td>705.0</td>\n",
       "      <td>Spain</td>\n",
       "      <td>Female</td>\n",
       "      <td>40.0</td>\n",
       "      <td>7.0</td>\n",
       "      <td>0.00</td>\n",
       "      <td>2.0</td>\n",
       "      <td>1.0</td>\n",
       "      <td>0.0</td>\n",
       "      <td>149550.95</td>\n",
       "      <td>0.0</td>\n",
       "    </tr>\n",
       "    <tr>\n",
       "      <th>14999</th>\n",
       "      <td>14999</td>\n",
       "      <td>15713890.0</td>\n",
       "      <td>Milanesi</td>\n",
       "      <td>648.0</td>\n",
       "      <td>France</td>\n",
       "      <td>Female</td>\n",
       "      <td>42.0</td>\n",
       "      <td>3.0</td>\n",
       "      <td>0.00</td>\n",
       "      <td>3.0</td>\n",
       "      <td>1.0</td>\n",
       "      <td>0.0</td>\n",
       "      <td>112442.63</td>\n",
       "      <td>1.0</td>\n",
       "    </tr>\n",
       "  </tbody>\n",
       "</table>\n",
       "<p>15000 rows × 14 columns</p>\n",
       "</div>"
      ],
      "text/plain": [
       "          id  CustomerId   Surname  CreditScore Geography  Gender   Age  \\\n",
       "0          0  15779985.0   Nwankwo        678.0    France    Male  29.0   \n",
       "1          1  15650086.0     Ch'in        687.0    France  Female  34.0   \n",
       "2          2  15733602.0  Thompson        682.0    France  Female  52.0   \n",
       "3          3  15645794.0   Macleod        753.0   Germany    Male  44.0   \n",
       "4          4  15633840.0      Hsia        544.0   Germany  Female  55.0   \n",
       "...      ...         ...       ...          ...       ...     ...   ...   \n",
       "14995  14995  15807989.0     Ch'iu        585.0    France    Male  33.0   \n",
       "14996  14996  15731781.0    Ch'ang        678.0    France    Male  34.0   \n",
       "14997  14997  15667093.0    Goliwe        678.0    France  Female  54.0   \n",
       "14998  14998  15732644.0   Fanucci        705.0     Spain  Female  40.0   \n",
       "14999  14999  15713890.0  Milanesi        648.0    France  Female  42.0   \n",
       "\n",
       "       Tenure    Balance  NumOfProducts  HasCrCard  IsActiveMember  \\\n",
       "0         4.0       0.00            3.0        1.0             0.0   \n",
       "1         1.0       0.00            2.0        0.0             1.0   \n",
       "2         6.0       0.00            3.0        0.0             0.0   \n",
       "3         6.0   83347.25            2.0        1.0             0.0   \n",
       "4         0.0  107747.57            1.0        1.0             0.0   \n",
       "...       ...        ...            ...        ...             ...   \n",
       "14995     3.0       0.00            1.0        1.0             0.0   \n",
       "14996     6.0       0.00            2.0        1.0             1.0   \n",
       "14997     4.0       0.00            1.0        1.0             0.0   \n",
       "14998     7.0       0.00            2.0        1.0             0.0   \n",
       "14999     3.0       0.00            3.0        1.0             0.0   \n",
       "\n",
       "       EstimatedSalary  Exited  \n",
       "0            180626.36     0.0  \n",
       "1             63736.17     0.0  \n",
       "2            179655.87     1.0  \n",
       "3            161407.48     0.0  \n",
       "4            176580.86     1.0  \n",
       "...                ...     ...  \n",
       "14995         54191.38     0.0  \n",
       "14996         53437.10     0.0  \n",
       "14997        147720.29     1.0  \n",
       "14998        149550.95     0.0  \n",
       "14999        112442.63     1.0  \n",
       "\n",
       "[15000 rows x 14 columns]"
      ]
     },
     "execution_count": 3,
     "metadata": {},
     "output_type": "execute_result"
    }
   ],
   "source": [
    "df"
   ]
  },
  {
   "cell_type": "code",
   "execution_count": 4,
   "metadata": {},
   "outputs": [
    {
     "data": {
      "text/plain": [
       "0.0    11948\n",
       "1.0     3052\n",
       "Name: Exited, dtype: int64"
      ]
     },
     "execution_count": 4,
     "metadata": {},
     "output_type": "execute_result"
    }
   ],
   "source": [
    "df['Exited'].value_counts()"
   ]
  },
  {
   "cell_type": "code",
   "execution_count": 5,
   "metadata": {},
   "outputs": [],
   "source": [
    "train, validation = train_test_split(df, test_size=0.20, random_state=42, stratify=df['Exited'])"
   ]
  },
  {
   "cell_type": "markdown",
   "metadata": {
    "id": "YmhrsCrThfKp"
   },
   "source": [
    "2. Визначіть назви колонок, які сформують вхідні незалежні дані, в змінній `input_cols` та назву колонки , яка є цільовою, в змінній `target_col`. Використовуючи `input_cols` та `target_col` створіть набори даних `train_inputs`, `train_targets`, `val_inputs`, `val_targets` - де `inputs` - вхідні дані (датафрейм), `targets` - дані цільової колонки відповідного піднабору."
   ]
  },
  {
   "cell_type": "code",
   "execution_count": 6,
   "metadata": {
    "id": "BB1PSRP92d2y"
   },
   "outputs": [],
   "source": [
    "input_cols = list(df.columns)\n",
    "input_cols.remove('Exited')\n",
    "target_col = 'Exited'"
   ]
  },
  {
   "cell_type": "code",
   "execution_count": 7,
   "metadata": {},
   "outputs": [],
   "source": [
    "train_inputs = train[input_cols].copy()\n",
    "train_targets = train[target_col].copy()\n",
    "\n",
    "val_inputs = validation[input_cols].copy()\n",
    "val_targets = validation[target_col].copy()"
   ]
  },
  {
   "cell_type": "markdown",
   "metadata": {
    "id": "BqhiVXa-iY5P"
   },
   "source": [
    "3. Визначіть з допомогою `pandas.DataFrame.select_dtypes` назви колонок, які є числовими і категоріальними. Запишіть результати в `numeric_cols` та `categorical_cols` відповідно."
   ]
  },
  {
   "cell_type": "code",
   "execution_count": 8,
   "metadata": {
    "id": "pz6Et14-2eRH"
   },
   "outputs": [],
   "source": [
    "numeric_cols = train_inputs.select_dtypes(include=np.number).columns.tolist()\n",
    "categorical_cols = train_inputs.select_dtypes('object').columns.tolist()"
   ]
  },
  {
   "cell_type": "code",
   "execution_count": 9,
   "metadata": {},
   "outputs": [
    {
     "data": {
      "text/plain": [
       "['id',\n",
       " 'CustomerId',\n",
       " 'CreditScore',\n",
       " 'Age',\n",
       " 'Tenure',\n",
       " 'Balance',\n",
       " 'NumOfProducts',\n",
       " 'HasCrCard',\n",
       " 'IsActiveMember',\n",
       " 'EstimatedSalary']"
      ]
     },
     "execution_count": 9,
     "metadata": {},
     "output_type": "execute_result"
    }
   ],
   "source": [
    "numeric_cols"
   ]
  },
  {
   "cell_type": "code",
   "execution_count": 10,
   "metadata": {},
   "outputs": [
    {
     "data": {
      "text/plain": [
       "['Surname', 'Geography', 'Gender']"
      ]
     },
     "execution_count": 10,
     "metadata": {},
     "output_type": "execute_result"
    }
   ],
   "source": [
    "categorical_cols"
   ]
  },
  {
   "cell_type": "markdown",
   "metadata": {
    "id": "gz3W57xXlIO2"
   },
   "source": [
    "4. Зробіть підготовку даних в категоріальних і числових колонках для входу в модель виходячи з освоєного на даний момент на курсі. Варіанти пеердобробки, з якими ми вже знайомі:\n",
    "  - масштабування числових ознак,\n",
    "  - заповнення пропущених значень, якщо вони є,\n",
    "  - кодування категоріальних ознак, вилучення ознак, якщо ми вважаємо, що ці дані нерелевантні для моделі аби ми не бачимо способу як їх так закодувати, аби подати на вхід моделі.\n",
    "\n",
    "  Тут є багато варіантів, як Ви побудуєте передобробку, важливо аби\n",
    "  1) передобробка мала сенс (немає сенсу заповнювати дані константою, яку ми не зрозуміло звідки взяли)   \n",
    "  2) має бути виконана принаймні одна дія передобробки\n",
    "  3) обробка маэ бути виконана коректно і для тренувальних, і для вал. даних\n",
    "  4) чим вищий у Вас врешті вийде ROС AUC скор, тим більше шансів перемогти у змаганні :)\n",
    "\n",
    "  Опишіть рішення проведення кожного з кроків передобробки. Для чого ви його робите? По завершенню виведіть по 5 значен з `train_inputs`, `val_inputs` використовуючи `display()`."
   ]
  },
  {
   "cell_type": "markdown",
   "metadata": {
    "id": "Co2hJVl32fUz"
   },
   "source": [
    "а. Перевіримо нульові значенння в датасеті"
   ]
  },
  {
   "cell_type": "code",
   "execution_count": 11,
   "metadata": {},
   "outputs": [
    {
     "data": {
      "text/plain": [
       "id                 0\n",
       "CustomerId         0\n",
       "Surname            0\n",
       "CreditScore        0\n",
       "Geography          0\n",
       "Gender             0\n",
       "Age                0\n",
       "Tenure             0\n",
       "Balance            0\n",
       "NumOfProducts      0\n",
       "HasCrCard          0\n",
       "IsActiveMember     0\n",
       "EstimatedSalary    0\n",
       "dtype: int64"
      ]
     },
     "execution_count": 11,
     "metadata": {},
     "output_type": "execute_result"
    }
   ],
   "source": [
    "train_inputs.isnull().sum(axis = 0)"
   ]
  },
  {
   "cell_type": "code",
   "execution_count": 12,
   "metadata": {},
   "outputs": [
    {
     "data": {
      "text/plain": [
       "id                 0\n",
       "CustomerId         0\n",
       "Surname            0\n",
       "CreditScore        0\n",
       "Geography          0\n",
       "Gender             0\n",
       "Age                0\n",
       "Tenure             0\n",
       "Balance            0\n",
       "NumOfProducts      0\n",
       "HasCrCard          0\n",
       "IsActiveMember     0\n",
       "EstimatedSalary    0\n",
       "Exited             0\n",
       "dtype: int64"
      ]
     },
     "execution_count": 12,
     "metadata": {},
     "output_type": "execute_result"
    }
   ],
   "source": [
    "df.isnull().sum(axis = 0)"
   ]
  },
  {
   "cell_type": "markdown",
   "metadata": {},
   "source": [
    "Як бачимо в нашому датасеті немає нульових значень, і це чудово, бо непотрібно їх заповнювати."
   ]
  },
  {
   "cell_type": "markdown",
   "metadata": {},
   "source": [
    "б. Подивимось на категоріальні колонки:"
   ]
  },
  {
   "cell_type": "code",
   "execution_count": 13,
   "metadata": {},
   "outputs": [
    {
     "data": {
      "text/plain": [
       "Ch'iu      252\n",
       "Ch'ien     241\n",
       "Ch'ang     225\n",
       "Hsia       204\n",
       "T'ien      187\n",
       "          ... \n",
       "Trejo        1\n",
       "Purdy        1\n",
       "Otoole       1\n",
       "Sarratt      1\n",
       "Liardet      1\n",
       "Name: Surname, Length: 764, dtype: int64"
      ]
     },
     "execution_count": 13,
     "metadata": {},
     "output_type": "execute_result"
    }
   ],
   "source": [
    "df['Surname'].value_counts()"
   ]
  },
  {
   "cell_type": "code",
   "execution_count": 14,
   "metadata": {},
   "outputs": [
    {
     "data": {
      "text/html": [
       "<div>\n",
       "<style scoped>\n",
       "    .dataframe tbody tr th:only-of-type {\n",
       "        vertical-align: middle;\n",
       "    }\n",
       "\n",
       "    .dataframe tbody tr th {\n",
       "        vertical-align: top;\n",
       "    }\n",
       "\n",
       "    .dataframe thead th {\n",
       "        text-align: right;\n",
       "    }\n",
       "</style>\n",
       "<table border=\"1\" class=\"dataframe\">\n",
       "  <thead>\n",
       "    <tr style=\"text-align: right;\">\n",
       "      <th></th>\n",
       "      <th>id</th>\n",
       "      <th>CustomerId</th>\n",
       "      <th>Surname</th>\n",
       "      <th>CreditScore</th>\n",
       "      <th>Geography</th>\n",
       "      <th>Gender</th>\n",
       "      <th>Age</th>\n",
       "      <th>Tenure</th>\n",
       "      <th>Balance</th>\n",
       "      <th>NumOfProducts</th>\n",
       "      <th>HasCrCard</th>\n",
       "      <th>IsActiveMember</th>\n",
       "      <th>EstimatedSalary</th>\n",
       "      <th>Exited</th>\n",
       "    </tr>\n",
       "  </thead>\n",
       "  <tbody>\n",
       "    <tr>\n",
       "      <th>54</th>\n",
       "      <td>54</td>\n",
       "      <td>15743817.0</td>\n",
       "      <td>Ch'iu</td>\n",
       "      <td>735.0</td>\n",
       "      <td>France</td>\n",
       "      <td>Male</td>\n",
       "      <td>37.0</td>\n",
       "      <td>4.0</td>\n",
       "      <td>0.0</td>\n",
       "      <td>2.0</td>\n",
       "      <td>1.0</td>\n",
       "      <td>1.0</td>\n",
       "      <td>142331.85</td>\n",
       "      <td>0.0</td>\n",
       "    </tr>\n",
       "    <tr>\n",
       "      <th>124</th>\n",
       "      <td>124</td>\n",
       "      <td>15803562.0</td>\n",
       "      <td>Ch'iu</td>\n",
       "      <td>850.0</td>\n",
       "      <td>Spain</td>\n",
       "      <td>Female</td>\n",
       "      <td>34.0</td>\n",
       "      <td>4.0</td>\n",
       "      <td>0.0</td>\n",
       "      <td>2.0</td>\n",
       "      <td>1.0</td>\n",
       "      <td>0.0</td>\n",
       "      <td>144870.28</td>\n",
       "      <td>0.0</td>\n",
       "    </tr>\n",
       "    <tr>\n",
       "      <th>155</th>\n",
       "      <td>155</td>\n",
       "      <td>15780961.0</td>\n",
       "      <td>Ch'iu</td>\n",
       "      <td>762.0</td>\n",
       "      <td>France</td>\n",
       "      <td>Male</td>\n",
       "      <td>38.0</td>\n",
       "      <td>2.0</td>\n",
       "      <td>0.0</td>\n",
       "      <td>1.0</td>\n",
       "      <td>1.0</td>\n",
       "      <td>0.0</td>\n",
       "      <td>77906.87</td>\n",
       "      <td>0.0</td>\n",
       "    </tr>\n",
       "    <tr>\n",
       "      <th>303</th>\n",
       "      <td>303</td>\n",
       "      <td>15702541.0</td>\n",
       "      <td>Ch'iu</td>\n",
       "      <td>668.0</td>\n",
       "      <td>France</td>\n",
       "      <td>Male</td>\n",
       "      <td>41.0</td>\n",
       "      <td>10.0</td>\n",
       "      <td>0.0</td>\n",
       "      <td>2.0</td>\n",
       "      <td>1.0</td>\n",
       "      <td>0.0</td>\n",
       "      <td>91086.73</td>\n",
       "      <td>0.0</td>\n",
       "    </tr>\n",
       "    <tr>\n",
       "      <th>314</th>\n",
       "      <td>314</td>\n",
       "      <td>15585047.0</td>\n",
       "      <td>Ch'iu</td>\n",
       "      <td>645.0</td>\n",
       "      <td>France</td>\n",
       "      <td>Female</td>\n",
       "      <td>35.0</td>\n",
       "      <td>8.0</td>\n",
       "      <td>0.0</td>\n",
       "      <td>1.0</td>\n",
       "      <td>1.0</td>\n",
       "      <td>0.0</td>\n",
       "      <td>142039.67</td>\n",
       "      <td>0.0</td>\n",
       "    </tr>\n",
       "    <tr>\n",
       "      <th>...</th>\n",
       "      <td>...</td>\n",
       "      <td>...</td>\n",
       "      <td>...</td>\n",
       "      <td>...</td>\n",
       "      <td>...</td>\n",
       "      <td>...</td>\n",
       "      <td>...</td>\n",
       "      <td>...</td>\n",
       "      <td>...</td>\n",
       "      <td>...</td>\n",
       "      <td>...</td>\n",
       "      <td>...</td>\n",
       "      <td>...</td>\n",
       "      <td>...</td>\n",
       "    </tr>\n",
       "    <tr>\n",
       "      <th>14655</th>\n",
       "      <td>14655</td>\n",
       "      <td>15745452.0</td>\n",
       "      <td>Ch'iu</td>\n",
       "      <td>591.0</td>\n",
       "      <td>Spain</td>\n",
       "      <td>Male</td>\n",
       "      <td>36.0</td>\n",
       "      <td>6.0</td>\n",
       "      <td>0.0</td>\n",
       "      <td>2.0</td>\n",
       "      <td>1.0</td>\n",
       "      <td>1.0</td>\n",
       "      <td>121504.18</td>\n",
       "      <td>0.0</td>\n",
       "    </tr>\n",
       "    <tr>\n",
       "      <th>14843</th>\n",
       "      <td>14843</td>\n",
       "      <td>15572408.0</td>\n",
       "      <td>Ch'iu</td>\n",
       "      <td>661.0</td>\n",
       "      <td>Spain</td>\n",
       "      <td>Male</td>\n",
       "      <td>46.0</td>\n",
       "      <td>1.0</td>\n",
       "      <td>0.0</td>\n",
       "      <td>1.0</td>\n",
       "      <td>0.0</td>\n",
       "      <td>1.0</td>\n",
       "      <td>57876.05</td>\n",
       "      <td>1.0</td>\n",
       "    </tr>\n",
       "    <tr>\n",
       "      <th>14898</th>\n",
       "      <td>14898</td>\n",
       "      <td>15792726.0</td>\n",
       "      <td>Ch'iu</td>\n",
       "      <td>806.0</td>\n",
       "      <td>France</td>\n",
       "      <td>Male</td>\n",
       "      <td>30.0</td>\n",
       "      <td>6.0</td>\n",
       "      <td>0.0</td>\n",
       "      <td>2.0</td>\n",
       "      <td>0.0</td>\n",
       "      <td>0.0</td>\n",
       "      <td>94670.77</td>\n",
       "      <td>0.0</td>\n",
       "    </tr>\n",
       "    <tr>\n",
       "      <th>14985</th>\n",
       "      <td>14985</td>\n",
       "      <td>15754084.0</td>\n",
       "      <td>Ch'iu</td>\n",
       "      <td>681.0</td>\n",
       "      <td>France</td>\n",
       "      <td>Male</td>\n",
       "      <td>28.0</td>\n",
       "      <td>8.0</td>\n",
       "      <td>0.0</td>\n",
       "      <td>2.0</td>\n",
       "      <td>1.0</td>\n",
       "      <td>0.0</td>\n",
       "      <td>189392.66</td>\n",
       "      <td>0.0</td>\n",
       "    </tr>\n",
       "    <tr>\n",
       "      <th>14995</th>\n",
       "      <td>14995</td>\n",
       "      <td>15807989.0</td>\n",
       "      <td>Ch'iu</td>\n",
       "      <td>585.0</td>\n",
       "      <td>France</td>\n",
       "      <td>Male</td>\n",
       "      <td>33.0</td>\n",
       "      <td>3.0</td>\n",
       "      <td>0.0</td>\n",
       "      <td>1.0</td>\n",
       "      <td>1.0</td>\n",
       "      <td>0.0</td>\n",
       "      <td>54191.38</td>\n",
       "      <td>0.0</td>\n",
       "    </tr>\n",
       "  </tbody>\n",
       "</table>\n",
       "<p>252 rows × 14 columns</p>\n",
       "</div>"
      ],
      "text/plain": [
       "          id  CustomerId Surname  CreditScore Geography  Gender   Age  Tenure  \\\n",
       "54        54  15743817.0   Ch'iu        735.0    France    Male  37.0     4.0   \n",
       "124      124  15803562.0   Ch'iu        850.0     Spain  Female  34.0     4.0   \n",
       "155      155  15780961.0   Ch'iu        762.0    France    Male  38.0     2.0   \n",
       "303      303  15702541.0   Ch'iu        668.0    France    Male  41.0    10.0   \n",
       "314      314  15585047.0   Ch'iu        645.0    France  Female  35.0     8.0   \n",
       "...      ...         ...     ...          ...       ...     ...   ...     ...   \n",
       "14655  14655  15745452.0   Ch'iu        591.0     Spain    Male  36.0     6.0   \n",
       "14843  14843  15572408.0   Ch'iu        661.0     Spain    Male  46.0     1.0   \n",
       "14898  14898  15792726.0   Ch'iu        806.0    France    Male  30.0     6.0   \n",
       "14985  14985  15754084.0   Ch'iu        681.0    France    Male  28.0     8.0   \n",
       "14995  14995  15807989.0   Ch'iu        585.0    France    Male  33.0     3.0   \n",
       "\n",
       "       Balance  NumOfProducts  HasCrCard  IsActiveMember  EstimatedSalary  \\\n",
       "54         0.0            2.0        1.0             1.0        142331.85   \n",
       "124        0.0            2.0        1.0             0.0        144870.28   \n",
       "155        0.0            1.0        1.0             0.0         77906.87   \n",
       "303        0.0            2.0        1.0             0.0         91086.73   \n",
       "314        0.0            1.0        1.0             0.0        142039.67   \n",
       "...        ...            ...        ...             ...              ...   \n",
       "14655      0.0            2.0        1.0             1.0        121504.18   \n",
       "14843      0.0            1.0        0.0             1.0         57876.05   \n",
       "14898      0.0            2.0        0.0             0.0         94670.77   \n",
       "14985      0.0            2.0        1.0             0.0        189392.66   \n",
       "14995      0.0            1.0        1.0             0.0         54191.38   \n",
       "\n",
       "       Exited  \n",
       "54        0.0  \n",
       "124       0.0  \n",
       "155       0.0  \n",
       "303       0.0  \n",
       "314       0.0  \n",
       "...       ...  \n",
       "14655     0.0  \n",
       "14843     1.0  \n",
       "14898     0.0  \n",
       "14985     0.0  \n",
       "14995     0.0  \n",
       "\n",
       "[252 rows x 14 columns]"
      ]
     },
     "execution_count": 14,
     "metadata": {},
     "output_type": "execute_result"
    }
   ],
   "source": [
    "df[df['Surname'] == \"Ch'iu\"]"
   ]
  },
  {
   "cell_type": "markdown",
   "metadata": {},
   "source": [
    "Можливо між Surname і відтоком можлива якась залежність, це могли би бути усі члени однієї сім'ї, але дивлячись на прізвище \"Ch'iu\" воно так не виглядає, тому не бачу сенсу використовувати цю колонку, щоб намагатись побачити залежність між прізвищем та відтоком клієнта."
   ]
  },
  {
   "cell_type": "code",
   "execution_count": 15,
   "metadata": {},
   "outputs": [],
   "source": [
    "df.drop('Surname', axis=1, inplace=True)"
   ]
  },
  {
   "cell_type": "code",
   "execution_count": 16,
   "metadata": {},
   "outputs": [
    {
     "data": {
      "text/plain": [
       "France     9032\n",
       "Spain      3303\n",
       "Germany    2665\n",
       "Name: Geography, dtype: int64"
      ]
     },
     "execution_count": 16,
     "metadata": {},
     "output_type": "execute_result"
    }
   ],
   "source": [
    "df['Geography'].value_counts()"
   ]
  },
  {
   "cell_type": "code",
   "execution_count": 17,
   "metadata": {},
   "outputs": [
    {
     "data": {
      "text/plain": [
       "France     7211\n",
       "Spain      2638\n",
       "Germany    2151\n",
       "Name: Geography, dtype: int64"
      ]
     },
     "execution_count": 17,
     "metadata": {},
     "output_type": "execute_result"
    }
   ],
   "source": [
    "train_inputs['Geography'].value_counts()"
   ]
  },
  {
   "cell_type": "code",
   "execution_count": 18,
   "metadata": {},
   "outputs": [],
   "source": [
    "frequency_encoding = train_inputs['Geography'].value_counts(normalize=True)\n",
    "\n",
    "# Кодуємо Geography за допомогою частоти\n",
    "df['Geography_encoded'] = df['Geography'].map(frequency_encoding)"
   ]
  },
  {
   "cell_type": "code",
   "execution_count": 19,
   "metadata": {},
   "outputs": [
    {
     "data": {
      "text/plain": [
       "France     0.600917\n",
       "Spain      0.219833\n",
       "Germany    0.179250\n",
       "Name: Geography, dtype: float64"
      ]
     },
     "execution_count": 19,
     "metadata": {},
     "output_type": "execute_result"
    }
   ],
   "source": [
    "frequency_encoding"
   ]
  },
  {
   "cell_type": "code",
   "execution_count": 20,
   "metadata": {},
   "outputs": [
    {
     "data": {
      "text/plain": [
       "0        0.600917\n",
       "1        0.600917\n",
       "2        0.600917\n",
       "3        0.179250\n",
       "4        0.179250\n",
       "           ...   \n",
       "14995    0.600917\n",
       "14996    0.600917\n",
       "14997    0.600917\n",
       "14998    0.219833\n",
       "14999    0.600917\n",
       "Name: Geography_encoded, Length: 15000, dtype: float64"
      ]
     },
     "execution_count": 20,
     "metadata": {},
     "output_type": "execute_result"
    }
   ],
   "source": [
    "df['Geography_encoded']"
   ]
  },
  {
   "cell_type": "markdown",
   "metadata": {},
   "source": [
    "Колонка 'Gender'"
   ]
  },
  {
   "cell_type": "code",
   "execution_count": 21,
   "metadata": {},
   "outputs": [
    {
     "data": {
      "text/plain": [
       "Male      6876\n",
       "Female    5124\n",
       "Name: Gender, dtype: int64"
      ]
     },
     "execution_count": 21,
     "metadata": {},
     "output_type": "execute_result"
    }
   ],
   "source": [
    "train_inputs['Gender'].value_counts()"
   ]
  },
  {
   "cell_type": "code",
   "execution_count": 22,
   "metadata": {},
   "outputs": [],
   "source": [
    "# Кодуємо Gender\n",
    "\n",
    "gender_codes = {'Male': 1, 'Female': 0}\n",
    "df['Gender_Type_Code'] = df['Gender'].map(gender_codes)"
   ]
  },
  {
   "cell_type": "markdown",
   "metadata": {},
   "source": [
    "Видалимо категоріальні колонки Gender і Geography, які ми вже закодували"
   ]
  },
  {
   "cell_type": "code",
   "execution_count": 23,
   "metadata": {},
   "outputs": [],
   "source": [
    "df.drop(['Gender', 'Geography'], axis=1, inplace=True)"
   ]
  },
  {
   "cell_type": "markdown",
   "metadata": {},
   "source": [
    "Подивимось на числові колонки"
   ]
  },
  {
   "cell_type": "code",
   "execution_count": 24,
   "metadata": {},
   "outputs": [
    {
     "data": {
      "text/html": [
       "<div>\n",
       "<style scoped>\n",
       "    .dataframe tbody tr th:only-of-type {\n",
       "        vertical-align: middle;\n",
       "    }\n",
       "\n",
       "    .dataframe tbody tr th {\n",
       "        vertical-align: top;\n",
       "    }\n",
       "\n",
       "    .dataframe thead th {\n",
       "        text-align: right;\n",
       "    }\n",
       "</style>\n",
       "<table border=\"1\" class=\"dataframe\">\n",
       "  <thead>\n",
       "    <tr style=\"text-align: right;\">\n",
       "      <th></th>\n",
       "      <th>id</th>\n",
       "      <th>CustomerId</th>\n",
       "      <th>CreditScore</th>\n",
       "      <th>Age</th>\n",
       "      <th>Tenure</th>\n",
       "      <th>Balance</th>\n",
       "      <th>NumOfProducts</th>\n",
       "      <th>HasCrCard</th>\n",
       "      <th>IsActiveMember</th>\n",
       "      <th>EstimatedSalary</th>\n",
       "      <th>Exited</th>\n",
       "      <th>Geography_encoded</th>\n",
       "      <th>Gender_Type_Code</th>\n",
       "    </tr>\n",
       "  </thead>\n",
       "  <tbody>\n",
       "    <tr>\n",
       "      <th>count</th>\n",
       "      <td>15000.000000</td>\n",
       "      <td>1.500000e+04</td>\n",
       "      <td>15000.000000</td>\n",
       "      <td>15000.000000</td>\n",
       "      <td>15000.000000</td>\n",
       "      <td>15000.000000</td>\n",
       "      <td>15000.000000</td>\n",
       "      <td>15000.000000</td>\n",
       "      <td>15000.000000</td>\n",
       "      <td>15000.000000</td>\n",
       "      <td>15000.000000</td>\n",
       "      <td>15000.000000</td>\n",
       "      <td>15000.000000</td>\n",
       "    </tr>\n",
       "    <tr>\n",
       "      <th>mean</th>\n",
       "      <td>7499.500000</td>\n",
       "      <td>1.569146e+07</td>\n",
       "      <td>658.944133</td>\n",
       "      <td>37.739600</td>\n",
       "      <td>5.025267</td>\n",
       "      <td>42729.791988</td>\n",
       "      <td>1.590933</td>\n",
       "      <td>0.788800</td>\n",
       "      <td>0.489667</td>\n",
       "      <td>117784.666193</td>\n",
       "      <td>0.203467</td>\n",
       "      <td>0.442086</td>\n",
       "      <td>0.568600</td>\n",
       "    </tr>\n",
       "    <tr>\n",
       "      <th>std</th>\n",
       "      <td>4330.271354</td>\n",
       "      <td>1.352050e+05</td>\n",
       "      <td>72.255926</td>\n",
       "      <td>8.218363</td>\n",
       "      <td>2.776678</td>\n",
       "      <td>59727.309419</td>\n",
       "      <td>0.532306</td>\n",
       "      <td>0.408174</td>\n",
       "      <td>0.499910</td>\n",
       "      <td>45734.445888</td>\n",
       "      <td>0.402590</td>\n",
       "      <td>0.195815</td>\n",
       "      <td>0.495288</td>\n",
       "    </tr>\n",
       "    <tr>\n",
       "      <th>min</th>\n",
       "      <td>0.000000</td>\n",
       "      <td>1.581102e+06</td>\n",
       "      <td>431.000000</td>\n",
       "      <td>18.000000</td>\n",
       "      <td>0.000000</td>\n",
       "      <td>0.000000</td>\n",
       "      <td>1.000000</td>\n",
       "      <td>0.000000</td>\n",
       "      <td>0.000000</td>\n",
       "      <td>11.580000</td>\n",
       "      <td>0.000000</td>\n",
       "      <td>0.179250</td>\n",
       "      <td>0.000000</td>\n",
       "    </tr>\n",
       "    <tr>\n",
       "      <th>25%</th>\n",
       "      <td>3749.750000</td>\n",
       "      <td>1.563514e+07</td>\n",
       "      <td>603.000000</td>\n",
       "      <td>32.000000</td>\n",
       "      <td>3.000000</td>\n",
       "      <td>0.000000</td>\n",
       "      <td>1.000000</td>\n",
       "      <td>1.000000</td>\n",
       "      <td>0.000000</td>\n",
       "      <td>83058.140000</td>\n",
       "      <td>0.000000</td>\n",
       "      <td>0.219833</td>\n",
       "      <td>0.000000</td>\n",
       "    </tr>\n",
       "    <tr>\n",
       "      <th>50%</th>\n",
       "      <td>7499.500000</td>\n",
       "      <td>1.569018e+07</td>\n",
       "      <td>662.000000</td>\n",
       "      <td>37.000000</td>\n",
       "      <td>5.000000</td>\n",
       "      <td>0.000000</td>\n",
       "      <td>2.000000</td>\n",
       "      <td>1.000000</td>\n",
       "      <td>0.000000</td>\n",
       "      <td>123584.870000</td>\n",
       "      <td>0.000000</td>\n",
       "      <td>0.600917</td>\n",
       "      <td>1.000000</td>\n",
       "    </tr>\n",
       "    <tr>\n",
       "      <th>75%</th>\n",
       "      <td>11249.250000</td>\n",
       "      <td>1.575718e+07</td>\n",
       "      <td>708.000000</td>\n",
       "      <td>42.000000</td>\n",
       "      <td>7.000000</td>\n",
       "      <td>109531.017500</td>\n",
       "      <td>2.000000</td>\n",
       "      <td>1.000000</td>\n",
       "      <td>1.000000</td>\n",
       "      <td>156884.705000</td>\n",
       "      <td>0.000000</td>\n",
       "      <td>0.600917</td>\n",
       "      <td>1.000000</td>\n",
       "    </tr>\n",
       "    <tr>\n",
       "      <th>max</th>\n",
       "      <td>14999.000000</td>\n",
       "      <td>1.581569e+07</td>\n",
       "      <td>850.000000</td>\n",
       "      <td>74.000000</td>\n",
       "      <td>10.000000</td>\n",
       "      <td>209767.310000</td>\n",
       "      <td>4.000000</td>\n",
       "      <td>1.000000</td>\n",
       "      <td>1.000000</td>\n",
       "      <td>199992.480000</td>\n",
       "      <td>1.000000</td>\n",
       "      <td>0.600917</td>\n",
       "      <td>1.000000</td>\n",
       "    </tr>\n",
       "  </tbody>\n",
       "</table>\n",
       "</div>"
      ],
      "text/plain": [
       "                 id    CustomerId   CreditScore           Age        Tenure  \\\n",
       "count  15000.000000  1.500000e+04  15000.000000  15000.000000  15000.000000   \n",
       "mean    7499.500000  1.569146e+07    658.944133     37.739600      5.025267   \n",
       "std     4330.271354  1.352050e+05     72.255926      8.218363      2.776678   \n",
       "min        0.000000  1.581102e+06    431.000000     18.000000      0.000000   \n",
       "25%     3749.750000  1.563514e+07    603.000000     32.000000      3.000000   \n",
       "50%     7499.500000  1.569018e+07    662.000000     37.000000      5.000000   \n",
       "75%    11249.250000  1.575718e+07    708.000000     42.000000      7.000000   \n",
       "max    14999.000000  1.581569e+07    850.000000     74.000000     10.000000   \n",
       "\n",
       "             Balance  NumOfProducts     HasCrCard  IsActiveMember  \\\n",
       "count   15000.000000   15000.000000  15000.000000    15000.000000   \n",
       "mean    42729.791988       1.590933      0.788800        0.489667   \n",
       "std     59727.309419       0.532306      0.408174        0.499910   \n",
       "min         0.000000       1.000000      0.000000        0.000000   \n",
       "25%         0.000000       1.000000      1.000000        0.000000   \n",
       "50%         0.000000       2.000000      1.000000        0.000000   \n",
       "75%    109531.017500       2.000000      1.000000        1.000000   \n",
       "max    209767.310000       4.000000      1.000000        1.000000   \n",
       "\n",
       "       EstimatedSalary        Exited  Geography_encoded  Gender_Type_Code  \n",
       "count     15000.000000  15000.000000       15000.000000      15000.000000  \n",
       "mean     117784.666193      0.203467           0.442086          0.568600  \n",
       "std       45734.445888      0.402590           0.195815          0.495288  \n",
       "min          11.580000      0.000000           0.179250          0.000000  \n",
       "25%       83058.140000      0.000000           0.219833          0.000000  \n",
       "50%      123584.870000      0.000000           0.600917          1.000000  \n",
       "75%      156884.705000      0.000000           0.600917          1.000000  \n",
       "max      199992.480000      1.000000           0.600917          1.000000  "
      ]
     },
     "execution_count": 24,
     "metadata": {},
     "output_type": "execute_result"
    }
   ],
   "source": [
    "df.describe()"
   ]
  },
  {
   "cell_type": "markdown",
   "metadata": {},
   "source": [
    "Колонки id та CustomerId будемо видаляти, бо в колонці id взагалі немає ніякого сенсу, а для того щоб використовувати CustomerId, потрібно трансформувати увесь датасет і дивитись на нього тільки в розрізі останньої події кастомера або кумулятивно збирати всю активність по ньому."
   ]
  },
  {
   "cell_type": "code",
   "execution_count": 25,
   "metadata": {},
   "outputs": [],
   "source": [
    "df.drop(['id', 'CustomerId'], axis=1, inplace=True)"
   ]
  },
  {
   "cell_type": "code",
   "execution_count": 26,
   "metadata": {},
   "outputs": [
    {
     "data": {
      "text/html": [
       "<div>\n",
       "<style scoped>\n",
       "    .dataframe tbody tr th:only-of-type {\n",
       "        vertical-align: middle;\n",
       "    }\n",
       "\n",
       "    .dataframe tbody tr th {\n",
       "        vertical-align: top;\n",
       "    }\n",
       "\n",
       "    .dataframe thead th {\n",
       "        text-align: right;\n",
       "    }\n",
       "</style>\n",
       "<table border=\"1\" class=\"dataframe\">\n",
       "  <thead>\n",
       "    <tr style=\"text-align: right;\">\n",
       "      <th></th>\n",
       "      <th>CreditScore</th>\n",
       "      <th>Age</th>\n",
       "      <th>Tenure</th>\n",
       "      <th>Balance</th>\n",
       "      <th>NumOfProducts</th>\n",
       "      <th>HasCrCard</th>\n",
       "      <th>IsActiveMember</th>\n",
       "      <th>EstimatedSalary</th>\n",
       "      <th>Exited</th>\n",
       "      <th>Geography_encoded</th>\n",
       "      <th>Gender_Type_Code</th>\n",
       "    </tr>\n",
       "  </thead>\n",
       "  <tbody>\n",
       "    <tr>\n",
       "      <th>0</th>\n",
       "      <td>678.0</td>\n",
       "      <td>29.0</td>\n",
       "      <td>4.0</td>\n",
       "      <td>0.00</td>\n",
       "      <td>3.0</td>\n",
       "      <td>1.0</td>\n",
       "      <td>0.0</td>\n",
       "      <td>180626.36</td>\n",
       "      <td>0.0</td>\n",
       "      <td>0.600917</td>\n",
       "      <td>1</td>\n",
       "    </tr>\n",
       "    <tr>\n",
       "      <th>1</th>\n",
       "      <td>687.0</td>\n",
       "      <td>34.0</td>\n",
       "      <td>1.0</td>\n",
       "      <td>0.00</td>\n",
       "      <td>2.0</td>\n",
       "      <td>0.0</td>\n",
       "      <td>1.0</td>\n",
       "      <td>63736.17</td>\n",
       "      <td>0.0</td>\n",
       "      <td>0.600917</td>\n",
       "      <td>0</td>\n",
       "    </tr>\n",
       "    <tr>\n",
       "      <th>2</th>\n",
       "      <td>682.0</td>\n",
       "      <td>52.0</td>\n",
       "      <td>6.0</td>\n",
       "      <td>0.00</td>\n",
       "      <td>3.0</td>\n",
       "      <td>0.0</td>\n",
       "      <td>0.0</td>\n",
       "      <td>179655.87</td>\n",
       "      <td>1.0</td>\n",
       "      <td>0.600917</td>\n",
       "      <td>0</td>\n",
       "    </tr>\n",
       "    <tr>\n",
       "      <th>3</th>\n",
       "      <td>753.0</td>\n",
       "      <td>44.0</td>\n",
       "      <td>6.0</td>\n",
       "      <td>83347.25</td>\n",
       "      <td>2.0</td>\n",
       "      <td>1.0</td>\n",
       "      <td>0.0</td>\n",
       "      <td>161407.48</td>\n",
       "      <td>0.0</td>\n",
       "      <td>0.179250</td>\n",
       "      <td>1</td>\n",
       "    </tr>\n",
       "    <tr>\n",
       "      <th>4</th>\n",
       "      <td>544.0</td>\n",
       "      <td>55.0</td>\n",
       "      <td>0.0</td>\n",
       "      <td>107747.57</td>\n",
       "      <td>1.0</td>\n",
       "      <td>1.0</td>\n",
       "      <td>0.0</td>\n",
       "      <td>176580.86</td>\n",
       "      <td>1.0</td>\n",
       "      <td>0.179250</td>\n",
       "      <td>0</td>\n",
       "    </tr>\n",
       "    <tr>\n",
       "      <th>...</th>\n",
       "      <td>...</td>\n",
       "      <td>...</td>\n",
       "      <td>...</td>\n",
       "      <td>...</td>\n",
       "      <td>...</td>\n",
       "      <td>...</td>\n",
       "      <td>...</td>\n",
       "      <td>...</td>\n",
       "      <td>...</td>\n",
       "      <td>...</td>\n",
       "      <td>...</td>\n",
       "    </tr>\n",
       "    <tr>\n",
       "      <th>14995</th>\n",
       "      <td>585.0</td>\n",
       "      <td>33.0</td>\n",
       "      <td>3.0</td>\n",
       "      <td>0.00</td>\n",
       "      <td>1.0</td>\n",
       "      <td>1.0</td>\n",
       "      <td>0.0</td>\n",
       "      <td>54191.38</td>\n",
       "      <td>0.0</td>\n",
       "      <td>0.600917</td>\n",
       "      <td>1</td>\n",
       "    </tr>\n",
       "    <tr>\n",
       "      <th>14996</th>\n",
       "      <td>678.0</td>\n",
       "      <td>34.0</td>\n",
       "      <td>6.0</td>\n",
       "      <td>0.00</td>\n",
       "      <td>2.0</td>\n",
       "      <td>1.0</td>\n",
       "      <td>1.0</td>\n",
       "      <td>53437.10</td>\n",
       "      <td>0.0</td>\n",
       "      <td>0.600917</td>\n",
       "      <td>1</td>\n",
       "    </tr>\n",
       "    <tr>\n",
       "      <th>14997</th>\n",
       "      <td>678.0</td>\n",
       "      <td>54.0</td>\n",
       "      <td>4.0</td>\n",
       "      <td>0.00</td>\n",
       "      <td>1.0</td>\n",
       "      <td>1.0</td>\n",
       "      <td>0.0</td>\n",
       "      <td>147720.29</td>\n",
       "      <td>1.0</td>\n",
       "      <td>0.600917</td>\n",
       "      <td>0</td>\n",
       "    </tr>\n",
       "    <tr>\n",
       "      <th>14998</th>\n",
       "      <td>705.0</td>\n",
       "      <td>40.0</td>\n",
       "      <td>7.0</td>\n",
       "      <td>0.00</td>\n",
       "      <td>2.0</td>\n",
       "      <td>1.0</td>\n",
       "      <td>0.0</td>\n",
       "      <td>149550.95</td>\n",
       "      <td>0.0</td>\n",
       "      <td>0.219833</td>\n",
       "      <td>0</td>\n",
       "    </tr>\n",
       "    <tr>\n",
       "      <th>14999</th>\n",
       "      <td>648.0</td>\n",
       "      <td>42.0</td>\n",
       "      <td>3.0</td>\n",
       "      <td>0.00</td>\n",
       "      <td>3.0</td>\n",
       "      <td>1.0</td>\n",
       "      <td>0.0</td>\n",
       "      <td>112442.63</td>\n",
       "      <td>1.0</td>\n",
       "      <td>0.600917</td>\n",
       "      <td>0</td>\n",
       "    </tr>\n",
       "  </tbody>\n",
       "</table>\n",
       "<p>15000 rows × 11 columns</p>\n",
       "</div>"
      ],
      "text/plain": [
       "       CreditScore   Age  Tenure    Balance  NumOfProducts  HasCrCard  \\\n",
       "0            678.0  29.0     4.0       0.00            3.0        1.0   \n",
       "1            687.0  34.0     1.0       0.00            2.0        0.0   \n",
       "2            682.0  52.0     6.0       0.00            3.0        0.0   \n",
       "3            753.0  44.0     6.0   83347.25            2.0        1.0   \n",
       "4            544.0  55.0     0.0  107747.57            1.0        1.0   \n",
       "...            ...   ...     ...        ...            ...        ...   \n",
       "14995        585.0  33.0     3.0       0.00            1.0        1.0   \n",
       "14996        678.0  34.0     6.0       0.00            2.0        1.0   \n",
       "14997        678.0  54.0     4.0       0.00            1.0        1.0   \n",
       "14998        705.0  40.0     7.0       0.00            2.0        1.0   \n",
       "14999        648.0  42.0     3.0       0.00            3.0        1.0   \n",
       "\n",
       "       IsActiveMember  EstimatedSalary  Exited  Geography_encoded  \\\n",
       "0                 0.0        180626.36     0.0           0.600917   \n",
       "1                 1.0         63736.17     0.0           0.600917   \n",
       "2                 0.0        179655.87     1.0           0.600917   \n",
       "3                 0.0        161407.48     0.0           0.179250   \n",
       "4                 0.0        176580.86     1.0           0.179250   \n",
       "...               ...              ...     ...                ...   \n",
       "14995             0.0         54191.38     0.0           0.600917   \n",
       "14996             1.0         53437.10     0.0           0.600917   \n",
       "14997             0.0        147720.29     1.0           0.600917   \n",
       "14998             0.0        149550.95     0.0           0.219833   \n",
       "14999             0.0        112442.63     1.0           0.600917   \n",
       "\n",
       "       Gender_Type_Code  \n",
       "0                     1  \n",
       "1                     0  \n",
       "2                     0  \n",
       "3                     1  \n",
       "4                     0  \n",
       "...                 ...  \n",
       "14995                 1  \n",
       "14996                 1  \n",
       "14997                 0  \n",
       "14998                 0  \n",
       "14999                 0  \n",
       "\n",
       "[15000 rows x 11 columns]"
      ]
     },
     "execution_count": 26,
     "metadata": {},
     "output_type": "execute_result"
    }
   ],
   "source": [
    "df"
   ]
  },
  {
   "cell_type": "markdown",
   "metadata": {},
   "source": [
    "Після усіх обробок, які ми зробили попередньо, ще раз сформуємо навчальний і валідаційний датасети."
   ]
  },
  {
   "cell_type": "code",
   "execution_count": 27,
   "metadata": {},
   "outputs": [],
   "source": [
    "train, validation = train_test_split(df, test_size=0.20, random_state=42, stratify=df['Exited'])"
   ]
  },
  {
   "cell_type": "code",
   "execution_count": 28,
   "metadata": {},
   "outputs": [
    {
     "data": {
      "text/html": [
       "<div>\n",
       "<style scoped>\n",
       "    .dataframe tbody tr th:only-of-type {\n",
       "        vertical-align: middle;\n",
       "    }\n",
       "\n",
       "    .dataframe tbody tr th {\n",
       "        vertical-align: top;\n",
       "    }\n",
       "\n",
       "    .dataframe thead th {\n",
       "        text-align: right;\n",
       "    }\n",
       "</style>\n",
       "<table border=\"1\" class=\"dataframe\">\n",
       "  <thead>\n",
       "    <tr style=\"text-align: right;\">\n",
       "      <th></th>\n",
       "      <th>CreditScore</th>\n",
       "      <th>Age</th>\n",
       "      <th>Tenure</th>\n",
       "      <th>Balance</th>\n",
       "      <th>NumOfProducts</th>\n",
       "      <th>HasCrCard</th>\n",
       "      <th>IsActiveMember</th>\n",
       "      <th>EstimatedSalary</th>\n",
       "      <th>Exited</th>\n",
       "      <th>Geography_encoded</th>\n",
       "      <th>Gender_Type_Code</th>\n",
       "    </tr>\n",
       "  </thead>\n",
       "  <tbody>\n",
       "    <tr>\n",
       "      <th>7180</th>\n",
       "      <td>682.0</td>\n",
       "      <td>30.0</td>\n",
       "      <td>1.0</td>\n",
       "      <td>131394.56</td>\n",
       "      <td>1.0</td>\n",
       "      <td>1.0</td>\n",
       "      <td>1.0</td>\n",
       "      <td>143952.24</td>\n",
       "      <td>0.0</td>\n",
       "      <td>0.600917</td>\n",
       "      <td>1</td>\n",
       "    </tr>\n",
       "    <tr>\n",
       "      <th>10393</th>\n",
       "      <td>684.0</td>\n",
       "      <td>39.0</td>\n",
       "      <td>2.0</td>\n",
       "      <td>178058.06</td>\n",
       "      <td>1.0</td>\n",
       "      <td>1.0</td>\n",
       "      <td>0.0</td>\n",
       "      <td>145518.31</td>\n",
       "      <td>0.0</td>\n",
       "      <td>0.600917</td>\n",
       "      <td>0</td>\n",
       "    </tr>\n",
       "    <tr>\n",
       "      <th>80</th>\n",
       "      <td>705.0</td>\n",
       "      <td>35.0</td>\n",
       "      <td>6.0</td>\n",
       "      <td>116320.68</td>\n",
       "      <td>2.0</td>\n",
       "      <td>1.0</td>\n",
       "      <td>0.0</td>\n",
       "      <td>174431.01</td>\n",
       "      <td>0.0</td>\n",
       "      <td>0.179250</td>\n",
       "      <td>1</td>\n",
       "    </tr>\n",
       "    <tr>\n",
       "      <th>3365</th>\n",
       "      <td>669.0</td>\n",
       "      <td>58.0</td>\n",
       "      <td>0.0</td>\n",
       "      <td>0.00</td>\n",
       "      <td>2.0</td>\n",
       "      <td>0.0</td>\n",
       "      <td>1.0</td>\n",
       "      <td>51565.98</td>\n",
       "      <td>0.0</td>\n",
       "      <td>0.219833</td>\n",
       "      <td>1</td>\n",
       "    </tr>\n",
       "    <tr>\n",
       "      <th>12236</th>\n",
       "      <td>707.0</td>\n",
       "      <td>21.0</td>\n",
       "      <td>3.0</td>\n",
       "      <td>0.00</td>\n",
       "      <td>2.0</td>\n",
       "      <td>1.0</td>\n",
       "      <td>1.0</td>\n",
       "      <td>148564.76</td>\n",
       "      <td>0.0</td>\n",
       "      <td>0.600917</td>\n",
       "      <td>1</td>\n",
       "    </tr>\n",
       "    <tr>\n",
       "      <th>...</th>\n",
       "      <td>...</td>\n",
       "      <td>...</td>\n",
       "      <td>...</td>\n",
       "      <td>...</td>\n",
       "      <td>...</td>\n",
       "      <td>...</td>\n",
       "      <td>...</td>\n",
       "      <td>...</td>\n",
       "      <td>...</td>\n",
       "      <td>...</td>\n",
       "      <td>...</td>\n",
       "    </tr>\n",
       "    <tr>\n",
       "      <th>9493</th>\n",
       "      <td>633.0</td>\n",
       "      <td>33.0</td>\n",
       "      <td>4.0</td>\n",
       "      <td>0.00</td>\n",
       "      <td>2.0</td>\n",
       "      <td>0.0</td>\n",
       "      <td>0.0</td>\n",
       "      <td>123537.05</td>\n",
       "      <td>0.0</td>\n",
       "      <td>0.600917</td>\n",
       "      <td>0</td>\n",
       "    </tr>\n",
       "    <tr>\n",
       "      <th>8463</th>\n",
       "      <td>673.0</td>\n",
       "      <td>40.0</td>\n",
       "      <td>1.0</td>\n",
       "      <td>0.00</td>\n",
       "      <td>1.0</td>\n",
       "      <td>1.0</td>\n",
       "      <td>1.0</td>\n",
       "      <td>47832.82</td>\n",
       "      <td>0.0</td>\n",
       "      <td>0.600917</td>\n",
       "      <td>0</td>\n",
       "    </tr>\n",
       "    <tr>\n",
       "      <th>8143</th>\n",
       "      <td>621.0</td>\n",
       "      <td>29.0</td>\n",
       "      <td>8.0</td>\n",
       "      <td>0.00</td>\n",
       "      <td>2.0</td>\n",
       "      <td>1.0</td>\n",
       "      <td>1.0</td>\n",
       "      <td>133535.29</td>\n",
       "      <td>0.0</td>\n",
       "      <td>0.600917</td>\n",
       "      <td>1</td>\n",
       "    </tr>\n",
       "    <tr>\n",
       "      <th>11512</th>\n",
       "      <td>590.0</td>\n",
       "      <td>42.0</td>\n",
       "      <td>7.0</td>\n",
       "      <td>0.00</td>\n",
       "      <td>2.0</td>\n",
       "      <td>0.0</td>\n",
       "      <td>0.0</td>\n",
       "      <td>72643.95</td>\n",
       "      <td>0.0</td>\n",
       "      <td>0.219833</td>\n",
       "      <td>1</td>\n",
       "    </tr>\n",
       "    <tr>\n",
       "      <th>9360</th>\n",
       "      <td>545.0</td>\n",
       "      <td>27.0</td>\n",
       "      <td>2.0</td>\n",
       "      <td>0.00</td>\n",
       "      <td>2.0</td>\n",
       "      <td>1.0</td>\n",
       "      <td>0.0</td>\n",
       "      <td>102233.73</td>\n",
       "      <td>0.0</td>\n",
       "      <td>0.600917</td>\n",
       "      <td>0</td>\n",
       "    </tr>\n",
       "  </tbody>\n",
       "</table>\n",
       "<p>12000 rows × 11 columns</p>\n",
       "</div>"
      ],
      "text/plain": [
       "       CreditScore   Age  Tenure    Balance  NumOfProducts  HasCrCard  \\\n",
       "7180         682.0  30.0     1.0  131394.56            1.0        1.0   \n",
       "10393        684.0  39.0     2.0  178058.06            1.0        1.0   \n",
       "80           705.0  35.0     6.0  116320.68            2.0        1.0   \n",
       "3365         669.0  58.0     0.0       0.00            2.0        0.0   \n",
       "12236        707.0  21.0     3.0       0.00            2.0        1.0   \n",
       "...            ...   ...     ...        ...            ...        ...   \n",
       "9493         633.0  33.0     4.0       0.00            2.0        0.0   \n",
       "8463         673.0  40.0     1.0       0.00            1.0        1.0   \n",
       "8143         621.0  29.0     8.0       0.00            2.0        1.0   \n",
       "11512        590.0  42.0     7.0       0.00            2.0        0.0   \n",
       "9360         545.0  27.0     2.0       0.00            2.0        1.0   \n",
       "\n",
       "       IsActiveMember  EstimatedSalary  Exited  Geography_encoded  \\\n",
       "7180              1.0        143952.24     0.0           0.600917   \n",
       "10393             0.0        145518.31     0.0           0.600917   \n",
       "80                0.0        174431.01     0.0           0.179250   \n",
       "3365              1.0         51565.98     0.0           0.219833   \n",
       "12236             1.0        148564.76     0.0           0.600917   \n",
       "...               ...              ...     ...                ...   \n",
       "9493              0.0        123537.05     0.0           0.600917   \n",
       "8463              1.0         47832.82     0.0           0.600917   \n",
       "8143              1.0        133535.29     0.0           0.600917   \n",
       "11512             0.0         72643.95     0.0           0.219833   \n",
       "9360              0.0        102233.73     0.0           0.600917   \n",
       "\n",
       "       Gender_Type_Code  \n",
       "7180                  1  \n",
       "10393                 0  \n",
       "80                    1  \n",
       "3365                  1  \n",
       "12236                 1  \n",
       "...                 ...  \n",
       "9493                  0  \n",
       "8463                  0  \n",
       "8143                  1  \n",
       "11512                 1  \n",
       "9360                  0  \n",
       "\n",
       "[12000 rows x 11 columns]"
      ]
     },
     "execution_count": 28,
     "metadata": {},
     "output_type": "execute_result"
    }
   ],
   "source": [
    "train"
   ]
  },
  {
   "cell_type": "code",
   "execution_count": 29,
   "metadata": {},
   "outputs": [],
   "source": [
    "input_cols = list(df.columns)\n",
    "input_cols.remove('Exited')\n",
    "target_col = 'Exited'"
   ]
  },
  {
   "cell_type": "code",
   "execution_count": 30,
   "metadata": {},
   "outputs": [
    {
     "data": {
      "text/plain": [
       "['CreditScore',\n",
       " 'Age',\n",
       " 'Tenure',\n",
       " 'Balance',\n",
       " 'NumOfProducts',\n",
       " 'HasCrCard',\n",
       " 'IsActiveMember',\n",
       " 'EstimatedSalary',\n",
       " 'Geography_encoded',\n",
       " 'Gender_Type_Code']"
      ]
     },
     "execution_count": 30,
     "metadata": {},
     "output_type": "execute_result"
    }
   ],
   "source": [
    "input_cols"
   ]
  },
  {
   "cell_type": "code",
   "execution_count": 31,
   "metadata": {},
   "outputs": [],
   "source": [
    "train_inputs = train[input_cols].copy()\n",
    "train_targets = train[target_col].copy()\n",
    "\n",
    "val_inputs = validation[input_cols].copy()\n",
    "val_targets = validation[target_col].copy()"
   ]
  },
  {
   "cell_type": "markdown",
   "metadata": {},
   "source": [
    "Масштабування числових ознак StandardScaler()"
   ]
  },
  {
   "cell_type": "code",
   "execution_count": 32,
   "metadata": {},
   "outputs": [],
   "source": [
    "scaler = StandardScaler()\n",
    "scaler.fit(train_inputs)\n",
    "\n",
    "scaled_train = pd.DataFrame(scaler.transform(train_inputs))\n",
    "scaled_train.columns = list(train_inputs.columns)\n",
    "scaled_val = pd.DataFrame(scaler.transform(val_inputs))\n",
    "scaled_val.columns = list(val_inputs.columns)"
   ]
  },
  {
   "cell_type": "code",
   "execution_count": 33,
   "metadata": {},
   "outputs": [
    {
     "data": {
      "text/html": [
       "<div>\n",
       "<style scoped>\n",
       "    .dataframe tbody tr th:only-of-type {\n",
       "        vertical-align: middle;\n",
       "    }\n",
       "\n",
       "    .dataframe tbody tr th {\n",
       "        vertical-align: top;\n",
       "    }\n",
       "\n",
       "    .dataframe thead th {\n",
       "        text-align: right;\n",
       "    }\n",
       "</style>\n",
       "<table border=\"1\" class=\"dataframe\">\n",
       "  <thead>\n",
       "    <tr style=\"text-align: right;\">\n",
       "      <th></th>\n",
       "      <th>CreditScore</th>\n",
       "      <th>Age</th>\n",
       "      <th>Tenure</th>\n",
       "      <th>Balance</th>\n",
       "      <th>NumOfProducts</th>\n",
       "      <th>HasCrCard</th>\n",
       "      <th>IsActiveMember</th>\n",
       "      <th>EstimatedSalary</th>\n",
       "      <th>Geography_encoded</th>\n",
       "      <th>Gender_Type_Code</th>\n",
       "    </tr>\n",
       "  </thead>\n",
       "  <tbody>\n",
       "    <tr>\n",
       "      <th>0</th>\n",
       "      <td>0.320187</td>\n",
       "      <td>-0.944682</td>\n",
       "      <td>-1.447264</td>\n",
       "      <td>1.475464</td>\n",
       "      <td>-1.108193</td>\n",
       "      <td>0.515062</td>\n",
       "      <td>1.016977</td>\n",
       "      <td>0.569450</td>\n",
       "      <td>0.813211</td>\n",
       "      <td>0.863250</td>\n",
       "    </tr>\n",
       "    <tr>\n",
       "      <th>1</th>\n",
       "      <td>0.347838</td>\n",
       "      <td>0.161227</td>\n",
       "      <td>-1.087792</td>\n",
       "      <td>2.254434</td>\n",
       "      <td>-1.108193</td>\n",
       "      <td>0.515062</td>\n",
       "      <td>-0.983306</td>\n",
       "      <td>0.603803</td>\n",
       "      <td>0.813211</td>\n",
       "      <td>-1.158413</td>\n",
       "    </tr>\n",
       "    <tr>\n",
       "      <th>2</th>\n",
       "      <td>0.638166</td>\n",
       "      <td>-0.330288</td>\n",
       "      <td>0.350096</td>\n",
       "      <td>1.223831</td>\n",
       "      <td>0.769304</td>\n",
       "      <td>0.515062</td>\n",
       "      <td>-0.983306</td>\n",
       "      <td>1.238026</td>\n",
       "      <td>-1.338565</td>\n",
       "      <td>0.863250</td>\n",
       "    </tr>\n",
       "    <tr>\n",
       "      <th>3</th>\n",
       "      <td>0.140460</td>\n",
       "      <td>2.495924</td>\n",
       "      <td>-1.806736</td>\n",
       "      <td>-0.717950</td>\n",
       "      <td>0.769304</td>\n",
       "      <td>-1.941514</td>\n",
       "      <td>1.016977</td>\n",
       "      <td>-1.457116</td>\n",
       "      <td>-1.131467</td>\n",
       "      <td>0.863250</td>\n",
       "    </tr>\n",
       "    <tr>\n",
       "      <th>4</th>\n",
       "      <td>0.665816</td>\n",
       "      <td>-2.050591</td>\n",
       "      <td>-0.728320</td>\n",
       "      <td>-0.717950</td>\n",
       "      <td>0.769304</td>\n",
       "      <td>0.515062</td>\n",
       "      <td>1.016977</td>\n",
       "      <td>0.670629</td>\n",
       "      <td>0.813211</td>\n",
       "      <td>0.863250</td>\n",
       "    </tr>\n",
       "    <tr>\n",
       "      <th>...</th>\n",
       "      <td>...</td>\n",
       "      <td>...</td>\n",
       "      <td>...</td>\n",
       "      <td>...</td>\n",
       "      <td>...</td>\n",
       "      <td>...</td>\n",
       "      <td>...</td>\n",
       "      <td>...</td>\n",
       "      <td>...</td>\n",
       "      <td>...</td>\n",
       "    </tr>\n",
       "    <tr>\n",
       "      <th>11995</th>\n",
       "      <td>-0.357246</td>\n",
       "      <td>-0.576046</td>\n",
       "      <td>-0.368848</td>\n",
       "      <td>-0.717950</td>\n",
       "      <td>0.769304</td>\n",
       "      <td>-1.941514</td>\n",
       "      <td>-0.983306</td>\n",
       "      <td>0.121626</td>\n",
       "      <td>0.813211</td>\n",
       "      <td>-1.158413</td>\n",
       "    </tr>\n",
       "    <tr>\n",
       "      <th>11996</th>\n",
       "      <td>0.195761</td>\n",
       "      <td>0.284106</td>\n",
       "      <td>-1.447264</td>\n",
       "      <td>-0.717950</td>\n",
       "      <td>-1.108193</td>\n",
       "      <td>0.515062</td>\n",
       "      <td>1.016977</td>\n",
       "      <td>-1.539006</td>\n",
       "      <td>0.813211</td>\n",
       "      <td>-1.158413</td>\n",
       "    </tr>\n",
       "    <tr>\n",
       "      <th>11997</th>\n",
       "      <td>-0.523147</td>\n",
       "      <td>-1.067561</td>\n",
       "      <td>1.069040</td>\n",
       "      <td>-0.717950</td>\n",
       "      <td>0.769304</td>\n",
       "      <td>0.515062</td>\n",
       "      <td>1.016977</td>\n",
       "      <td>0.340946</td>\n",
       "      <td>0.813211</td>\n",
       "      <td>0.863250</td>\n",
       "    </tr>\n",
       "    <tr>\n",
       "      <th>11998</th>\n",
       "      <td>-0.951727</td>\n",
       "      <td>0.529864</td>\n",
       "      <td>0.709568</td>\n",
       "      <td>-0.717950</td>\n",
       "      <td>0.769304</td>\n",
       "      <td>-1.941514</td>\n",
       "      <td>-0.983306</td>\n",
       "      <td>-0.994754</td>\n",
       "      <td>-1.131467</td>\n",
       "      <td>0.863250</td>\n",
       "    </tr>\n",
       "    <tr>\n",
       "      <th>11999</th>\n",
       "      <td>-1.573860</td>\n",
       "      <td>-1.313318</td>\n",
       "      <td>-1.087792</td>\n",
       "      <td>-0.717950</td>\n",
       "      <td>0.769304</td>\n",
       "      <td>0.515062</td>\n",
       "      <td>-0.983306</td>\n",
       "      <td>-0.345679</td>\n",
       "      <td>0.813211</td>\n",
       "      <td>-1.158413</td>\n",
       "    </tr>\n",
       "  </tbody>\n",
       "</table>\n",
       "<p>12000 rows × 10 columns</p>\n",
       "</div>"
      ],
      "text/plain": [
       "       CreditScore       Age    Tenure   Balance  NumOfProducts  HasCrCard  \\\n",
       "0         0.320187 -0.944682 -1.447264  1.475464      -1.108193   0.515062   \n",
       "1         0.347838  0.161227 -1.087792  2.254434      -1.108193   0.515062   \n",
       "2         0.638166 -0.330288  0.350096  1.223831       0.769304   0.515062   \n",
       "3         0.140460  2.495924 -1.806736 -0.717950       0.769304  -1.941514   \n",
       "4         0.665816 -2.050591 -0.728320 -0.717950       0.769304   0.515062   \n",
       "...            ...       ...       ...       ...            ...        ...   \n",
       "11995    -0.357246 -0.576046 -0.368848 -0.717950       0.769304  -1.941514   \n",
       "11996     0.195761  0.284106 -1.447264 -0.717950      -1.108193   0.515062   \n",
       "11997    -0.523147 -1.067561  1.069040 -0.717950       0.769304   0.515062   \n",
       "11998    -0.951727  0.529864  0.709568 -0.717950       0.769304  -1.941514   \n",
       "11999    -1.573860 -1.313318 -1.087792 -0.717950       0.769304   0.515062   \n",
       "\n",
       "       IsActiveMember  EstimatedSalary  Geography_encoded  Gender_Type_Code  \n",
       "0            1.016977         0.569450           0.813211          0.863250  \n",
       "1           -0.983306         0.603803           0.813211         -1.158413  \n",
       "2           -0.983306         1.238026          -1.338565          0.863250  \n",
       "3            1.016977        -1.457116          -1.131467          0.863250  \n",
       "4            1.016977         0.670629           0.813211          0.863250  \n",
       "...               ...              ...                ...               ...  \n",
       "11995       -0.983306         0.121626           0.813211         -1.158413  \n",
       "11996        1.016977        -1.539006           0.813211         -1.158413  \n",
       "11997        1.016977         0.340946           0.813211          0.863250  \n",
       "11998       -0.983306        -0.994754          -1.131467          0.863250  \n",
       "11999       -0.983306        -0.345679           0.813211         -1.158413  \n",
       "\n",
       "[12000 rows x 10 columns]"
      ]
     },
     "execution_count": 33,
     "metadata": {},
     "output_type": "execute_result"
    }
   ],
   "source": [
    "scaled_train"
   ]
  },
  {
   "cell_type": "markdown",
   "metadata": {
    "id": "Gk-NVTdyoAtu"
   },
   "source": [
    "5. Збережіть дані, що містяться в змінних `train_inputs`, `train_targets`, `val_inputs`, `val_targets` на диск в форматі `parquet`. В кінці виведіть список файлів в папці, в яку Ви зберегли файли і перевірте, чи файли збереглись. Вивести список файлів можна з `os.listdir(your_dir)` або `!ls your_dir`"
   ]
  },
  {
   "cell_type": "code",
   "execution_count": 34,
   "metadata": {
    "id": "DteIwTkN2hve"
   },
   "outputs": [],
   "source": [
    "scaled_train.to_parquet('bank-customer-churn-train-test-data/train_inputs.parquet')\n",
    "scaled_val.to_parquet('bank-customer-churn-train-test-data/val_inputs.parquet')"
   ]
  },
  {
   "cell_type": "code",
   "execution_count": 35,
   "metadata": {},
   "outputs": [],
   "source": [
    "pd.DataFrame(train_targets).to_parquet('bank-customer-churn-train-test-data/train_targets.parquet')\n",
    "pd.DataFrame(val_targets).to_parquet('bank-customer-churn-train-test-data/val_targets.parquet')"
   ]
  },
  {
   "cell_type": "code",
   "execution_count": 36,
   "metadata": {},
   "outputs": [
    {
     "data": {
      "text/plain": [
       "['log_reg.joblib',\n",
       " 'train_inputs.parquet',\n",
       " 'train_targets.parquet',\n",
       " 'val_inputs.parquet',\n",
       " 'val_targets.parquet']"
      ]
     },
     "execution_count": 36,
     "metadata": {},
     "output_type": "execute_result"
    }
   ],
   "source": [
    "os.listdir('bank-customer-churn-train-test-data')"
   ]
  },
  {
   "cell_type": "markdown",
   "metadata": {
    "id": "D5_3RjSdowGF"
   },
   "source": [
    "6. З підготовлених вхіжних даних створіть `X_train`, `X_val` набори, які містять лише колонки, які підуть на вхід моделі. Навчіть модель бінарної класифікації з допомогою `LogisticRegression` в `scikit-learn`."
   ]
  },
  {
   "cell_type": "code",
   "execution_count": 37,
   "metadata": {},
   "outputs": [],
   "source": [
    "X_train = pd.read_parquet('bank-customer-churn-train-test-data/train_inputs.parquet')\n",
    "X_val = pd.read_parquet('bank-customer-churn-train-test-data/val_inputs.parquet')\n",
    "\n",
    "y_train = pd.read_parquet('bank-customer-churn-train-test-data/train_targets.parquet')[target_col]\n",
    "y_val = pd.read_parquet('bank-customer-churn-train-test-data/val_targets.parquet')[target_col]"
   ]
  },
  {
   "cell_type": "code",
   "execution_count": 38,
   "metadata": {
    "id": "VZUkPF-e2irB"
   },
   "outputs": [],
   "source": [
    "model = LogisticRegression(solver='liblinear')"
   ]
  },
  {
   "cell_type": "code",
   "execution_count": 39,
   "metadata": {},
   "outputs": [
    {
     "data": {
      "text/plain": [
       "LogisticRegression(solver='liblinear')"
      ]
     },
     "execution_count": 39,
     "metadata": {},
     "output_type": "execute_result"
    }
   ],
   "source": [
    "model.fit(X_train, y_train)"
   ]
  },
  {
   "cell_type": "code",
   "execution_count": 40,
   "metadata": {},
   "outputs": [],
   "source": [
    "train_preds = model.predict(X_train)\n",
    "val_preds = model.predict(X_val)"
   ]
  },
  {
   "cell_type": "markdown",
   "metadata": {
    "id": "37s-m8G2pL4J"
   },
   "source": [
    "7. Виведіть Confusion matrix, ROC Curve, метрику AUROC та метрику F1 Score для порога класифікації 0.5 для побудованої моделі на тренувальних та валідаційних даних. Що можете сказати про якіст моделі? Вона хороша, погана, задовільна?"
   ]
  },
  {
   "cell_type": "code",
   "execution_count": 41,
   "metadata": {
    "id": "I02ENkyJ2jhn"
   },
   "outputs": [
    {
     "data": {
      "text/plain": [
       "array([[9144,  414],\n",
       "       [1179, 1263]], dtype=int64)"
      ]
     },
     "execution_count": 41,
     "metadata": {},
     "output_type": "execute_result"
    }
   ],
   "source": [
    "confusion_matrix(y_train, train_preds)"
   ]
  },
  {
   "cell_type": "code",
   "execution_count": 42,
   "metadata": {},
   "outputs": [],
   "source": [
    "def predict_and_plot(inputs, targets, name=''):\n",
    "    preds = model.predict(inputs)\n",
    "\n",
    "    accuracy = accuracy_score(targets, preds)\n",
    "    print(\"Accuracy: {:.2f}%\".format(accuracy * 100))\n",
    "\n",
    "    cf = confusion_matrix(targets, preds, normalize='true')\n",
    "    plt.figure()\n",
    "    sns.heatmap(cf, annot=True)\n",
    "    plt.xlabel('Prediction')\n",
    "    plt.ylabel('Target')\n",
    "    plt.title('{} Confusion Matrix'.format(name));\n",
    "\n",
    "    return preds"
   ]
  },
  {
   "cell_type": "code",
   "execution_count": 43,
   "metadata": {},
   "outputs": [
    {
     "name": "stdout",
     "output_type": "stream",
     "text": [
      "Accuracy: 86.72%\n"
     ]
    },
    {
     "data": {
      "image/png": "[encoded data removed]",
      "text/plain": [
       "<Figure size 640x480 with 2 Axes>"
      ]
     },
     "metadata": {},
     "output_type": "display_data"
    }
   ],
   "source": [
    "train_preds = predict_and_plot(X_train, y_train, 'Training')"
   ]
  },
  {
   "cell_type": "code",
   "execution_count": 44,
   "metadata": {},
   "outputs": [
    {
     "name": "stdout",
     "output_type": "stream",
     "text": [
      "Accuracy: 86.73%\n"
     ]
    },
    {
     "data": {
      "image/png": "[encoded data removed]",
      "text/plain": [
       "<Figure size 640x480 with 2 Axes>"
      ]
     },
     "metadata": {},
     "output_type": "display_data"
    }
   ],
   "source": [
    "val_preds = predict_and_plot(X_val, y_val, 'Validation')"
   ]
  },
  {
   "cell_type": "code",
   "execution_count": 45,
   "metadata": {},
   "outputs": [
    {
     "name": "stdout",
     "output_type": "stream",
     "text": [
      "F1 score Training: 0.61%\n",
      "F1 score Validation: 0.63%\n"
     ]
    }
   ],
   "source": [
    "def get_f1_score(inputs, targets, name=''):\n",
    "    preds = model.predict(inputs)\n",
    "\n",
    "    f1_score_ = f1_score(targets, preds, pos_label=1)\n",
    "    print(f\"F1 score {name}: {f1_score_:.2f}%\")\n",
    "\n",
    "get_f1_score(X_train, y_train, 'Training')\n",
    "get_f1_score(X_val, y_val, 'Validation')"
   ]
  },
  {
   "cell_type": "code",
   "execution_count": 46,
   "metadata": {},
   "outputs": [],
   "source": [
    "def compute_auroc_and_build_roc(inputs, targets, name=''):\n",
    "    # Predict probabilities\n",
    "    y_pred_proba = model.predict_proba(inputs)[:, 1]\n",
    "\n",
    "    # Compute ROC curve\n",
    "    fpr, tpr, thresholds = roc_curve(targets, y_pred_proba, pos_label=1)\n",
    "\n",
    "    # Compute AUROC\n",
    "    roc_auc = auc(fpr, tpr)\n",
    "    print(f'AUROC for {name}: {roc_auc:.2f}')\n",
    "\n",
    "    # Plot the ROC curve\n",
    "    plt.figure()\n",
    "    plt.plot(fpr, tpr, color='darkorange', lw=2, label=f'ROC curve (area = {roc_auc:.2f})')\n",
    "    plt.plot([0, 1], [0, 1], color='navy', lw=2, linestyle='--')\n",
    "    plt.xlim([0.0, 1.0])\n",
    "    plt.ylim([0.0, 1.05])\n",
    "    plt.xlabel('False Positive Rate')\n",
    "    plt.ylabel('True Positive Rate')\n",
    "    plt.title(f'Receiver Operating Characteristic (ROC) Curve for {name}')\n",
    "    plt.legend(loc=\"lower right\")\n",
    "    plt.show()"
   ]
  },
  {
   "cell_type": "code",
   "execution_count": 47,
   "metadata": {},
   "outputs": [
    {
     "name": "stdout",
     "output_type": "stream",
     "text": [
      "AUROC for Training: 0.87\n"
     ]
    },
    {
     "data": {
      "image/png": "[encoded data removed]",
      "text/plain": [
       "<Figure size 640x480 with 1 Axes>"
      ]
     },
     "metadata": {},
     "output_type": "display_data"
    },
    {
     "name": "stdout",
     "output_type": "stream",
     "text": [
      "AUROC for Validation: 0.87\n"
     ]
    },
    {
     "data": {
      "image/png": "[encoded data removed]",
      "text/plain": [
       "<Figure size 640x480 with 1 Axes>"
      ]
     },
     "metadata": {},
     "output_type": "display_data"
    }
   ],
   "source": [
    "compute_auroc_and_build_roc(X_train, y_train, 'Training')\n",
    "compute_auroc_and_build_roc(X_val, y_val, 'Validation')"
   ]
  },
  {
   "cell_type": "markdown",
   "metadata": {},
   "source": [
    "Висновок:\n",
    "- f1-score має високий показник, а саме 63% на валідаційному датасеті, що вказує на досить непогану якість моделі.\n",
    "- Так само AUROC має показники у 87%, що вказує на гарну якість.\n",
    "- Також різниця між показниками метрик на навчальному і валідаційному датасетах невелика, а це означає, що немає перенавчання."
   ]
  },
  {
   "cell_type": "markdown",
   "metadata": {
    "id": "3aLarTs4rWIJ"
   },
   "source": [
    "8. Створіть передбачення моделі, яка передбачає завжди мажоритарний клас (той, якого більше в тренувальних даних). Порахуйте Accuracy на тренувальних та валідаційних даних для цієї моделі і тої, що ми натренували в п.6. Зробіть заключення про якість нашої моделі: якість хороша, погана, задовільна?"
   ]
  },
  {
   "cell_type": "code",
   "execution_count": 49,
   "metadata": {
    "id": "0szMoWzd2k_Y"
   },
   "outputs": [],
   "source": [
    "def all_no(inputs):\n",
    "    return np.full(len(inputs), 0)"
   ]
  },
  {
   "cell_type": "code",
   "execution_count": 51,
   "metadata": {},
   "outputs": [
    {
     "name": "stdout",
     "output_type": "stream",
     "text": [
      "Accuracy train dataset, all false model: 0.7965\n",
      "Accuracy validation dataset, all false model: 0.7966666666666666\n"
     ]
    }
   ],
   "source": [
    "print(\"Accuracy train dataset, all false model:\", accuracy_score(y_train, all_no(y_train)))\n",
    "print(\"Accuracy validation dataset, all false model:\", accuracy_score(y_val, all_no(y_val)))"
   ]
  },
  {
   "cell_type": "code",
   "execution_count": 52,
   "metadata": {},
   "outputs": [
    {
     "name": "stdout",
     "output_type": "stream",
     "text": [
      "Accuracy train dataset, logistic regression model: 0.86725\n",
      "Accuracy validation dataset, logistic regression model: 0.8673333333333333\n"
     ]
    }
   ],
   "source": [
    "print(\"Accuracy train dataset, logistic regression model:\", accuracy_score(y_train, train_preds))\n",
    "print(\"Accuracy validation dataset, logistic regression model:\", accuracy_score(y_val, val_preds))"
   ]
  },
  {
   "cell_type": "markdown",
   "metadata": {},
   "source": [
    "Модель, де усі передбачення дорівнюють значенню No досягає точності майже в 80%. Модель логістичної легрессії краща за \"дурну\" модель і має точність майже 87% на валідаційних даних."
   ]
  },
  {
   "cell_type": "markdown",
   "metadata": {
    "id": "l_3QF-hAuFgA"
   },
   "source": [
    "9. Збережіть модель і інші обʼєкти, які ви хотіли б зберегти, з використанням бібліотеки joblib в файл `log_reg.joblib`. Потім завантажте модель з файлу в змінну `model_2` (цим ми тренуємось завантажувати модель з файлу на майбутнє)."
   ]
  },
  {
   "cell_type": "code",
   "execution_count": 53,
   "metadata": {
    "id": "FpeQ2qLm2oBU"
   },
   "outputs": [],
   "source": [
    "log_reg_bank_churn = {\n",
    "    'model': model,\n",
    "    'scaler': scaler,\n",
    "    'input_cols': input_cols,\n",
    "    'target_col': target_col,\n",
    "    'frequency_encoding': frequency_encoding,\n",
    "    'gender_codes': gender_codes\n",
    "}"
   ]
  },
  {
   "cell_type": "code",
   "execution_count": 54,
   "metadata": {},
   "outputs": [],
   "source": [
    "joblib.dump(log_reg_bank_churn, 'bank-customer-churn-train-test-data/log_reg.joblib')\n",
    "model_2 = joblib.load('bank-customer-churn-train-test-data/log_reg.joblib')"
   ]
  },
  {
   "cell_type": "code",
   "execution_count": 55,
   "metadata": {},
   "outputs": [
    {
     "data": {
      "text/plain": [
       "{'model': LogisticRegression(solver='liblinear'),\n",
       " 'scaler': StandardScaler(),\n",
       " 'input_cols': ['CreditScore',\n",
       "  'Age',\n",
       "  'Tenure',\n",
       "  'Balance',\n",
       "  'NumOfProducts',\n",
       "  'HasCrCard',\n",
       "  'IsActiveMember',\n",
       "  'EstimatedSalary',\n",
       "  'Geography_encoded',\n",
       "  'Gender_Type_Code'],\n",
       " 'target_col': 'Exited',\n",
       " 'frequency_encoding': France     0.600917\n",
       " Spain      0.219833\n",
       " Germany    0.179250\n",
       " Name: Geography, dtype: float64,\n",
       " 'gender_codes': {'Male': 1, 'Female': 0}}"
      ]
     },
     "execution_count": 55,
     "metadata": {},
     "output_type": "execute_result"
    }
   ],
   "source": [
    "model_2"
   ]
  },
  {
   "cell_type": "markdown",
   "metadata": {
    "id": "E_b1hrHUvQpb"
   },
   "source": [
    "10. Ознайомтесь з роботою наведеної функції `predict_raw_df`. Ця функція робить підготовку даних (масштабування числових колонок і кодування категоріальних) і виводить ймовірності належності до класу 1 для кожного рядка в наданому наборі.\n",
    "\n",
    "Доповніть або внесіть зміни у функцію з врахуванням вашого препроцесингу даних."
   ]
  },
  {
   "cell_type": "code",
   "execution_count": null,
   "metadata": {
    "id": "n8bLQDa3viLC"
   },
   "outputs": [],
   "source": [
    "# import warnings\n",
    "# warnings.filterwarnings(\"ignore\")\n",
    "\n",
    "# def predict_raw_df(scaler, encoder, numeric_cols, categorical_cols, input_df: pd.DataFrame):\n",
    "#     input_df[numeric_cols] = scaler.transform(input_df[numeric_cols])\n",
    "#     input_df[encoded_cols] = encoder.transform(input_df[categorical_cols])\n",
    "#     X_input = input_df[numeric_cols + encoded_cols]\n",
    "#     prob = model.predict_proba(X_input)[:,1]\n",
    "#     return prob"
   ]
  },
  {
   "cell_type": "code",
   "execution_count": 56,
   "metadata": {},
   "outputs": [],
   "source": [
    "import warnings\n",
    "warnings.filterwarnings(\"ignore\")\n",
    "\n",
    "def predict_raw_df(scaler, frequency_encoding, gender_codes, input_cols, model, input_df):\n",
    "    # Кодуємо Gender\n",
    "    input_df['Gender_Type_Code'] = input_df['Gender'].map(gender_codes)\n",
    "    \n",
    "     # Кодуємо Geography за допомогою частоти\n",
    "    input_df['Geography_encoded'] = input_df['Geography'].map(frequency_encoding)\n",
    "    \n",
    "    input_df[input_cols] = scaler.transform(input_df[input_cols])\n",
    "    \n",
    "    X_input = input_df[input_cols]\n",
    "    prob = model.predict_proba(X_input)[:,1]\n",
    "\n",
    "    return prob"
   ]
  },
  {
   "cell_type": "markdown",
   "metadata": {
    "id": "W8rRDFfExV40"
   },
   "source": [
    "11. Зчитайте дані з `test.csv` в змінну `test_raw_df`. Зробіть передбачення для кожного рядка даних з функцією з попереднього завдання і запишіть результат в нову колонку `Exited` в датафреймі `test_raw_df`."
   ]
  },
  {
   "cell_type": "code",
   "execution_count": 57,
   "metadata": {
    "id": "LyWEdGWx2u6d"
   },
   "outputs": [],
   "source": [
    "test_raw_df = pd.read_csv('bank-customer-churn-prediction-dlu/test.csv')"
   ]
  },
  {
   "cell_type": "code",
   "execution_count": 58,
   "metadata": {},
   "outputs": [
    {
     "data": {
      "text/plain": [
       "LogisticRegression(solver='liblinear')"
      ]
     },
     "execution_count": 58,
     "metadata": {},
     "output_type": "execute_result"
    }
   ],
   "source": [
    "model_2['model']"
   ]
  },
  {
   "cell_type": "code",
   "execution_count": 59,
   "metadata": {},
   "outputs": [
    {
     "data": {
      "text/plain": [
       "['CreditScore',\n",
       " 'Age',\n",
       " 'Tenure',\n",
       " 'Balance',\n",
       " 'NumOfProducts',\n",
       " 'HasCrCard',\n",
       " 'IsActiveMember',\n",
       " 'EstimatedSalary',\n",
       " 'Geography_encoded',\n",
       " 'Gender_Type_Code']"
      ]
     },
     "execution_count": 59,
     "metadata": {},
     "output_type": "execute_result"
    }
   ],
   "source": [
    "model_2['input_cols']"
   ]
  },
  {
   "cell_type": "code",
   "execution_count": 61,
   "metadata": {},
   "outputs": [],
   "source": [
    "test_raw_df['Exited'] = predict_raw_df(model_2['scaler'],\n",
    "                                       model_2['frequency_encoding'],\n",
    "                                       model_2['gender_codes'], \n",
    "                                       model_2['input_cols'], \n",
    "                                       model_2['model'], \n",
    "                                       test_raw_df)"
   ]
  },
  {
   "cell_type": "code",
   "execution_count": 62,
   "metadata": {},
   "outputs": [
    {
     "data": {
      "text/html": [
       "<div>\n",
       "<style scoped>\n",
       "    .dataframe tbody tr th:only-of-type {\n",
       "        vertical-align: middle;\n",
       "    }\n",
       "\n",
       "    .dataframe tbody tr th {\n",
       "        vertical-align: top;\n",
       "    }\n",
       "\n",
       "    .dataframe thead th {\n",
       "        text-align: right;\n",
       "    }\n",
       "</style>\n",
       "<table border=\"1\" class=\"dataframe\">\n",
       "  <thead>\n",
       "    <tr style=\"text-align: right;\">\n",
       "      <th></th>\n",
       "      <th>id</th>\n",
       "      <th>CustomerId</th>\n",
       "      <th>Surname</th>\n",
       "      <th>CreditScore</th>\n",
       "      <th>Geography</th>\n",
       "      <th>Gender</th>\n",
       "      <th>Age</th>\n",
       "      <th>Tenure</th>\n",
       "      <th>Balance</th>\n",
       "      <th>NumOfProducts</th>\n",
       "      <th>HasCrCard</th>\n",
       "      <th>IsActiveMember</th>\n",
       "      <th>EstimatedSalary</th>\n",
       "      <th>Gender_Type_Code</th>\n",
       "      <th>Geography_encoded</th>\n",
       "      <th>Exited</th>\n",
       "    </tr>\n",
       "  </thead>\n",
       "  <tbody>\n",
       "    <tr>\n",
       "      <th>0</th>\n",
       "      <td>15000</td>\n",
       "      <td>15594796.0</td>\n",
       "      <td>Chu</td>\n",
       "      <td>-1.034678</td>\n",
       "      <td>Germany</td>\n",
       "      <td>Male</td>\n",
       "      <td>-0.944682</td>\n",
       "      <td>-1.087792</td>\n",
       "      <td>1.720173</td>\n",
       "      <td>-1.108193</td>\n",
       "      <td>0.515062</td>\n",
       "      <td>1.016977</td>\n",
       "      <td>0.875226</td>\n",
       "      <td>0.86325</td>\n",
       "      <td>-1.338565</td>\n",
       "      <td>0.045717</td>\n",
       "    </tr>\n",
       "    <tr>\n",
       "      <th>1</th>\n",
       "      <td>15001</td>\n",
       "      <td>15642821.0</td>\n",
       "      <td>Mazzi</td>\n",
       "      <td>-1.490909</td>\n",
       "      <td>France</td>\n",
       "      <td>Male</td>\n",
       "      <td>0.161227</td>\n",
       "      <td>-0.009376</td>\n",
       "      <td>-0.717950</td>\n",
       "      <td>0.769304</td>\n",
       "      <td>0.515062</td>\n",
       "      <td>1.016977</td>\n",
       "      <td>-1.109098</td>\n",
       "      <td>0.86325</td>\n",
       "      <td>0.813211</td>\n",
       "      <td>0.029592</td>\n",
       "    </tr>\n",
       "    <tr>\n",
       "      <th>2</th>\n",
       "      <td>15002</td>\n",
       "      <td>15716284.0</td>\n",
       "      <td>Onyekachi</td>\n",
       "      <td>0.651991</td>\n",
       "      <td>France</td>\n",
       "      <td>Male</td>\n",
       "      <td>0.652742</td>\n",
       "      <td>1.069040</td>\n",
       "      <td>-0.717950</td>\n",
       "      <td>0.769304</td>\n",
       "      <td>0.515062</td>\n",
       "      <td>-0.983306</td>\n",
       "      <td>0.850584</td>\n",
       "      <td>0.86325</td>\n",
       "      <td>0.813211</td>\n",
       "      <td>0.136763</td>\n",
       "    </tr>\n",
       "    <tr>\n",
       "      <th>3</th>\n",
       "      <td>15003</td>\n",
       "      <td>15785078.0</td>\n",
       "      <td>Martin</td>\n",
       "      <td>0.804068</td>\n",
       "      <td>Spain</td>\n",
       "      <td>Male</td>\n",
       "      <td>0.898500</td>\n",
       "      <td>-0.728320</td>\n",
       "      <td>-0.717950</td>\n",
       "      <td>-1.108193</td>\n",
       "      <td>0.515062</td>\n",
       "      <td>1.016977</td>\n",
       "      <td>1.073044</td>\n",
       "      <td>0.86325</td>\n",
       "      <td>-1.131467</td>\n",
       "      <td>0.278979</td>\n",
       "    </tr>\n",
       "    <tr>\n",
       "      <th>4</th>\n",
       "      <td>15004</td>\n",
       "      <td>15662955.0</td>\n",
       "      <td>Kenechukwu</td>\n",
       "      <td>-0.924077</td>\n",
       "      <td>Spain</td>\n",
       "      <td>Male</td>\n",
       "      <td>0.652742</td>\n",
       "      <td>1.069040</td>\n",
       "      <td>-0.717950</td>\n",
       "      <td>0.769304</td>\n",
       "      <td>0.515062</td>\n",
       "      <td>1.016977</td>\n",
       "      <td>0.563521</td>\n",
       "      <td>0.86325</td>\n",
       "      <td>-1.131467</td>\n",
       "      <td>0.088958</td>\n",
       "    </tr>\n",
       "    <tr>\n",
       "      <th>...</th>\n",
       "      <td>...</td>\n",
       "      <td>...</td>\n",
       "      <td>...</td>\n",
       "      <td>...</td>\n",
       "      <td>...</td>\n",
       "      <td>...</td>\n",
       "      <td>...</td>\n",
       "      <td>...</td>\n",
       "      <td>...</td>\n",
       "      <td>...</td>\n",
       "      <td>...</td>\n",
       "      <td>...</td>\n",
       "      <td>...</td>\n",
       "      <td>...</td>\n",
       "      <td>...</td>\n",
       "      <td>...</td>\n",
       "    </tr>\n",
       "    <tr>\n",
       "      <th>9995</th>\n",
       "      <td>24995</td>\n",
       "      <td>15642997.0</td>\n",
       "      <td>Chukwumaobim</td>\n",
       "      <td>-0.274295</td>\n",
       "      <td>Spain</td>\n",
       "      <td>Male</td>\n",
       "      <td>0.038348</td>\n",
       "      <td>1.787983</td>\n",
       "      <td>-0.717950</td>\n",
       "      <td>0.769304</td>\n",
       "      <td>0.515062</td>\n",
       "      <td>1.016977</td>\n",
       "      <td>-1.499416</td>\n",
       "      <td>0.86325</td>\n",
       "      <td>-1.131467</td>\n",
       "      <td>0.035098</td>\n",
       "    </tr>\n",
       "    <tr>\n",
       "      <th>9996</th>\n",
       "      <td>24996</td>\n",
       "      <td>15739271.0</td>\n",
       "      <td>Clements</td>\n",
       "      <td>0.264887</td>\n",
       "      <td>Spain</td>\n",
       "      <td>Male</td>\n",
       "      <td>0.161227</td>\n",
       "      <td>1.428511</td>\n",
       "      <td>-0.717950</td>\n",
       "      <td>0.769304</td>\n",
       "      <td>0.515062</td>\n",
       "      <td>1.016977</td>\n",
       "      <td>0.537890</td>\n",
       "      <td>0.86325</td>\n",
       "      <td>-1.131467</td>\n",
       "      <td>0.041261</td>\n",
       "    </tr>\n",
       "    <tr>\n",
       "      <th>9997</th>\n",
       "      <td>24997</td>\n",
       "      <td>15756743.0</td>\n",
       "      <td>Chidiebere</td>\n",
       "      <td>1.592102</td>\n",
       "      <td>France</td>\n",
       "      <td>Male</td>\n",
       "      <td>-0.944682</td>\n",
       "      <td>1.428511</td>\n",
       "      <td>-0.717950</td>\n",
       "      <td>0.769304</td>\n",
       "      <td>0.515062</td>\n",
       "      <td>-0.983306</td>\n",
       "      <td>-2.481612</td>\n",
       "      <td>0.86325</td>\n",
       "      <td>0.813211</td>\n",
       "      <td>0.015037</td>\n",
       "    </tr>\n",
       "    <tr>\n",
       "      <th>9998</th>\n",
       "      <td>24998</td>\n",
       "      <td>15680167.0</td>\n",
       "      <td>Yermakova</td>\n",
       "      <td>-0.882602</td>\n",
       "      <td>France</td>\n",
       "      <td>Male</td>\n",
       "      <td>0.038348</td>\n",
       "      <td>0.350096</td>\n",
       "      <td>1.700511</td>\n",
       "      <td>-1.108193</td>\n",
       "      <td>0.515062</td>\n",
       "      <td>-0.983306</td>\n",
       "      <td>0.185943</td>\n",
       "      <td>0.86325</td>\n",
       "      <td>0.813211</td>\n",
       "      <td>0.229435</td>\n",
       "    </tr>\n",
       "    <tr>\n",
       "      <th>9999</th>\n",
       "      <td>24999</td>\n",
       "      <td>15662901.0</td>\n",
       "      <td>Ting</td>\n",
       "      <td>0.016034</td>\n",
       "      <td>France</td>\n",
       "      <td>Male</td>\n",
       "      <td>-0.944682</td>\n",
       "      <td>-0.728320</td>\n",
       "      <td>-0.717950</td>\n",
       "      <td>-1.108193</td>\n",
       "      <td>0.515062</td>\n",
       "      <td>-0.983306</td>\n",
       "      <td>-0.267782</td>\n",
       "      <td>0.86325</td>\n",
       "      <td>0.813211</td>\n",
       "      <td>0.071736</td>\n",
       "    </tr>\n",
       "  </tbody>\n",
       "</table>\n",
       "<p>10000 rows × 16 columns</p>\n",
       "</div>"
      ],
      "text/plain": [
       "         id  CustomerId       Surname  CreditScore Geography Gender       Age  \\\n",
       "0     15000  15594796.0           Chu    -1.034678   Germany   Male -0.944682   \n",
       "1     15001  15642821.0         Mazzi    -1.490909    France   Male  0.161227   \n",
       "2     15002  15716284.0     Onyekachi     0.651991    France   Male  0.652742   \n",
       "3     15003  15785078.0        Martin     0.804068     Spain   Male  0.898500   \n",
       "4     15004  15662955.0    Kenechukwu    -0.924077     Spain   Male  0.652742   \n",
       "...     ...         ...           ...          ...       ...    ...       ...   \n",
       "9995  24995  15642997.0  Chukwumaobim    -0.274295     Spain   Male  0.038348   \n",
       "9996  24996  15739271.0      Clements     0.264887     Spain   Male  0.161227   \n",
       "9997  24997  15756743.0    Chidiebere     1.592102    France   Male -0.944682   \n",
       "9998  24998  15680167.0     Yermakova    -0.882602    France   Male  0.038348   \n",
       "9999  24999  15662901.0          Ting     0.016034    France   Male -0.944682   \n",
       "\n",
       "        Tenure   Balance  NumOfProducts  HasCrCard  IsActiveMember  \\\n",
       "0    -1.087792  1.720173      -1.108193   0.515062        1.016977   \n",
       "1    -0.009376 -0.717950       0.769304   0.515062        1.016977   \n",
       "2     1.069040 -0.717950       0.769304   0.515062       -0.983306   \n",
       "3    -0.728320 -0.717950      -1.108193   0.515062        1.016977   \n",
       "4     1.069040 -0.717950       0.769304   0.515062        1.016977   \n",
       "...        ...       ...            ...        ...             ...   \n",
       "9995  1.787983 -0.717950       0.769304   0.515062        1.016977   \n",
       "9996  1.428511 -0.717950       0.769304   0.515062        1.016977   \n",
       "9997  1.428511 -0.717950       0.769304   0.515062       -0.983306   \n",
       "9998  0.350096  1.700511      -1.108193   0.515062       -0.983306   \n",
       "9999 -0.728320 -0.717950      -1.108193   0.515062       -0.983306   \n",
       "\n",
       "      EstimatedSalary  Gender_Type_Code  Geography_encoded    Exited  \n",
       "0            0.875226           0.86325          -1.338565  0.045717  \n",
       "1           -1.109098           0.86325           0.813211  0.029592  \n",
       "2            0.850584           0.86325           0.813211  0.136763  \n",
       "3            1.073044           0.86325          -1.131467  0.278979  \n",
       "4            0.563521           0.86325          -1.131467  0.088958  \n",
       "...               ...               ...                ...       ...  \n",
       "9995        -1.499416           0.86325          -1.131467  0.035098  \n",
       "9996         0.537890           0.86325          -1.131467  0.041261  \n",
       "9997        -2.481612           0.86325           0.813211  0.015037  \n",
       "9998         0.185943           0.86325           0.813211  0.229435  \n",
       "9999        -0.267782           0.86325           0.813211  0.071736  \n",
       "\n",
       "[10000 rows x 16 columns]"
      ]
     },
     "execution_count": 62,
     "metadata": {},
     "output_type": "execute_result"
    }
   ],
   "source": [
    "test_raw_df"
   ]
  },
  {
   "cell_type": "markdown",
   "metadata": {
    "id": "ZHZciHxEx7IZ"
   },
   "source": [
    "12. Зчитайте файл 'sample_submission.csv' і зповніть колонку `Exited` передбаченими вашою моделлю значеннями для кожного відповідного `id` клієнта.\n",
    "Виведіть перші 5 рядків фінального датасету, збережіть результат в файл `submission_log_reg.csv` (УВАГА! не запишіть випадково ще індекси рядків!) і здайте цей файл на Kaggle зі свого профіля натиснувши `Submit Prediction`."
   ]
  },
  {
   "cell_type": "code",
   "execution_count": 63,
   "metadata": {
    "id": "HjkKnrll2wNA"
   },
   "outputs": [],
   "source": [
    "sample_submission = pd.read_csv('bank-customer-churn-prediction-dlu/sample_submission.csv')"
   ]
  },
  {
   "cell_type": "code",
   "execution_count": 64,
   "metadata": {},
   "outputs": [],
   "source": [
    "sample_submission = pd.merge(sample_submission,\n",
    "                             test_raw_df[['id', 'Exited']],\n",
    "                             on='id',\n",
    "                             how='left',\n",
    "                             suffixes=('_new', ''))"
   ]
  },
  {
   "cell_type": "code",
   "execution_count": 65,
   "metadata": {},
   "outputs": [],
   "source": [
    "sample_submission.drop(columns=['Exited_new'], inplace=True)"
   ]
  },
  {
   "cell_type": "code",
   "execution_count": 66,
   "metadata": {},
   "outputs": [
    {
     "data": {
      "text/html": [
       "<div>\n",
       "<style scoped>\n",
       "    .dataframe tbody tr th:only-of-type {\n",
       "        vertical-align: middle;\n",
       "    }\n",
       "\n",
       "    .dataframe tbody tr th {\n",
       "        vertical-align: top;\n",
       "    }\n",
       "\n",
       "    .dataframe thead th {\n",
       "        text-align: right;\n",
       "    }\n",
       "</style>\n",
       "<table border=\"1\" class=\"dataframe\">\n",
       "  <thead>\n",
       "    <tr style=\"text-align: right;\">\n",
       "      <th></th>\n",
       "      <th>id</th>\n",
       "      <th>Exited</th>\n",
       "    </tr>\n",
       "  </thead>\n",
       "  <tbody>\n",
       "    <tr>\n",
       "      <th>0</th>\n",
       "      <td>15000</td>\n",
       "      <td>0.045717</td>\n",
       "    </tr>\n",
       "    <tr>\n",
       "      <th>1</th>\n",
       "      <td>15001</td>\n",
       "      <td>0.029592</td>\n",
       "    </tr>\n",
       "    <tr>\n",
       "      <th>2</th>\n",
       "      <td>15002</td>\n",
       "      <td>0.136763</td>\n",
       "    </tr>\n",
       "    <tr>\n",
       "      <th>3</th>\n",
       "      <td>15003</td>\n",
       "      <td>0.278979</td>\n",
       "    </tr>\n",
       "    <tr>\n",
       "      <th>4</th>\n",
       "      <td>15004</td>\n",
       "      <td>0.088958</td>\n",
       "    </tr>\n",
       "  </tbody>\n",
       "</table>\n",
       "</div>"
      ],
      "text/plain": [
       "      id    Exited\n",
       "0  15000  0.045717\n",
       "1  15001  0.029592\n",
       "2  15002  0.136763\n",
       "3  15003  0.278979\n",
       "4  15004  0.088958"
      ]
     },
     "execution_count": 66,
     "metadata": {},
     "output_type": "execute_result"
    }
   ],
   "source": [
    "sample_submission.head()"
   ]
  },
  {
   "cell_type": "code",
   "execution_count": 67,
   "metadata": {},
   "outputs": [
    {
     "data": {
      "text/html": [
       "<div>\n",
       "<style scoped>\n",
       "    .dataframe tbody tr th:only-of-type {\n",
       "        vertical-align: middle;\n",
       "    }\n",
       "\n",
       "    .dataframe tbody tr th {\n",
       "        vertical-align: top;\n",
       "    }\n",
       "\n",
       "    .dataframe thead th {\n",
       "        text-align: right;\n",
       "    }\n",
       "</style>\n",
       "<table border=\"1\" class=\"dataframe\">\n",
       "  <thead>\n",
       "    <tr style=\"text-align: right;\">\n",
       "      <th></th>\n",
       "      <th>id</th>\n",
       "      <th>Exited</th>\n",
       "    </tr>\n",
       "  </thead>\n",
       "  <tbody>\n",
       "    <tr>\n",
       "      <th>11</th>\n",
       "      <td>15011</td>\n",
       "      <td>0.953223</td>\n",
       "    </tr>\n",
       "    <tr>\n",
       "      <th>22</th>\n",
       "      <td>15022</td>\n",
       "      <td>0.938222</td>\n",
       "    </tr>\n",
       "    <tr>\n",
       "      <th>25</th>\n",
       "      <td>15025</td>\n",
       "      <td>0.611273</td>\n",
       "    </tr>\n",
       "    <tr>\n",
       "      <th>26</th>\n",
       "      <td>15026</td>\n",
       "      <td>0.571195</td>\n",
       "    </tr>\n",
       "    <tr>\n",
       "      <th>29</th>\n",
       "      <td>15029</td>\n",
       "      <td>0.530843</td>\n",
       "    </tr>\n",
       "    <tr>\n",
       "      <th>...</th>\n",
       "      <td>...</td>\n",
       "      <td>...</td>\n",
       "    </tr>\n",
       "    <tr>\n",
       "      <th>9970</th>\n",
       "      <td>24970</td>\n",
       "      <td>0.722482</td>\n",
       "    </tr>\n",
       "    <tr>\n",
       "      <th>9986</th>\n",
       "      <td>24986</td>\n",
       "      <td>0.847030</td>\n",
       "    </tr>\n",
       "    <tr>\n",
       "      <th>9989</th>\n",
       "      <td>24989</td>\n",
       "      <td>0.658744</td>\n",
       "    </tr>\n",
       "    <tr>\n",
       "      <th>9990</th>\n",
       "      <td>24990</td>\n",
       "      <td>0.857983</td>\n",
       "    </tr>\n",
       "    <tr>\n",
       "      <th>9993</th>\n",
       "      <td>24993</td>\n",
       "      <td>0.643170</td>\n",
       "    </tr>\n",
       "  </tbody>\n",
       "</table>\n",
       "<p>1529 rows × 2 columns</p>\n",
       "</div>"
      ],
      "text/plain": [
       "         id    Exited\n",
       "11    15011  0.953223\n",
       "22    15022  0.938222\n",
       "25    15025  0.611273\n",
       "26    15026  0.571195\n",
       "29    15029  0.530843\n",
       "...     ...       ...\n",
       "9970  24970  0.722482\n",
       "9986  24986  0.847030\n",
       "9989  24989  0.658744\n",
       "9990  24990  0.857983\n",
       "9993  24993  0.643170\n",
       "\n",
       "[1529 rows x 2 columns]"
      ]
     },
     "execution_count": 67,
     "metadata": {},
     "output_type": "execute_result"
    }
   ],
   "source": [
    "sample_submission[sample_submission['Exited'] > 0.5]"
   ]
  },
  {
   "cell_type": "code",
   "execution_count": 68,
   "metadata": {},
   "outputs": [],
   "source": [
    "sample_submission.to_csv('bank-customer-churn-prediction-dlu/submission_log_reg.csv', index=False)"
   ]
  }
 ],
 "metadata": {
  "colab": {
   "provenance": []
  },
  "kernelspec": {
   "display_name": "Python 3 (ipykernel)",
   "language": "python",
   "name": "python3"
  },
  "language_info": {
   "codemirror_mode": {
    "name": "ipython",
    "version": 3
   },
   "file_extension": ".py",
   "mimetype": "text/x-python",
   "name": "python",
   "nbconvert_exporter": "python",
   "pygments_lexer": "ipython3",
   "version": "3.9.13"
  }
 },
 "nbformat": 4,
 "nbformat_minor": 1
}
