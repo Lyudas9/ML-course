{
 "cells": [
  {
   "cell_type": "markdown",
   "metadata": {
    "id": "Zl1UHn4aRLMg"
   },
   "source": [
    "# Домашнє завдання: Побудова класифікатора сентименту на основі набору даних Tweet Sentiment Extraction\n",
    "\n",
    "**Мета:** Провести аналіз набору даних, виконати векторизацію текстових даних за допомогою методів bag-of-words та TF-IDF, порівняти їх, побудувати класифікатор та провести аналіз помилок.\n",
    "\n",
    "**Набір даних:**\n",
    "Дані беремо з цього змагання на Kaggle: https://www.kaggle.com/competitions/tweet-sentiment-extraction/data?select=train.csv\n",
    "\n",
    "Оригінальне змагання має дещо іншу задачу, але ми будемо поки будувати саме класифікатор.\n",
    "\n",
    "### Завдання 1. Завантаження та ознайомлення з набором даних\n",
    "\n",
    "- Завантажте набір даних `train.csv` з посилання та ознайомтеся з його структурою.\n",
    "- Виведіть перші 5 рядків та основну статистику: кількість записів, типи колонок, кількість пропущених значень.\n",
    "- Видаліть записи, в яких є пропущені значення.\n",
    "\n"
   ]
  },
  {
   "cell_type": "code",
   "execution_count": 42,
   "metadata": {
    "id": "z9PAZcZgddHT"
   },
   "outputs": [],
   "source": [
    "import pandas as pd\n",
    "import matplotlib.pyplot as plt\n",
    "import seaborn as sns\n",
    "from sklearn.model_selection import train_test_split\n",
    "from sklearn.linear_model import LogisticRegression\n",
    "from sklearn.tree import DecisionTreeClassifier\n",
    "from sklearn.ensemble import GradientBoostingClassifier\n",
    "from sklearn.metrics import classification_report, accuracy_score, confusion_matrix, f1_score\n",
    "import nltk\n",
    "from nltk.tokenize import word_tokenize\n",
    "from nltk.tokenize import PunktSentenceTokenizer\n",
    "from nltk.corpus import stopwords\n",
    "from nltk.stem.snowball import SnowballStemmer\n",
    "from sklearn.feature_extraction.text import CountVectorizer\n",
    "import re"
   ]
  },
  {
   "cell_type": "code",
   "execution_count": 6,
   "metadata": {},
   "outputs": [],
   "source": [
    "df = pd.read_csv(r\"tweet_sentiment_train.csv/train.csv\")"
   ]
  },
  {
   "cell_type": "code",
   "execution_count": 7,
   "metadata": {},
   "outputs": [
    {
     "data": {
      "text/html": [
       "<div>\n",
       "<style scoped>\n",
       "    .dataframe tbody tr th:only-of-type {\n",
       "        vertical-align: middle;\n",
       "    }\n",
       "\n",
       "    .dataframe tbody tr th {\n",
       "        vertical-align: top;\n",
       "    }\n",
       "\n",
       "    .dataframe thead th {\n",
       "        text-align: right;\n",
       "    }\n",
       "</style>\n",
       "<table border=\"1\" class=\"dataframe\">\n",
       "  <thead>\n",
       "    <tr style=\"text-align: right;\">\n",
       "      <th></th>\n",
       "      <th>textID</th>\n",
       "      <th>text</th>\n",
       "      <th>selected_text</th>\n",
       "      <th>sentiment</th>\n",
       "    </tr>\n",
       "  </thead>\n",
       "  <tbody>\n",
       "    <tr>\n",
       "      <th>0</th>\n",
       "      <td>cb774db0d1</td>\n",
       "      <td>I`d have responded, if I were going</td>\n",
       "      <td>I`d have responded, if I were going</td>\n",
       "      <td>neutral</td>\n",
       "    </tr>\n",
       "    <tr>\n",
       "      <th>1</th>\n",
       "      <td>549e992a42</td>\n",
       "      <td>Sooo SAD I will miss you here in San Diego!!!</td>\n",
       "      <td>Sooo SAD</td>\n",
       "      <td>negative</td>\n",
       "    </tr>\n",
       "    <tr>\n",
       "      <th>2</th>\n",
       "      <td>088c60f138</td>\n",
       "      <td>my boss is bullying me...</td>\n",
       "      <td>bullying me</td>\n",
       "      <td>negative</td>\n",
       "    </tr>\n",
       "    <tr>\n",
       "      <th>3</th>\n",
       "      <td>9642c003ef</td>\n",
       "      <td>what interview! leave me alone</td>\n",
       "      <td>leave me alone</td>\n",
       "      <td>negative</td>\n",
       "    </tr>\n",
       "    <tr>\n",
       "      <th>4</th>\n",
       "      <td>358bd9e861</td>\n",
       "      <td>Sons of ****, why couldn`t they put them on t...</td>\n",
       "      <td>Sons of ****,</td>\n",
       "      <td>negative</td>\n",
       "    </tr>\n",
       "    <tr>\n",
       "      <th>...</th>\n",
       "      <td>...</td>\n",
       "      <td>...</td>\n",
       "      <td>...</td>\n",
       "      <td>...</td>\n",
       "    </tr>\n",
       "    <tr>\n",
       "      <th>27476</th>\n",
       "      <td>4eac33d1c0</td>\n",
       "      <td>wish we could come see u on Denver  husband l...</td>\n",
       "      <td>d lost</td>\n",
       "      <td>negative</td>\n",
       "    </tr>\n",
       "    <tr>\n",
       "      <th>27477</th>\n",
       "      <td>4f4c4fc327</td>\n",
       "      <td>I`ve wondered about rake to.  The client has ...</td>\n",
       "      <td>, don`t force</td>\n",
       "      <td>negative</td>\n",
       "    </tr>\n",
       "    <tr>\n",
       "      <th>27478</th>\n",
       "      <td>f67aae2310</td>\n",
       "      <td>Yay good for both of you. Enjoy the break - y...</td>\n",
       "      <td>Yay good for both of you.</td>\n",
       "      <td>positive</td>\n",
       "    </tr>\n",
       "    <tr>\n",
       "      <th>27479</th>\n",
       "      <td>ed167662a5</td>\n",
       "      <td>But it was worth it  ****.</td>\n",
       "      <td>But it was worth it  ****.</td>\n",
       "      <td>positive</td>\n",
       "    </tr>\n",
       "    <tr>\n",
       "      <th>27480</th>\n",
       "      <td>6f7127d9d7</td>\n",
       "      <td>All this flirting going on - The ATG smiles...</td>\n",
       "      <td>All this flirting going on - The ATG smiles. Y...</td>\n",
       "      <td>neutral</td>\n",
       "    </tr>\n",
       "  </tbody>\n",
       "</table>\n",
       "<p>27481 rows × 4 columns</p>\n",
       "</div>"
      ],
      "text/plain": [
       "           textID                                               text  \\\n",
       "0      cb774db0d1                I`d have responded, if I were going   \n",
       "1      549e992a42      Sooo SAD I will miss you here in San Diego!!!   \n",
       "2      088c60f138                          my boss is bullying me...   \n",
       "3      9642c003ef                     what interview! leave me alone   \n",
       "4      358bd9e861   Sons of ****, why couldn`t they put them on t...   \n",
       "...           ...                                                ...   \n",
       "27476  4eac33d1c0   wish we could come see u on Denver  husband l...   \n",
       "27477  4f4c4fc327   I`ve wondered about rake to.  The client has ...   \n",
       "27478  f67aae2310   Yay good for both of you. Enjoy the break - y...   \n",
       "27479  ed167662a5                         But it was worth it  ****.   \n",
       "27480  6f7127d9d7     All this flirting going on - The ATG smiles...   \n",
       "\n",
       "                                           selected_text sentiment  \n",
       "0                    I`d have responded, if I were going   neutral  \n",
       "1                                               Sooo SAD  negative  \n",
       "2                                            bullying me  negative  \n",
       "3                                         leave me alone  negative  \n",
       "4                                          Sons of ****,  negative  \n",
       "...                                                  ...       ...  \n",
       "27476                                             d lost  negative  \n",
       "27477                                      , don`t force  negative  \n",
       "27478                          Yay good for both of you.  positive  \n",
       "27479                         But it was worth it  ****.  positive  \n",
       "27480  All this flirting going on - The ATG smiles. Y...   neutral  \n",
       "\n",
       "[27481 rows x 4 columns]"
      ]
     },
     "execution_count": 7,
     "metadata": {},
     "output_type": "execute_result"
    }
   ],
   "source": [
    "df"
   ]
  },
  {
   "cell_type": "code",
   "execution_count": 9,
   "metadata": {},
   "outputs": [
    {
     "data": {
      "text/plain": [
       "textID           object\n",
       "text             object\n",
       "selected_text    object\n",
       "sentiment        object\n",
       "dtype: object"
      ]
     },
     "execution_count": 9,
     "metadata": {},
     "output_type": "execute_result"
    }
   ],
   "source": [
    "df.dtypes"
   ]
  },
  {
   "cell_type": "code",
   "execution_count": 10,
   "metadata": {},
   "outputs": [
    {
     "data": {
      "text/plain": [
       "textID           0\n",
       "text             1\n",
       "selected_text    1\n",
       "sentiment        0\n",
       "dtype: int64"
      ]
     },
     "execution_count": 10,
     "metadata": {},
     "output_type": "execute_result"
    }
   ],
   "source": [
    "df.isnull().sum()"
   ]
  },
  {
   "cell_type": "code",
   "execution_count": 11,
   "metadata": {},
   "outputs": [],
   "source": [
    "df.dropna(inplace=True)"
   ]
  },
  {
   "cell_type": "code",
   "execution_count": 13,
   "metadata": {},
   "outputs": [
    {
     "data": {
      "text/plain": [
       "27480"
      ]
     },
     "execution_count": 13,
     "metadata": {},
     "output_type": "execute_result"
    }
   ],
   "source": [
    "len(df)"
   ]
  },
  {
   "cell_type": "markdown",
   "metadata": {
    "id": "BXox7UCZUU5J"
   },
   "source": [
    "### Завдання 2. Exploratory Data Analysis\n",
    "\n",
    "- Проведіть аналіз кількості класів та розподілу міток. Класи знаходяться в колонці `sentiment`.\n",
    "- Візуалізуйте розподіл довжин текстів в символах та зробіть висновок про довжини постів: якої довжини постів найбільше, що бачите з розподілу?\n",
    "\n"
   ]
  },
  {
   "cell_type": "code",
   "execution_count": 17,
   "metadata": {
    "id": "aPm_wCjpde0s"
   },
   "outputs": [
    {
     "data": {
      "image/png": "[encoded data removed]",
      "text/plain": [
       "<Figure size 1200x600 with 1 Axes>"
      ]
     },
     "metadata": {},
     "output_type": "display_data"
    }
   ],
   "source": [
    "plt.figure(figsize=(12,6))\n",
    "sns.countplot(x='sentiment', hue='sentiment', data=df, palette='Set2')\n",
    "\n",
    "for p in plt.gca().patches:\n",
    "    plt.text(p.get_x() + p.get_width() / 2, p.get_height(), int(p.get_height()), \n",
    "             ha='center', va='bottom', fontsize=12)\n",
    "    \n",
    "plt.show()"
   ]
  },
  {
   "cell_type": "markdown",
   "metadata": {},
   "source": [
    "Бачимо, що найбільше у нас кейсів з нейтральним настороєм, а найменше - з негативним."
   ]
  },
  {
   "cell_type": "code",
   "execution_count": 18,
   "metadata": {},
   "outputs": [],
   "source": [
    "df['text_length'] = df['text'].str.len()"
   ]
  },
  {
   "cell_type": "code",
   "execution_count": 19,
   "metadata": {},
   "outputs": [
    {
     "data": {
      "text/html": [
       "<div>\n",
       "<style scoped>\n",
       "    .dataframe tbody tr th:only-of-type {\n",
       "        vertical-align: middle;\n",
       "    }\n",
       "\n",
       "    .dataframe tbody tr th {\n",
       "        vertical-align: top;\n",
       "    }\n",
       "\n",
       "    .dataframe thead th {\n",
       "        text-align: right;\n",
       "    }\n",
       "</style>\n",
       "<table border=\"1\" class=\"dataframe\">\n",
       "  <thead>\n",
       "    <tr style=\"text-align: right;\">\n",
       "      <th></th>\n",
       "      <th>textID</th>\n",
       "      <th>text</th>\n",
       "      <th>selected_text</th>\n",
       "      <th>sentiment</th>\n",
       "      <th>text_length</th>\n",
       "    </tr>\n",
       "  </thead>\n",
       "  <tbody>\n",
       "    <tr>\n",
       "      <th>0</th>\n",
       "      <td>cb774db0d1</td>\n",
       "      <td>I`d have responded, if I were going</td>\n",
       "      <td>I`d have responded, if I were going</td>\n",
       "      <td>neutral</td>\n",
       "      <td>36</td>\n",
       "    </tr>\n",
       "    <tr>\n",
       "      <th>1</th>\n",
       "      <td>549e992a42</td>\n",
       "      <td>Sooo SAD I will miss you here in San Diego!!!</td>\n",
       "      <td>Sooo SAD</td>\n",
       "      <td>negative</td>\n",
       "      <td>46</td>\n",
       "    </tr>\n",
       "    <tr>\n",
       "      <th>2</th>\n",
       "      <td>088c60f138</td>\n",
       "      <td>my boss is bullying me...</td>\n",
       "      <td>bullying me</td>\n",
       "      <td>negative</td>\n",
       "      <td>25</td>\n",
       "    </tr>\n",
       "    <tr>\n",
       "      <th>3</th>\n",
       "      <td>9642c003ef</td>\n",
       "      <td>what interview! leave me alone</td>\n",
       "      <td>leave me alone</td>\n",
       "      <td>negative</td>\n",
       "      <td>31</td>\n",
       "    </tr>\n",
       "    <tr>\n",
       "      <th>4</th>\n",
       "      <td>358bd9e861</td>\n",
       "      <td>Sons of ****, why couldn`t they put them on t...</td>\n",
       "      <td>Sons of ****,</td>\n",
       "      <td>negative</td>\n",
       "      <td>75</td>\n",
       "    </tr>\n",
       "    <tr>\n",
       "      <th>...</th>\n",
       "      <td>...</td>\n",
       "      <td>...</td>\n",
       "      <td>...</td>\n",
       "      <td>...</td>\n",
       "      <td>...</td>\n",
       "    </tr>\n",
       "    <tr>\n",
       "      <th>27476</th>\n",
       "      <td>4eac33d1c0</td>\n",
       "      <td>wish we could come see u on Denver  husband l...</td>\n",
       "      <td>d lost</td>\n",
       "      <td>negative</td>\n",
       "      <td>77</td>\n",
       "    </tr>\n",
       "    <tr>\n",
       "      <th>27477</th>\n",
       "      <td>4f4c4fc327</td>\n",
       "      <td>I`ve wondered about rake to.  The client has ...</td>\n",
       "      <td>, don`t force</td>\n",
       "      <td>negative</td>\n",
       "      <td>122</td>\n",
       "    </tr>\n",
       "    <tr>\n",
       "      <th>27478</th>\n",
       "      <td>f67aae2310</td>\n",
       "      <td>Yay good for both of you. Enjoy the break - y...</td>\n",
       "      <td>Yay good for both of you.</td>\n",
       "      <td>positive</td>\n",
       "      <td>111</td>\n",
       "    </tr>\n",
       "    <tr>\n",
       "      <th>27479</th>\n",
       "      <td>ed167662a5</td>\n",
       "      <td>But it was worth it  ****.</td>\n",
       "      <td>But it was worth it  ****.</td>\n",
       "      <td>positive</td>\n",
       "      <td>27</td>\n",
       "    </tr>\n",
       "    <tr>\n",
       "      <th>27480</th>\n",
       "      <td>6f7127d9d7</td>\n",
       "      <td>All this flirting going on - The ATG smiles...</td>\n",
       "      <td>All this flirting going on - The ATG smiles. Y...</td>\n",
       "      <td>neutral</td>\n",
       "      <td>62</td>\n",
       "    </tr>\n",
       "  </tbody>\n",
       "</table>\n",
       "<p>27480 rows × 5 columns</p>\n",
       "</div>"
      ],
      "text/plain": [
       "           textID                                               text  \\\n",
       "0      cb774db0d1                I`d have responded, if I were going   \n",
       "1      549e992a42      Sooo SAD I will miss you here in San Diego!!!   \n",
       "2      088c60f138                          my boss is bullying me...   \n",
       "3      9642c003ef                     what interview! leave me alone   \n",
       "4      358bd9e861   Sons of ****, why couldn`t they put them on t...   \n",
       "...           ...                                                ...   \n",
       "27476  4eac33d1c0   wish we could come see u on Denver  husband l...   \n",
       "27477  4f4c4fc327   I`ve wondered about rake to.  The client has ...   \n",
       "27478  f67aae2310   Yay good for both of you. Enjoy the break - y...   \n",
       "27479  ed167662a5                         But it was worth it  ****.   \n",
       "27480  6f7127d9d7     All this flirting going on - The ATG smiles...   \n",
       "\n",
       "                                           selected_text sentiment  \\\n",
       "0                    I`d have responded, if I were going   neutral   \n",
       "1                                               Sooo SAD  negative   \n",
       "2                                            bullying me  negative   \n",
       "3                                         leave me alone  negative   \n",
       "4                                          Sons of ****,  negative   \n",
       "...                                                  ...       ...   \n",
       "27476                                             d lost  negative   \n",
       "27477                                      , don`t force  negative   \n",
       "27478                          Yay good for both of you.  positive   \n",
       "27479                         But it was worth it  ****.  positive   \n",
       "27480  All this flirting going on - The ATG smiles. Y...   neutral   \n",
       "\n",
       "       text_length  \n",
       "0               36  \n",
       "1               46  \n",
       "2               25  \n",
       "3               31  \n",
       "4               75  \n",
       "...            ...  \n",
       "27476           77  \n",
       "27477          122  \n",
       "27478          111  \n",
       "27479           27  \n",
       "27480           62  \n",
       "\n",
       "[27480 rows x 5 columns]"
      ]
     },
     "execution_count": 19,
     "metadata": {},
     "output_type": "execute_result"
    }
   ],
   "source": [
    "df"
   ]
  },
  {
   "cell_type": "code",
   "execution_count": 21,
   "metadata": {},
   "outputs": [
    {
     "data": {
      "image/png": "[encoded data removed]",
      "text/plain": [
       "<Figure size 1000x600 with 1 Axes>"
      ]
     },
     "metadata": {},
     "output_type": "display_data"
    }
   ],
   "source": [
    "plt.figure(figsize=(10, 6))\n",
    "sns.histplot(df['text_length'], bins=15, kde=True)\n",
    "plt.title('Розподіл кількості символів у текстах')\n",
    "plt.xlabel('Кількість символів')\n",
    "plt.ylabel('Кількість текстів')\n",
    "plt.show()"
   ]
  },
  {
   "cell_type": "markdown",
   "metadata": {},
   "source": [
    "Найбільше текстів з довжиною 30-60 символів"
   ]
  },
  {
   "cell_type": "markdown",
   "metadata": {
    "id": "KfiU4hNDWncB"
   },
   "source": [
    "### Завдання 3. Попередня обробка текстових даних та векторизація з bag of words\n",
    "\n",
    "\n",
    "Наша задача тут отримати вектори методом bag of words колонки `text`, виконавши попередню обробку тексту.\n",
    "Попередня обробка має включати\n",
    "- видалення stopwords необхідної мови\n",
    "- токенізація (розбиття текстів на фрагменти по 1 слову)\n",
    "- стеммінг слів зі `SnowballStemmer`.\n",
    "- самостійно задайте кількість слів в словнику для `sklearn.feature_extraction.text.CountVectorizer`. Можливо для цього доведеться виконати додатковий аналіз.\n",
    "\n",
    "Ви також можете додати сюди додаткові методи очистки текстів, наприклад, видалення деяких символів чи груп символів, якщо в процесі роботи побачите, що хочете щось видалити.\n",
    "\n",
    "Напишіть код аби виконати це завдання. Перед цим рекомендую детально ознайомитись з тим, що робить обʼєкт `sklearn.feature_extraction.text.CountVectorizer` за замовченням.\n",
    "\n",
    "Це завдання можна виконати двома способами - один - максимально подібно до того, як ми це робили в лекції, другий - дещо інакше перегрупувавши етапи обробки тексту.\n",
    "\n",
    "\n"
   ]
  },
  {
   "cell_type": "code",
   "execution_count": 31,
   "metadata": {},
   "outputs": [],
   "source": [
    "# nltk.download('stopwords')\n",
    "stop_words = set(stopwords.words('english'))\n",
    "stemmer = SnowballStemmer(language='english')"
   ]
  },
  {
   "cell_type": "code",
   "execution_count": 27,
   "metadata": {},
   "outputs": [],
   "source": [
    "def preprocess_text(text):\n",
    "    text = re.sub(r'\\W+', ' ', text)\n",
    "    tokens = word_tokenize(text.lower())\n",
    "    tokens = [stemmer.stem(word) for word in tokens if word not in stop_words]\n",
    "    return ' '.join(tokens)"
   ]
  },
  {
   "cell_type": "code",
   "execution_count": 30,
   "metadata": {},
   "outputs": [],
   "source": [
    "# nltk.download('punkt')\n",
    "df['processed_text'] = df['text'].apply(preprocess_text)"
   ]
  },
  {
   "cell_type": "code",
   "execution_count": 33,
   "metadata": {},
   "outputs": [
    {
     "name": "stdout",
     "output_type": "stream",
     "text": [
      "Топ 100 слів за частотою:\n",
      "        word  frequency\n",
      "6208     day       2451\n",
      "8845      go       2383\n",
      "8688     get       1916\n",
      "8891    good       1599\n",
      "20804   work       1529\n",
      "...      ...        ...\n",
      "8755    girl        304\n",
      "17490   soon        303\n",
      "19845    use        302\n",
      "9666     hey        299\n",
      "11781  littl        298\n",
      "\n",
      "[100 rows x 2 columns]\n",
      "Загальна кількість унікальних слів: 21454\n"
     ]
    }
   ],
   "source": [
    "# Використовуємо CountVectorizer без обмеження кількості слів\n",
    "vectorizer = CountVectorizer()\n",
    "X = vectorizer.fit_transform(df['processed_text'])\n",
    "\n",
    "# Підрахуємо частоту кожного слова\n",
    "word_freq = X.toarray().sum(axis=0)\n",
    "vocab = vectorizer.get_feature_names_out()\n",
    "\n",
    "word_freq_df = pd.DataFrame({'word': vocab, 'frequency': word_freq})\n",
    "word_freq_df = word_freq_df.sort_values(by='frequency', ascending=False)\n",
    "\n",
    "print(\"Топ 100 слів за частотою:\")\n",
    "print(word_freq_df.head(100))\n",
    "\n",
    "print(f\"Загальна кількість унікальних слів: {len(vocab)}\")"
   ]
  },
  {
   "cell_type": "code",
   "execution_count": 34,
   "metadata": {},
   "outputs": [
    {
     "name": "stdout",
     "output_type": "stream",
     "text": [
      "Словник з обмеженням до 500 слів:\n",
      "['10' '30' '4th' 'abl' 'account' 'actual' 'ago' 'ah' 'almost' 'alon'\n",
      " 'alreadi' 'also' 'alway' 'amaz' 'anoth' 'anymor' 'anyon' 'anyth' 'anyway'\n",
      " 'app' 'around' 'ask' 'aw' 'awak' 'away' 'awesom' 'aww' 'awww' 'babi'\n",
      " 'back' 'bad' 'bank' 'beach' 'beauti' 'bed' 'believ' 'best' 'better' 'big'\n",
      " 'birthday' 'bit' 'bless' 'blip' 'blog' 'boo' 'book' 'bore' 'bought'\n",
      " 'bout' 'boy' 'break' 'breakfast' 'bring' 'broke' 'brother' 'btw' 'busi'\n",
      " 'buy' 'cake' 'call' 'came' 'cant' 'car' 'card' 'care' 'cat' 'catch'\n",
      " 'caus' 'chang' 'check' 'chocol' 'citi' 'class' 'clean' 'close' 'coffe'\n",
      " 'cold' 'com' 'come' 'complet' 'comput' 'concert' 'cool' 'could' 'coupl'\n",
      " 'crazi' 'cri' 'cut' 'cute' 'cuz' 'dad' 'danc' 'date' 'day' 'dead' 'dear'\n",
      " 'definit' 'didnt' 'die' 'differ' 'dinner' 'dog' 'done' 'dont' 'dream'\n",
      " 'drink' 'drive' 'dude' 'earli' 'eat' 'either' 'els' 'email' 'end' 'enjoy'\n",
      " 'enough' 'episod' 'even' 'ever' 'everi' 'everyon' 'everyth' 'exam'\n",
      " 'excit' 'eye' 'face' 'facebook' 'fail' 'fair' 'fall' 'famili' 'fan' 'far'\n",
      " 'favorit' 'feel' 'figur' 'final' 'find' 'fine' 'finger' 'finish' 'first'\n",
      " 'fix' 'fm' 'follow' 'food' 'forget' 'forgot' 'forward' 'found' 'free'\n",
      " 'friday' 'friend' 'full' 'fun' 'funni' 'game' 'gave' 'get' 'girl' 'give'\n",
      " 'glad' 'go' 'god' 'goe' 'goin' 'gon' 'gone' 'good' 'goodnight' 'got'\n",
      " 'graduat' 'great' 'guess' 'guy' 'ha' 'haha' 'hahaha' 'hair' 'half' 'hand'\n",
      " 'hang' 'happen' 'happi' 'hard' 'hate' 'head' 'headach' 'hear' 'heard'\n",
      " 'heart' 'hehe' 'hell' 'hello' 'help' 'hey' 'hi' 'high' 'hit' 'holiday'\n",
      " 'home' 'hope' 'hot' 'hour' 'hous' 'http' 'hug' 'hungri' 'hurt' 'ice'\n",
      " 'idea' 'ill' 'im' 'instead' 'interest' 'internet' 'iphon' 'job' 'join'\n",
      " 'june' 'keep' 'kid' 'kill' 'kind' 'kinda' 'know' 'la' 'ladi' 'last'\n",
      " 'late' 'later' 'laugh' 'learn' 'least' 'leav' 'left' 'less' 'let' 'life'\n",
      " 'like' 'lil' 'link' 'list' 'listen' 'littl' 'live' 'lmao' 'lol' 'long'\n",
      " 'look' 'lost' 'lot' 'love' 'luck' 'lucki' 'lunch' 'ly' 'made' 'make'\n",
      " 'man' 'mani' 'may' 'mayb' 'mean' 'meet' 'messag' 'might' 'min' 'mind'\n",
      " 'mine' 'minut' 'miss' 'mom' 'moment' 'mommi' 'monday' 'money' 'month'\n",
      " 'morn' 'mother' 'move' 'movi' 'much' 'mum' 'music' 'must' 'na' 'name'\n",
      " 'near' 'need' 'never' 'new' 'news' 'next' 'nice' 'night' 'nite' 'noth'\n",
      " 'offic' 'oh' 'ok' 'okay' 'old' 'omg' 'one' 'onlin' 'open' 'outsid' 'pack'\n",
      " 'page' 'pain' 'park' 'part' 'parti' 'pass' 'past' 'peopl' 'perfect'\n",
      " 'person' 'phone' 'photo' 'pic' 'pick' 'pictur' 'place' 'plan' 'play'\n",
      " 'pleas' 'plurk' 'point' 'poor' 'post' 'pretti' 'probabl' 'problem' 'put'\n",
      " 'quit' 'rain' 'read' 'readi' 'real' 'realli' 'reason' 'relax' 'rememb'\n",
      " 'repli' 'rest' 'ride' 'right' 'rock' 'room' 'run' 'sad' 'said' 'saturday'\n",
      " 'save' 'saw' 'say' 'school' 'season' 'second' 'see' 'seem' 'seen' 'send'\n",
      " 'serious' 'set' 'share' 'shop' 'short' 'show' 'shower' 'sick' 'sigh'\n",
      " 'sign' 'sinc' 'sing' 'sit' 'site' 'sleep' 'smile' 'someon' 'someth'\n",
      " 'sometim' 'song' 'soo' 'soon' 'sooo' 'soooo' 'sore' 'sorri' 'sound'\n",
      " 'special' 'spend' 'star' 'start' 'stay' 'still' 'stop' 'stuck' 'studi'\n",
      " 'stuff' 'stupid' 'suck' 'summer' 'sun' 'sunday' 'super' 'suppos' 'sure'\n",
      " 'sweet' 'ta' 'take' 'talk' 'tea' 'tell' 'test' 'text' 'thank' 'that'\n",
      " 'thing' 'think' 'tho' 'though' 'thought' 'ticket' 'til' 'till' 'time'\n",
      " 'tinyurl' 'tire' 'today' 'told' 'tomorrow' 'tonight' 'took' 'top' 'total'\n",
      " 'tour' 'train' 'trek' 'tri' 'trip' 'true' 'turn' 'tv' 'tweet' 'twitpic'\n",
      " 'twitter' 'two' 'ugh' 'updat' 'ur' 'us' 'use' 'video' 'vote' 'wait'\n",
      " 'wake' 'walk' 'wan' 'want' 'war' 'watch' 'water' 'way' 'wear' 'weather'\n",
      " 'wed' 'week' 'weekend' 'welcom' 'well' 'went' 'whole' 'win' 'window'\n",
      " 'wish' 'without' 'woke' 'wonder' 'wont' 'word' 'work' 'world' 'worri'\n",
      " 'would' 'wow' 'write' 'wrong' 'www' 'ya' 'yay' 'yea' 'yeah' 'year' 'yes'\n",
      " 'yesterday' 'yet' 'youtub']\n"
     ]
    }
   ],
   "source": [
    "vectorizer = CountVectorizer(max_features=500)\n",
    "\n",
    "X = vectorizer.fit_transform(df['processed_text'])\n",
    "\n",
    "print(\"Словник з обмеженням до 500 слів:\")\n",
    "print(vectorizer.get_feature_names_out())"
   ]
  },
  {
   "cell_type": "code",
   "execution_count": 45,
   "metadata": {},
   "outputs": [
    {
     "data": {
      "text/plain": [
       "<27480x500 sparse matrix of type '<class 'numpy.int64'>'\n",
       "\twith 117101 stored elements in Compressed Sparse Row format>"
      ]
     },
     "execution_count": 45,
     "metadata": {},
     "output_type": "execute_result"
    }
   ],
   "source": [
    "X"
   ]
  },
  {
   "cell_type": "markdown",
   "metadata": {
    "id": "v0RHDwO7OBIJ"
   },
   "source": [
    "### Завдання 4. Побудова класифікатора\n",
    "\n",
    "- Розділіть індекси даних на навчальний та тестовий набори в обраному співвівдношенні. Використовуючи отримані індекси сфомуйте набори для тренування класифікатора `X_train_bow, X_test_bow, y_train, y_test`.\n",
    "- Навчіть класифікатор (наприклад, Logistic Regression, Decision Tree або один з алгоритмів бустингу) на даних, векторизованих методом bag-of-words. Спробуйте кілька моделей і оберіть найбільш точну :)\n",
    "- Виведіть інформацію, яка дає можливість оцінити якість класифікації.\n",
    "- Оцініть якість фінальної класифікації: вона хороша чи не дуже?\n",
    "\n"
   ]
  },
  {
   "cell_type": "code",
   "execution_count": 38,
   "metadata": {
    "id": "NVdpanFFdkyo"
   },
   "outputs": [],
   "source": [
    "y = df['sentiment']\n",
    "X_train_bow, X_test_bow, y_train, y_test = train_test_split(X, y, test_size=0.2, random_state=42)\n",
    "\n",
    "#Logistic Regression\n",
    "logreg = LogisticRegression(max_iter=1000)\n",
    "logreg.fit(X_train_bow, y_train)\n",
    "y_pred_logreg = logreg.predict(X_test_bow)\n",
    "\n",
    "#Decision Tree\n",
    "tree = DecisionTreeClassifier()\n",
    "tree.fit(X_train_bow, y_train)\n",
    "y_pred_tree = tree.predict(X_test_bow)\n",
    "\n",
    "#Gradient Boosting\n",
    "gb = GradientBoostingClassifier()\n",
    "gb.fit(X_train_bow, y_train)\n",
    "y_pred_gb = gb.predict(X_test_bow)"
   ]
  },
  {
   "cell_type": "code",
   "execution_count": 44,
   "metadata": {},
   "outputs": [
    {
     "name": "stdout",
     "output_type": "stream",
     "text": [
      "Logistic Regression:\n",
      "Accuracy: 0.6774017467248908\n",
      "Звіт про класифікацію:\n",
      "               precision    recall  f1-score   support\n",
      "\n",
      "    negative       0.71      0.52      0.60      1572\n",
      "     neutral       0.62      0.76      0.68      2236\n",
      "    positive       0.76      0.71      0.74      1688\n",
      "\n",
      "    accuracy                           0.68      5496\n",
      "   macro avg       0.70      0.67      0.67      5496\n",
      "weighted avg       0.69      0.68      0.68      5496\n",
      "\n",
      "\n",
      "Decision Tree:\n",
      "Accuracy: 0.5946142649199417\n",
      "Звіт про класифікацію:\n",
      "               precision    recall  f1-score   support\n",
      "\n",
      "    negative       0.54      0.58      0.56      1572\n",
      "     neutral       0.59      0.58      0.59      2236\n",
      "    positive       0.66      0.62      0.64      1688\n",
      "\n",
      "    accuracy                           0.59      5496\n",
      "   macro avg       0.60      0.60      0.60      5496\n",
      "weighted avg       0.60      0.59      0.60      5496\n",
      "\n",
      "\n",
      "Gradient Boosting:\n",
      "Accuracy: 0.6602983988355168\n",
      "Звіт про класифікацію:\n",
      "               precision    recall  f1-score   support\n",
      "\n",
      "    negative       0.77      0.43      0.55      1572\n",
      "     neutral       0.58      0.83      0.68      2236\n",
      "    positive       0.78      0.66      0.71      1688\n",
      "\n",
      "    accuracy                           0.66      5496\n",
      "   macro avg       0.71      0.64      0.65      5496\n",
      "weighted avg       0.69      0.66      0.65      5496\n",
      "\n",
      "\n",
      "Confusion Matrix для Logistic Regression:\n",
      "[[ 825  636  111]\n",
      " [ 274 1696  266]\n",
      " [  65  421 1202]]\n"
     ]
    }
   ],
   "source": [
    "print(\"Logistic Regression:\")\n",
    "print(f\"Accuracy: {accuracy_score(y_test, y_pred_logreg)}\")\n",
    "print(\"Звіт про класифікацію:\\n\", classification_report(y_test, y_pred_logreg))\n",
    "\n",
    "print(\"\\nDecision Tree:\")\n",
    "print(f\"Accuracy: {accuracy_score(y_test, y_pred_tree)}\")\n",
    "print(\"Звіт про класифікацію:\\n\", classification_report(y_test, y_pred_tree))\n",
    "\n",
    "print(\"\\nGradient Boosting:\")\n",
    "print(f\"Accuracy: {accuracy_score(y_test, y_pred_gb)}\")\n",
    "print(\"Звіт про класифікацію:\\n\", classification_report(y_test, y_pred_gb))\n",
    "\n",
    "best_model = logreg\n",
    "print(\"\\nConfusion Matrix для Logistic Regression:\")\n",
    "print(confusion_matrix(y_test, y_pred_logreg))"
   ]
  },
  {
   "cell_type": "markdown",
   "metadata": {},
   "source": [
    "Бачимо, що найбільшу якість має логістична регресія, яка має точність приблизно 68%."
   ]
  },
  {
   "cell_type": "markdown",
   "metadata": {
    "id": "53hZa4bKP5Cx"
   },
   "source": [
    "### Завдання 5. Аналіз впливовості слів в отриманого класифікатора\n",
    "\n",
    "- Для обраної вами моделі проведіть аналіз важливості слів (ознак): які слова (токени) найбільше впливають для визначення сентименту? Чи це логічно на ваш погляд, що саме ці символи впливають найбільше/найменще?\n"
   ]
  },
  {
   "cell_type": "code",
   "execution_count": 47,
   "metadata": {
    "id": "z0YBHvG4dmKb"
   },
   "outputs": [
    {
     "data": {
      "text/plain": [
       "sad       2.385295\n",
       "suck      2.152784\n",
       "hate      2.117799\n",
       "bore      2.038296\n",
       "sorri     2.029550\n",
       "            ...   \n",
       "thank    -1.795110\n",
       "cute     -1.880905\n",
       "love     -1.919394\n",
       "glad     -2.173379\n",
       "awesom   -2.396141\n",
       "Name: imp, Length: 500, dtype: float64"
      ]
     },
     "execution_count": 47,
     "metadata": {},
     "output_type": "execute_result"
    }
   ],
   "source": [
    "feature_importance = pd.Series(logreg.coef_[0], index=vectorizer.get_feature_names_out(), name='imp').sort_values(ascending=False)\n",
    "feature_importance"
   ]
  },
  {
   "cell_type": "code",
   "execution_count": 49,
   "metadata": {},
   "outputs": [
    {
     "data": {
      "text/plain": [
       "sad        2.385295\n",
       "suck       2.152784\n",
       "hate       2.117799\n",
       "bore       2.038296\n",
       "sorri      2.029550\n",
       "fail       2.019667\n",
       "poor       1.921175\n",
       "stupid     1.815101\n",
       "hurt       1.782839\n",
       "miss       1.775927\n",
       "headach    1.723900\n",
       "sick       1.709121\n",
       "tire       1.557354\n",
       "wrong      1.495569\n",
       "pain       1.468897\n",
       "cri        1.426109\n",
       "ugh        1.328613\n",
       "broke      1.300825\n",
       "bad        1.260683\n",
       "stuck      1.254279\n",
       "Name: imp, dtype: float64"
      ]
     },
     "execution_count": 49,
     "metadata": {},
     "output_type": "execute_result"
    }
   ],
   "source": [
    "feature_importance[:20]"
   ]
  },
  {
   "cell_type": "markdown",
   "metadata": {},
   "source": [
    "В цілому, більшість слів, які ми бачимо на горі дійсно вживається для вираження негативного настрою, тому цей список виглядає логічно"
   ]
  },
  {
   "cell_type": "code",
   "execution_count": 50,
   "metadata": {},
   "outputs": [
    {
     "data": {
      "text/plain": [
       "beauti   -1.454574\n",
       "enjoy    -1.499484\n",
       "smile    -1.587582\n",
       "welcom   -1.744942\n",
       "amaz     -1.761365\n",
       "thank    -1.795110\n",
       "cute     -1.880905\n",
       "love     -1.919394\n",
       "glad     -2.173379\n",
       "awesom   -2.396141\n",
       "Name: imp, dtype: float64"
      ]
     },
     "execution_count": 50,
     "metadata": {},
     "output_type": "execute_result"
    }
   ],
   "source": [
    "feature_importance[-10:]"
   ]
  },
  {
   "cell_type": "markdown",
   "metadata": {},
   "source": [
    "Тут така сама ситуація, ці слова виглядають дуже комплементарно і означають позитивний настрій."
   ]
  },
  {
   "cell_type": "markdown",
   "metadata": {
    "id": "FvJlvr9JRhzq"
   },
   "source": [
    "### Завдання 6. Векторизація текстів з допомогою TF-IDF. Тренування класифікатора, аналіз точності і впливовості слів.\n",
    "\n",
    "- Проведіть векторизацію текстів з векторизатором TfidfVectorizer. Реалізуйте векторизацію так, аби препроцесинг включав всі ті самі кроки, що і в випадку використання векторизації Bag of Words.\n",
    "\n",
    "- Натренуйте той самий класифікатор на TF-IDF векторах, виконавши розбивку набору даних на train, test так, аби в трейні були всі ті самі записи, що і були в попередньому завданні (це важливо для порівняння результатів).\n",
    "\n",
    "- Проаналізуйте якість класифікації вивівши потрібні для цього метрики. Чи стала якість класифікації кращою?\n",
    "\n",
    "- Які токени найбільше впливають на результат при тренуваннні класифікатора з TF-IDF векторами? Порівняйте з найважливішими токенами при Bag of Words векторизації. Яку векторизацію ви б обрали для фінальної імплементації рішення? Обґрунтуйте свій вибір.\n",
    "\n"
   ]
  },
  {
   "cell_type": "code",
   "execution_count": null,
   "metadata": {
    "id": "huUPpVhMdodx"
   },
   "outputs": [],
   "source": []
  },
  {
   "cell_type": "markdown",
   "metadata": {
    "id": "3zsp9KftOqyS"
   },
   "source": [
    "### Завдання 7. Аналіз помилок класифікації з векторизацією TF-IDF.\n",
    "\n",
    "- Проаналізуйте, на яких екземплярах помиляється класифікатор при векторизації TF-IDF.\n",
    "- На основі аналізу запропонуйте 3 шляхи поліпшення якості класифікації."
   ]
  },
  {
   "cell_type": "code",
   "execution_count": null,
   "metadata": {
    "id": "RbnvtiL8Y-D-"
   },
   "outputs": [],
   "source": []
  },
  {
   "cell_type": "markdown",
   "metadata": {
    "id": "lFi4VWwjRS3h"
   },
   "source": [
    "І на фінал кернел для натхнення і ознайомлення з рішенням оригінальної задачі. Багато цікавих візуалізацій і аналізу є тут, а також тут розвʼязується саме проблема named entitty recognition і можна ознайомитись як це робиться - вона дещо складніша по своїй суті ніж класифікація, подумайте, чому:\n",
    "\n",
    "https://www.kaggle.com/code/tanulsingh077/twitter-sentiment-extaction-analysis-eda-and-model"
   ]
  }
 ],
 "metadata": {
  "colab": {
   "provenance": []
  },
  "kernelspec": {
   "display_name": "Python 3 (ipykernel)",
   "language": "python",
   "name": "python3"
  },
  "language_info": {
   "codemirror_mode": {
    "name": "ipython",
    "version": 3
   },
   "file_extension": ".py",
   "mimetype": "text/x-python",
   "name": "python",
   "nbconvert_exporter": "python",
   "pygments_lexer": "ipython3",
   "version": "3.9.13"
  }
 },
 "nbformat": 4,
 "nbformat_minor": 1
}
