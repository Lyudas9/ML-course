{
 "cells": [
  {
   "cell_type": "markdown",
   "metadata": {
    "id": "efug1V4CM0lT"
   },
   "source": [
    "### Завдання 1: Створення матриць та векторів\n",
    "1. Створіть `numpy` вектор `vector` розмірністю 10 з випадковими дійсними значеннями в діапазоні від 0 до 1. Можна скористатись двома альтернативними варіантами:\n",
    "  1. Генерація випадкових чисел з модулем [`random.uniform`](https://docs.python.org/3/library/random.html).\n",
    "  2. Створення вектора з допомогою метода `numpy` [np.random.rand](https://numpy.org/doc/stable/reference/random/generated/numpy.random.rand.html)\n",
    "\n",
    "2. Створіть матрицю `matrix` типу `numpy.array` розмірності 3x3 з наступними значеннями\n",
    "\n",
    "  $$\n",
    "  matrix = \\begin{bmatrix}\n",
    "  11 & 14 & 17 \\\\\n",
    "  20 & 23 & 26 \\\\\n",
    "  29 & 32 & 35\n",
    "  \\end{bmatrix}\n",
    "  $$\n",
    "\n",
    "  будь-яким відомими Вам способом.\n",
    "\n",
    "Виведіть на екран вектор і матрицю, а також їх розміри.\n"
   ]
  },
  {
   "cell_type": "code",
   "execution_count": 1,
   "metadata": {
    "id": "jxA_lG2_VIMe"
   },
   "outputs": [],
   "source": [
    "import numpy as np"
   ]
  },
  {
   "cell_type": "code",
   "execution_count": 54,
   "metadata": {},
   "outputs": [
    {
     "name": "stdout",
     "output_type": "stream",
     "text": [
      "Вектор-стовпець v:\n",
      "[[0.62142274]\n",
      " [0.0225839 ]\n",
      " [0.62214795]\n",
      " [0.0417993 ]\n",
      " [0.1960567 ]\n",
      " [0.93593359]\n",
      " [0.0450232 ]\n",
      " [0.108293  ]\n",
      " [0.3036053 ]\n",
      " [0.33487224]] \n",
      "\n",
      "Розмір вектору v: (10, 1)\n",
      "\n",
      "Матриця A:\n",
      "[[11 14 17]\n",
      " [20 23 26]\n",
      " [29 32 35]] \n",
      "\n",
      "Розмір матриці A: (3, 3)\n"
     ]
    }
   ],
   "source": [
    "# Створення вектора-стовпця v\n",
    "v = np.random.rand(10, 1)\n",
    "\n",
    "# Створення матриці A\n",
    "A = np.array([[11, 14, 17],\n",
    "              [20, 23, 26],\n",
    "              [29, 32, 35]])\n",
    "\n",
    "print(\"Вектор-стовпець v:\")\n",
    "print(v, \"\\n\")\n",
    "print(f\"Розмір вектору v: {v.shape}\")\n",
    "print(\"\\nМатриця A:\")\n",
    "print(A, \"\\n\")\n",
    "print(f\"Розмір матриці A: {A.shape}\")"
   ]
  },
  {
   "cell_type": "markdown",
   "metadata": {
    "id": "TSJ1P4OuOVe2"
   },
   "source": [
    "\n",
    "### Завдання 2: Операції над векторами та матрицями\n",
    "Виконайте кожну з зазначених операцій над зазначеними оʼєктами і виведіть результат на екран:\n",
    "1. Додайте до кожного значення вектора `vector` число 10 і округліть кожне значення до 2 знаків після коми без використання циклів.\n",
    "2. Помножте кожен елемент матриці з першого завдання на 2 без використання циклів.\n",
    "3. Створіть новий вектор, який містить квадрат кожного `vector` без циклів.\n"
   ]
  },
  {
   "cell_type": "code",
   "execution_count": 38,
   "metadata": {
    "id": "nAAojtyUVJXN"
   },
   "outputs": [
    {
     "name": "stdout",
     "output_type": "stream",
     "text": [
      "Вектор-стовпець v+10 округлений до двох значень після коми:\n",
      "[[10.43]\n",
      " [10.66]\n",
      " [10.24]\n",
      " [10.84]\n",
      " [10.15]\n",
      " [10.21]\n",
      " [10.16]\n",
      " [10.95]\n",
      " [10.85]\n",
      " [10.37]]\n"
     ]
    }
   ],
   "source": [
    "print(\"Вектор-стовпець v+10 округлений до двох значень після коми:\")\n",
    "print(np.round(v+10, 2))"
   ]
  },
  {
   "cell_type": "code",
   "execution_count": 37,
   "metadata": {},
   "outputs": [
    {
     "name": "stdout",
     "output_type": "stream",
     "text": [
      "Матриця A помножена на два:\n",
      "[[0.36 1.06]\n",
      " [1.5  0.94]\n",
      " [0.7  0.42]]\n"
     ]
    }
   ],
   "source": [
    "print(\"Матриця A помножена на два:\")\n",
    "print(A*2)"
   ]
  },
  {
   "cell_type": "code",
   "execution_count": 29,
   "metadata": {},
   "outputs": [
    {
     "name": "stdout",
     "output_type": "stream",
     "text": [
      "Вектор-стовпець v у квадраті:\n",
      "[[0.1851061 ]\n",
      " [0.42945034]\n",
      " [0.05720851]\n",
      " [0.70484139]\n",
      " [0.02145344]\n",
      " [0.0459845 ]\n",
      " [0.02515956]\n",
      " [0.90158885]\n",
      " [0.72396187]\n",
      " [0.13910981]]\n"
     ]
    }
   ],
   "source": [
    "print(\"Вектор-стовпець v у квадраті:\")\n",
    "print(v**2)"
   ]
  },
  {
   "cell_type": "markdown",
   "metadata": {
    "id": "u6RvWVfhPy-k"
   },
   "source": [
    "\n",
    "### Завдання 3: Множення матриць\n",
    "1. Задані дві матриці `A` і `B`розмірностями 3x2 та 2х3. Виконайте їхнє множення, щоб отримати матрицю 2x2. Виведіть результуючу матрицю `result_matrix` на екран.\n",
    "\n",
    "2. Заданий вектор `C` розмірністю 2х1. Подумайте спочатку, яку розмірність Ви отрмаєте, коли домножите `result_matrix` на вектор `C` і який результат буде. А потім виконайте множення і виведіть результат на екран.\n",
    "\n",
    "3. Задана матриця `D` розмірністю 2х2. Подумайте спочатку, яку розмірність Ви отрмаєте, коли домножите `result_matrix` на матрицю `D` і який результат буде. А потім виконайте множення і виведіть результат на екран."
   ]
  },
  {
   "cell_type": "code",
   "execution_count": 31,
   "metadata": {
    "id": "RwXfPzlbSJ44"
   },
   "outputs": [
    {
     "data": {
      "text/plain": [
       "array([[0.18, 0.53],\n",
       "       [0.75, 0.47],\n",
       "       [0.35, 0.21]])"
      ]
     },
     "metadata": {},
     "output_type": "display_data"
    },
    {
     "data": {
      "text/plain": [
       "array([[0.17, 0.58, 0.75],\n",
       "       [0.38, 0.11, 0.15]])"
      ]
     },
     "metadata": {},
     "output_type": "display_data"
    },
    {
     "data": {
      "text/plain": [
       "array([[0],\n",
       "       [1]])"
      ]
     },
     "metadata": {},
     "output_type": "display_data"
    },
    {
     "data": {
      "text/plain": [
       "array([[0, 1],\n",
       "       [1, 0]])"
      ]
     },
     "metadata": {},
     "output_type": "display_data"
    }
   ],
   "source": [
    "A = np.array(\n",
    "    [[0.18, 0.53],\n",
    "     [0.75, 0.47],\n",
    "     [0.35, 0.21]])\n",
    "\n",
    "B = np.array(\n",
    "    [[0.17, 0.58, 0.75],\n",
    "     [0.38, 0.11, 0.15]])\n",
    "\n",
    "C = np.array([[0], [1]])\n",
    "\n",
    "D = np.array([[0,1], [1,0]])\n",
    "\n",
    "display(A, B, C, D)"
   ]
  },
  {
   "cell_type": "code",
   "execution_count": 40,
   "metadata": {
    "id": "z7-boTbhVKkj"
   },
   "outputs": [
    {
     "name": "stdout",
     "output_type": "stream",
     "text": [
      "Результат множення матриці B на A:\n",
      "[[0.7281 0.5202]\n",
      " [0.2034 0.2846]]\n"
     ]
    }
   ],
   "source": [
    "result_matrix = np.dot(B, A)\n",
    "\n",
    "print(\"Результат множення матриці B на A:\")\n",
    "print(result_matrix)"
   ]
  },
  {
   "cell_type": "code",
   "execution_count": 41,
   "metadata": {},
   "outputs": [
    {
     "name": "stdout",
     "output_type": "stream",
     "text": [
      "Результат множення результуючої матриці на С:\n",
      "[[0.5202]\n",
      " [0.2846]]\n"
     ]
    }
   ],
   "source": [
    "print(\"Результат множення результуючої матриці на С:\")\n",
    "print(np.dot(result_matrix, C))"
   ]
  },
  {
   "cell_type": "code",
   "execution_count": 42,
   "metadata": {},
   "outputs": [
    {
     "name": "stdout",
     "output_type": "stream",
     "text": [
      "Результат множення результуючої матриці на D:\n",
      "[[0.5202 0.7281]\n",
      " [0.2846 0.2034]]\n"
     ]
    }
   ],
   "source": [
    "print(\"Результат множення результуючої матриці на D:\")\n",
    "print(np.dot(result_matrix, D))"
   ]
  },
  {
   "cell_type": "markdown",
   "metadata": {
    "id": "wohp0_cxSGpl"
   },
   "source": [
    "\n",
    "### Завдання 4: Транспонування матриць\n",
    "1. Транспонуйте `result_matrix`.\n",
    "2. Зробіть транспонування вектора `vector` і виведіть форму нової структури. Чи бачите ви зміну?\n",
    "3. Використайте операцію `numpy.expand_dims` над вектором `vector` з аргументом axis=1. Запишіть отриманий результат в змінну `column_vector` і виведіть на екран. Порівняйте з `vector`.\n",
    "4. Зробіть транспонування `column_vector`, виведіть результат на екран разом з розмірностями отриманої структури.\n",
    "\n",
    "\n"
   ]
  },
  {
   "cell_type": "code",
   "execution_count": 43,
   "metadata": {
    "id": "4hFcq1baVLii"
   },
   "outputs": [
    {
     "data": {
      "text/plain": [
       "array([[0.7281, 0.2034],\n",
       "       [0.5202, 0.2846]])"
      ]
     },
     "execution_count": 43,
     "metadata": {},
     "output_type": "execute_result"
    }
   ],
   "source": [
    "# Транспонуйте result_matrix\n",
    "result_matrix.T"
   ]
  },
  {
   "cell_type": "code",
   "execution_count": 55,
   "metadata": {},
   "outputs": [
    {
     "name": "stdout",
     "output_type": "stream",
     "text": [
      "vector_T [[0.62142274 0.0225839  0.62214795 0.0417993  0.1960567  0.93593359\n",
      "  0.0450232  0.108293   0.3036053  0.33487224]] \n",
      "\n",
      "column_vector v\n",
      " (1, 10) \n",
      "\n"
     ]
    }
   ],
   "source": [
    "# Зробіть транспонування вектора vector\n",
    "v.T\n",
    "print(\"vector_T\", v.T, \"\\n\")\n",
    "print(\"column_vector v\\n\", v.T.shape, \"\\n\")"
   ]
  },
  {
   "cell_type": "markdown",
   "metadata": {},
   "source": [
    "Результат помітно тільки якщо дивитись на форму вектора, тепе у ньому 1 рядок і 10 колонок, замість 10 рядків і однієї колонки."
   ]
  },
  {
   "cell_type": "code",
   "execution_count": 58,
   "metadata": {},
   "outputs": [
    {
     "name": "stdout",
     "output_type": "stream",
     "text": [
      "vector v\n",
      " [[0.62142274]\n",
      " [0.0225839 ]\n",
      " [0.62214795]\n",
      " [0.0417993 ]\n",
      " [0.1960567 ]\n",
      " [0.93593359]\n",
      " [0.0450232 ]\n",
      " [0.108293  ]\n",
      " [0.3036053 ]\n",
      " [0.33487224]] \n",
      "\n",
      "vector v shape\n",
      " (10, 1) \n",
      "\n",
      "column_vector v\n",
      " [[[0.62142274]]\n",
      "\n",
      " [[0.0225839 ]]\n",
      "\n",
      " [[0.62214795]]\n",
      "\n",
      " [[0.0417993 ]]\n",
      "\n",
      " [[0.1960567 ]]\n",
      "\n",
      " [[0.93593359]]\n",
      "\n",
      " [[0.0450232 ]]\n",
      "\n",
      " [[0.108293  ]]\n",
      "\n",
      " [[0.3036053 ]]\n",
      "\n",
      " [[0.33487224]]] \n",
      "\n",
      "column_vector v shape\n",
      " (10, 1, 1) \n",
      "\n"
     ]
    }
   ],
   "source": [
    "# Використайте операцію numpy.expand_dims над вектором vector з аргументом axis=1\n",
    "column_vector = np.expand_dims(v, axis=1)\n",
    "print(\"vector v\\n\", v, \"\\n\")\n",
    "print(\"vector v shape\\n\", v.shape, \"\\n\")\n",
    "print(\"column_vector v\\n\", column_vector, \"\\n\")\n",
    "print(\"column_vector v shape\\n\", column_vector.shape, \"\\n\")"
   ]
  },
  {
   "cell_type": "markdown",
   "metadata": {},
   "source": [
    "Додали третій вимір в column_vector."
   ]
  },
  {
   "cell_type": "code",
   "execution_count": 59,
   "metadata": {},
   "outputs": [
    {
     "name": "stdout",
     "output_type": "stream",
     "text": [
      "column_vector_T [[[0.62142274 0.0225839  0.62214795 0.0417993  0.1960567  0.93593359\n",
      "   0.0450232  0.108293   0.3036053  0.33487224]]] \n",
      "\n",
      "column_vector v\n",
      " (1, 1, 10) \n",
      "\n"
     ]
    }
   ],
   "source": [
    "# Зробіть транспонування column_vector, виведіть результат на екран разом з розмірностями отриманої структури.\n",
    "\n",
    "column_vector_T = column_vector.T\n",
    "print(\"column_vector_T\", column_vector_T, \"\\n\")\n",
    "print(\"column_vector v\\n\", column_vector_T.shape, \"\\n\")"
   ]
  }
 ],
 "metadata": {
  "colab": {
   "provenance": []
  },
  "kernelspec": {
   "display_name": "Python 3 (ipykernel)",
   "language": "python",
   "name": "python3"
  },
  "language_info": {
   "codemirror_mode": {
    "name": "ipython",
    "version": 3
   },
   "file_extension": ".py",
   "mimetype": "text/x-python",
   "name": "python",
   "nbconvert_exporter": "python",
   "pygments_lexer": "ipython3",
   "version": "3.9.13"
  }
 },
 "nbformat": 4,
 "nbformat_minor": 1
}
